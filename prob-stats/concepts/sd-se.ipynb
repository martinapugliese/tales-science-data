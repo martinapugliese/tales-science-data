{
 "cells": [
  {
   "cell_type": "code",
   "execution_count": 1,
   "metadata": {},
   "outputs": [
    {
     "data": {
      "text/html": [
       "<style>\n",
       "\n",
       "    /* DOWNLOAD COMPUTER MODERN FONT JUST IN CASE */\n",
       "    @font-face {\n",
       "        font-family: \"Computer Modern\";\n",
       "        src: url('http://9dbb143991406a7c655e-aa5fcb0a5a4ec34cff238a2d56ca4144.r56.cf5.rackcdn.com/cmunss.otf');\n",
       "    }\n",
       "    @font-face {\n",
       "        font-family: \"Computer Modern\";\n",
       "        font-weight: bold;\n",
       "        src: url('http://9dbb143991406a7c655e-aa5fcb0a5a4ec34cff238a2d56ca4144.r56.cf5.rackcdn.com/cmunsx.otf');\n",
       "    }\n",
       "    @font-face {\n",
       "        font-family: \"Computer Modern\";\n",
       "        font-style: oblique;\n",
       "        src: url('http://9dbb143991406a7c655e-aa5fcb0a5a4ec34cff238a2d56ca4144.r56.cf5.rackcdn.com/cmunsi.otf');\n",
       "    }\n",
       "    @font-face {\n",
       "        font-family: \"Computer Modern\";\n",
       "        font-weight: bold;\n",
       "        font-style: oblique;\n",
       "        src: url('http://9dbb143991406a7c655e-aa5fcb0a5a4ec34cff238a2d56ca4144.r56.cf5.rackcdn.com/cmunso.otf');\n",
       "    }\n",
       "\n",
       "    /* GLOBAL TEXT FONT */\n",
       "    div#notebook,\n",
       "    div.output_area pre,\n",
       "    div.output_wrapper,\n",
       "    div.prompt {\n",
       "      font-family: Times new Roman, monospace !important;\n",
       "    }\n",
       "\n",
       "    /* CENTER FIGURE */\n",
       "    .output_png {\n",
       "        display: table-cell;\n",
       "        text-align: center;\n",
       "        vertical-align: middle;\n",
       "    }\n",
       "\n",
       "    /* LINK */\n",
       "    a {\n",
       "        color: #FF8000;\n",
       "    }\n",
       "\n",
       "    /* H1 */\n",
       "    h1 {\n",
       "        font-size: 42px !important;\n",
       "        text-align: center;\n",
       "        color: #FF8000;\n",
       "    }\n",
       "\n",
       "    /* H2 */\n",
       "    h2 {\n",
       "        font-size: 32px !important;\n",
       "    }\n",
       "\n",
       "    /* H2 */\n",
       "    h3 {\n",
       "        font-size: 24px !important;\n",
       "    }\n",
       "\n",
       "    /* H2 */\n",
       "    h4 {\n",
       "        font-size: 20px !important;\n",
       "    }\n",
       "\n",
       "    /* PARAGRAPH */\n",
       "    p {\n",
       "        font-size: 16px !important;\n",
       "        text-align: center;\n",
       "    }\n",
       "\n",
       "    /* LIST ITEM */\n",
       "    li {\n",
       "        font-size: 16px !important;\n",
       "    }\n",
       "\n",
       "</style>\n",
       "\n"
      ],
      "text/plain": [
       "<IPython.core.display.HTML object>"
      ]
     },
     "execution_count": 1,
     "metadata": {},
     "output_type": "execute_result"
    }
   ],
   "source": [
    "%run ../../common/import_all.py\n",
    "\n",
    "from common.setup_notebook import set_css_style, setup_matplotlib, config_ipython\n",
    "config_ipython()\n",
    "setup_matplotlib()\n",
    "set_css_style()"
   ]
  },
  {
   "cell_type": "markdown",
   "metadata": {},
   "source": [
    "# Standard Deviation and Standard Error: what's the difference?"
   ]
  },
  {
   "cell_type": "markdown",
   "metadata": {},
   "source": [
    "## What is\n",
    "\n",
    "<img src=\"../../imgs/sesd.jpg\" width=\"300\" align=\"left\"/>\n",
    "\n",
    "Let's say we got a *sample*, that is, a set of data which have been extracted from a *population*, and while the population it has been extracted from has its own distribution, the sample follows a sampling distribution. It is all because we don't have the full population (it is inaccessible!), but its sampled representation.\n",
    "\n",
    "The sample mean is the usual estimator for the population mean, but because different samples extracted from the same population would give different sample means, there is a distribution of sample means. \n",
    "\n",
    "The Standard Error of the mean (typically indicated by *SE*) is defined as the standard deviation of these means. \n",
    "\n",
    "It is usually estimated by the sample estimate of the standard deviation (sample standard deviation, $s$) divided by the square root of the sample size $n$:\n",
    "\n",
    "$$\n",
    "SE = \\frac{s}{\\sqrt{n}} \\ ,\n",
    "$$\n",
    "\n",
    "under the assumption of statistical independence of observations in the sample.\n",
    "\n",
    "If $x_1, \\ldots, x_n$ are observations drawn from a population whose mean and standard deviation are, respectively, $\\mu$ and $\\sigma$, the sample mean is\n",
    "\n",
    "$$\n",
    "m = \\frac{x_1 + \\cdots + x_n}{n} \\ .\n",
    "$$\n",
    "\n",
    "The variance of $m$ is instead\n",
    "\n",
    "$$\n",
    "Var[m] = Var \\left[\\frac{\\sum_i x_i}{n}\\right] = \n",
    "\\frac{1}{n^2} Var\\Big[\\sum_i x_i\\Big] = \\frac{1}{n^2} \\sum_i Var[x_i]\n",
    "= \\frac{1}{n^2} n Var[x_1]\n",
    "= \\frac{1}{n} \\sigma^2 \\ ,\n",
    "$$\n",
    "\n",
    "because each point has the same variance. See [the non-linearity of the variance](../distributions/moments.ipynb#The-variance-is-not-linear) for the details on this calculation.\n",
    "\n",
    "The standard deviation of $m$ is then $\\frac{\\sigma}{\\sqrt{n}}$. \n",
    "\n",
    "Therefore this is the standard deviation of the distribution of the sample means. Because $\\sigma$ is unknown, the standard error uses $s$ as the estimate for $\\sigma$."
   ]
  },
  {
   "cell_type": "markdown",
   "metadata": {},
   "source": [
    "## When to use which\n",
    "\n",
    "The Standard Error tells how far the sample mean is from the population mean.\n",
    "\n",
    "The Standard Deviation tells how much individuals within the sample differ from the sample mean. While SE goes to 0 when $n \\to \\infty$, SD goes to $\\sigma$."
   ]
  },
  {
   "cell_type": "code",
   "execution_count": null,
   "metadata": {
    "collapsed": true
   },
   "outputs": [],
   "source": []
  }
 ],
 "metadata": {
  "kernelspec": {
   "display_name": "Python 3",
   "language": "python",
   "name": "python3"
  },
  "language_info": {
   "codemirror_mode": {
    "name": "ipython",
    "version": 3
   },
   "file_extension": ".py",
   "mimetype": "text/x-python",
   "name": "python",
   "nbconvert_exporter": "python",
   "pygments_lexer": "ipython3",
   "version": "3.6.0"
  }
 },
 "nbformat": 4,
 "nbformat_minor": 2
}
