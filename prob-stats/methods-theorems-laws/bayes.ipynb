{
 "cells": [
  {
   "cell_type": "code",
   "execution_count": 1,
   "metadata": {},
   "outputs": [
    {
     "data": {
      "text/html": [
       "<style>\n",
       "\n",
       "    /* DOWNLOAD COMPUTER MODERN FONT JUST IN CASE */\n",
       "    @font-face {\n",
       "        font-family: \"Computer Modern\";\n",
       "        src: url('http://9dbb143991406a7c655e-aa5fcb0a5a4ec34cff238a2d56ca4144.r56.cf5.rackcdn.com/cmunss.otf');\n",
       "    }\n",
       "    @font-face {\n",
       "        font-family: \"Computer Modern\";\n",
       "        font-weight: bold;\n",
       "        src: url('http://9dbb143991406a7c655e-aa5fcb0a5a4ec34cff238a2d56ca4144.r56.cf5.rackcdn.com/cmunsx.otf');\n",
       "    }\n",
       "    @font-face {\n",
       "        font-family: \"Computer Modern\";\n",
       "        font-style: oblique;\n",
       "        src: url('http://9dbb143991406a7c655e-aa5fcb0a5a4ec34cff238a2d56ca4144.r56.cf5.rackcdn.com/cmunsi.otf');\n",
       "    }\n",
       "    @font-face {\n",
       "        font-family: \"Computer Modern\";\n",
       "        font-weight: bold;\n",
       "        font-style: oblique;\n",
       "        src: url('http://9dbb143991406a7c655e-aa5fcb0a5a4ec34cff238a2d56ca4144.r56.cf5.rackcdn.com/cmunso.otf');\n",
       "    }\n",
       "\n",
       "    /* GLOBAL TEXT FONT */\n",
       "    div#notebook,\n",
       "    div.output_area pre,\n",
       "    div.output_wrapper,\n",
       "    div.prompt {\n",
       "      font-family: Times new Roman, monospace !important;\n",
       "    }\n",
       "\n",
       "    /* CENTER FIGURE */\n",
       "    .output_png {\n",
       "        display: table-cell;\n",
       "        text-align: center;\n",
       "        vertical-align: middle;\n",
       "    }\n",
       "\n",
       "    /* LINK */\n",
       "    a {\n",
       "        color: #FF8000;\n",
       "    }\n",
       "\n",
       "    /* H1 */\n",
       "    h1 {\n",
       "        font-size: 42px !important;\n",
       "        text-align: center;\n",
       "        color: #FF8000;\n",
       "    }\n",
       "\n",
       "    /* H2 */\n",
       "    h2 {\n",
       "        font-size: 32px !important;\n",
       "    }\n",
       "\n",
       "    /* H2 */\n",
       "    h3 {\n",
       "        font-size: 24px !important;\n",
       "    }\n",
       "\n",
       "    /* H2 */\n",
       "    h4 {\n",
       "        font-size: 20px !important;\n",
       "    }\n",
       "\n",
       "    /* PARAGRAPH */\n",
       "    p {\n",
       "        font-size: 16px !important;\n",
       "        text-align: center;\n",
       "    }\n",
       "\n",
       "    /* LIST ITEM */\n",
       "    li {\n",
       "        font-size: 16px !important;\n",
       "    }\n",
       "\n",
       "</style>\n",
       "\n"
      ],
      "text/plain": [
       "<IPython.core.display.HTML object>"
      ]
     },
     "execution_count": 1,
     "metadata": {},
     "output_type": "execute_result"
    }
   ],
   "source": [
    "%run ../../common/import_all.py\n",
    "\n",
    "from common.setup_notebook import set_css_style, setup_matplotlib, config_ipython\n",
    "config_ipython()\n",
    "setup_matplotlib()\n",
    "set_css_style()"
   ]
  },
  {
   "cell_type": "markdown",
   "metadata": {},
   "source": [
    "# Bayes' Theorem"
   ]
  },
  {
   "cell_type": "markdown",
   "metadata": {},
   "source": [
    "## What is "
   ]
  },
  {
   "cell_type": "markdown",
   "metadata": {},
   "source": [
    "The Bayes' theorem, theorised by minister Thomas Bayes in the second half of the eigthteenth century, relates the probability of an event to prior knowledge around it.\n",
    "\n",
    "We'll call $E$ and $H$ $E$ the evidence (what we see happening, the measurement) and $H$ the hypothesis, whose probability will be affected by gathering the evidence. Bayes' theorem states that the probability of $H$ after observing $E$ is computed as the ratio of the probability of $E$ given $H$ to the probability of $E$: \n",
    "\n",
    "$$\n",
    "P(H|E) = \\frac{P(E|H)P(H)}{P(E)} \\ .\n",
    "$$\n",
    "\n",
    "Specifically,\n",
    "\n",
    "* $P(H|E)$ is the *posterior*: the probability of observing the hypothesis given the evidence, that is, after data is collected;\n",
    "* $P(E|H)$ is the probability of observing the evidence given the hypothesis; it is, as a function of $E$ with fixed $H$ the *likelihood*;\n",
    "* $P(H)$ is the *prior*, that is, the probability of the hypothesis before gathering the evidence; it is one's estimate that $H$ is true before observing the data\n",
    "\n",
    "The bit $\\frac{P(E|H)}{P(E)}$ quantifies the impact of $E$ on the probability of $H$ and is called the *marginal likelihood* or *model evidence*.\n",
    "\n",
    "The denominator, which is the probability of observing what we observe, can be written as the integration over all the possible hypotheses $H'$ of the terms $P(E|H')P(H')$, so that a rewriting of the theorem reads\n",
    "\n",
    "$$\n",
    "P(H|E) = \\frac{P(E|H)P(H)}{\\sum_{H'}P(E|H')P(H')} \\ .\n",
    "$$\n",
    "\n",
    "Note that the hypothesis is encoded as a statistical model, that is, through its parameters. "
   ]
  },
  {
   "cell_type": "markdown",
   "metadata": {
    "collapsed": true
   },
   "source": [
    "## Proof\n",
    "\n",
    "<img src=\"../../imgs/sets-intersection.pdf\" width=\"300\" align=\"left\" style=\"margin:0px 50px\"/>\n",
    "\n",
    "Can be derived from the definition of [conditional probability](joint-marg-conditional-prob.ipynb):\n",
    "\n",
    "$$\n",
    "P(A | B) =  \\frac{P(A \\cap B)}{P(B)}  \\ \\ \\ \\text{if} \\ \\ \\ P(B)\\neq 0\n",
    "$$\n",
    "\n",
    "and \n",
    "\n",
    "$$\n",
    "P(B | A) =  \\frac{P(A \\cap B)}{P(A)}  \\ \\ \\ \\text{if} \\ \\ \\ P(A)\\neq 0\n",
    "$$\n",
    "\n",
    "Now, the intersection is commutative, so that $P(A \\cap B) = P(B \\cap A)$, so \n",
    "\n",
    "$$\n",
    "P(A \\cap B) = P(A | B)P(B) = P(B | A)P(A) \\ , \n",
    "$$\n",
    "\n",
    "which leads to \n",
    "\n",
    "$$\n",
    "P(A | B) = \\frac{P(B | A) P(A)}{P(B)} \\ .\n",
    "$$"
   ]
  },
  {
   "cell_type": "markdown",
   "metadata": {},
   "source": [
    "## Examples\n",
    "\n",
    "### Example: flipping a (fair) coin\n",
    "\n",
    "The prior is $50\\%$ to get H or T as our coin is fair. Flipping the coin several times and recording the observed outcomes will change the degree of belief (so that if the coin was unfair the posterior would be different from the prior).\n",
    "\n",
    "### Example: Testing for a disease\n",
    "\n",
    "Let's assume to have a testing method developed to test for a disease and to know that it is correct $99\\%$ of the times in determining that you have or not have the disease. \n",
    "\n",
    "This means that if you have the disease it will output YES with probability $99\\%$ and if you don't have the disease it will output NO with probability $99\\%$. This is the likelihood. Let's say we also know that such disease occurs in the general population in one over $10^4$ people. This is the prior.\n",
    "\n",
    "Question now is, if you take the test, and it comes up positive, what is the probability that you actually have the disease?\n",
    "\n",
    "$P(E)$ at the denominator can be written as a sum of the joint probabilities of observing the evidence and the event over all the possible events (all the possible hypotheses):\n",
    "\n",
    "* Event $A$: you have the disease;\n",
    "* Event $B$: you don't have the disease\n",
    "\n",
    "$$\n",
    "P(E) = P(E|A)P(A) + P(E|B)P(B) = \\sum_{\\bar H} P(E|\\bar H) P(\\bar H)\n",
    "$$\n",
    "\n",
    "and by plugging in the numbers, the desired posterior is equal to $1\\%$."
   ]
  },
  {
   "cell_type": "markdown",
   "metadata": {},
   "source": [
    "## References\n",
    "\n",
    "1. <a name=\"1\"></a> [Some more examples on WIkipedia](https://en.wikipedia.org/wiki/Bayes'_theorem#Examples)"
   ]
  },
  {
   "cell_type": "code",
   "execution_count": null,
   "metadata": {
    "collapsed": true
   },
   "outputs": [],
   "source": []
  }
 ],
 "metadata": {
  "kernelspec": {
   "display_name": "Python 3",
   "language": "python",
   "name": "python3"
  },
  "language_info": {
   "codemirror_mode": {
    "name": "ipython",
    "version": 3
   },
   "file_extension": ".py",
   "mimetype": "text/x-python",
   "name": "python",
   "nbconvert_exporter": "python",
   "pygments_lexer": "ipython3",
   "version": "3.6.1"
  }
 },
 "nbformat": 4,
 "nbformat_minor": 2
}
