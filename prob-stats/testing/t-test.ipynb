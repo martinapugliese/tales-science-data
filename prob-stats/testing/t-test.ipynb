{
 "cells": [
  {
   "cell_type": "code",
   "execution_count": 1,
   "metadata": {},
   "outputs": [
    {
     "data": {
      "text/html": [
       "<style>\n",
       "\n",
       "    /* DOWNLOAD COMPUTER MODERN FONT JUST IN CASE */\n",
       "    @font-face {\n",
       "        font-family: \"Computer Modern\";\n",
       "        src: url('http://9dbb143991406a7c655e-aa5fcb0a5a4ec34cff238a2d56ca4144.r56.cf5.rackcdn.com/cmunss.otf');\n",
       "    }\n",
       "    @font-face {\n",
       "        font-family: \"Computer Modern\";\n",
       "        font-weight: bold;\n",
       "        src: url('http://9dbb143991406a7c655e-aa5fcb0a5a4ec34cff238a2d56ca4144.r56.cf5.rackcdn.com/cmunsx.otf');\n",
       "    }\n",
       "    @font-face {\n",
       "        font-family: \"Computer Modern\";\n",
       "        font-style: oblique;\n",
       "        src: url('http://9dbb143991406a7c655e-aa5fcb0a5a4ec34cff238a2d56ca4144.r56.cf5.rackcdn.com/cmunsi.otf');\n",
       "    }\n",
       "    @font-face {\n",
       "        font-family: \"Computer Modern\";\n",
       "        font-weight: bold;\n",
       "        font-style: oblique;\n",
       "        src: url('http://9dbb143991406a7c655e-aa5fcb0a5a4ec34cff238a2d56ca4144.r56.cf5.rackcdn.com/cmunso.otf');\n",
       "    }\n",
       "\n",
       "    /* GLOBAL TEXT FONT */\n",
       "    div#notebook,\n",
       "    div.output_area pre,\n",
       "    div.output_wrapper,\n",
       "    div.prompt {\n",
       "      font-family: Times new Roman, monospace !important;\n",
       "    }\n",
       "\n",
       "    /* CENTER FIGURE */\n",
       "    .output_png {\n",
       "        display: table-cell;\n",
       "        text-align: center;\n",
       "        vertical-align: middle;\n",
       "    }\n",
       "\n",
       "    /* LINK */\n",
       "    a {\n",
       "        color: #FF8000;\n",
       "    }\n",
       "\n",
       "    /* H1 */\n",
       "    h1 {\n",
       "        font-size: 42px !important;\n",
       "        text-align: center;\n",
       "        color: #FF8000;\n",
       "    }\n",
       "\n",
       "    /* H2 */\n",
       "    h2 {\n",
       "        font-size: 32px !important;\n",
       "    }\n",
       "\n",
       "    /* H2 */\n",
       "    h3 {\n",
       "        font-size: 24px !important;\n",
       "    }\n",
       "\n",
       "    /* H2 */\n",
       "    h4 {\n",
       "        font-size: 20px !important;\n",
       "    }\n",
       "\n",
       "    /* PARAGRAPH */\n",
       "    p {\n",
       "        font-size: 16px !important;\n",
       "        text-align: center;\n",
       "    }\n",
       "\n",
       "    /* LIST ITEM */\n",
       "    li {\n",
       "        font-size: 16px !important;\n",
       "    }\n",
       "\n",
       "</style>\n",
       "\n"
      ],
      "text/plain": [
       "<IPython.core.display.HTML object>"
      ]
     },
     "execution_count": 1,
     "metadata": {},
     "output_type": "execute_result"
    }
   ],
   "source": [
    "%run ../../common/import_all.py\n",
    "\n",
    "from common.setup_notebook import set_css_style, setup_matplotlib, config_ipython\n",
    "config_ipython()\n",
    "setup_matplotlib()\n",
    "set_css_style()"
   ]
  },
  {
   "cell_type": "markdown",
   "metadata": {},
   "source": [
    "# The t-test"
   ]
  },
  {
   "cell_type": "markdown",
   "metadata": {},
   "source": [
    "## What is this test for\n",
    "\n",
    "The t-test tests, in the two samples variant, if two datasets are significantly different, that is, if their means are really different, the null hypothesis being that they are not. In the one sample variant, the test tests whether the mean is significantly different from the one coming from the null hypothesis. \n",
    "\n",
    "It was originally published by W S Gosset, known as Student, in Biometrika in 1908 [[1]](#1). (Proto)typical applications are in medicine, to test whether a treatment is effective or not in curing an illness, or in testing whether girls outperform boys in a school exam, and so on. It is a widely used statistical test. "
   ]
  },
  {
   "cell_type": "markdown",
   "metadata": {},
   "source": [
    "## The gist of it"
   ]
  },
  {
   "cell_type": "markdown",
   "metadata": {},
   "source": [
    "<img src=\"../../imgs/distrib-spreads.jpg\" width=\"300\" align=\"left\" style=\"margin:0px 50px\"/>\n",
    "\n",
    "The test statistic used in this test is distributed according to [Student's t distribution](../distributions-measures/famous-distributions.ipynb#Student's-t) under the null hypothesis, which means it would follow a normal distribution if the sample size were bigger.\n",
    "\n",
    "The t-test evaluates the difference between the means of the distributions with respect to their spread (variability). In the figure, the distributions have the same means difference but very different variabilities. \n",
    "\n",
    "In the following, the null hypothesis will be indicated with $H_0$."
   ]
  },
  {
   "cell_type": "markdown",
   "metadata": {},
   "source": [
    "## How it works"
   ]
  },
  {
   "cell_type": "markdown",
   "metadata": {},
   "source": [
    "### Two samples t-test\n",
    "\n",
    "Given two sets of data indicated by indices $1$ and $2$, whose means are respectively $m_1$ and $m_2$ and whose standard deviations $s_1$ and $s_2$ (we use $m$ and $s$ to stress these are sample and not population values) the $t$ statistics is calculated as\n",
    "\n",
    "$$\n",
    "t = \\frac{m_1 - m_2}{s_{m_1 - m_2}} \\ ,\n",
    "$$\n",
    "\n",
    "The denominator is the standard error of the difference of such means:\n",
    "\n",
    "$$\n",
    "s_{m_1 - m_2} = \\sqrt{\\frac{s_1^2}{n_1} + \\frac{s_2^2}{n_2}} \\ .\n",
    "$$\n",
    "\n",
    "where $s_i$ is the unbiased estimator of the sample variance (see the [concept](../concepts/unbiased-estimator-variance.ipynb)) and $n_i$ is the number of points in the sample.\n",
    "\n",
    "The $t$ statistics, so calculated, has to be checked against the table of values of the distribution of the Student's t to get the [$p$-value](../concepts/p-value.ipynb) so that if said $p$-value falls below the chosen threshold for significance, $H_0$ gets rejected."
   ]
  },
  {
   "cell_type": "markdown",
   "metadata": {},
   "source": [
    "### One sample t-test\n",
    "\n",
    "In the one-sample t-test, we test the null hyphotesis that the mean $m$ is equal to a specified value $\\mu_0$. In this case the t statistics to use is\n",
    "\n",
    "$$\n",
    "t = \\frac{\\bar{x} - \\mu_0}{\\frac{s}{\\sqrt{n}}} \\ ,\n",
    "$$\n",
    "\n",
    "with $s$ being the standard deviation of the sample and $n$ the sample size."
   ]
  },
  {
   "cell_type": "markdown",
   "metadata": {},
   "source": [
    "### Paired t-test\n",
    "\n",
    "In the paired t-test, we compare two population means where we have two samples and the observations in them are paired.\n",
    "\n",
    "For example, we have observations before and after performing some action on the same individual (example: students' results before and after a course or two medical treatment results on the same individual). The observations are then not independent so a 2-sample t-test is not appropriate.\n",
    "\n",
    "A paired t-test is performed by testing the difference of the two measurements in a 1-sample t-test, so the difference of pairs does not follow a symmetric distribution around 0.\n",
    "\n",
    "Steps are\n",
    "\n",
    "1. $\\forall i$, we calculate $|x_{1, i} - x_{2, i}|$ and $sng(x_{1, i} - x_{2, i})$\n",
    "2. we esclude pairs with such difference being 0, so we have the reduced sample size $N_r$\n",
    "3. Order the $N_r$ pairs by the absolute differences ascending \n",
    "4. Rank the pairs so that the smallest gets rank 1, ties are ranked with rank equal to the average of the ranks spanned\n",
    "5. Calculate the test statistics $w = \\sum_{i=1}^{N_r} sgn(x_{1, i} - x_{2, i}) R_i$ where $R_i$ is the rank of the pair\n",
    "6. Under the null hyphotesis $H_0$, $w$ follows a specific distribution (there is no simple expression) with expected value 0 and variance $\\frac{N_r (N_r + 1)(2 N_r + 1)}{6}$, so $w$ can be compared to table values and $H_0$ gets rejected if $|w| \\geq W_{critical, N_r}$\n",
    "7. As $N_r$ increases, the distribution of $w$ converges to a gaussian, thus a [z-score](../concepts/z-score.ipynb) can be calculated as $z = \\frac{w}{\\sigma_w}$, where $\\sigma_w$ is the standard deviation, so if $|z| \\geq z_{critical}$ we reject $H_0$ "
   ]
  },
  {
   "cell_type": "markdown",
   "metadata": {},
   "source": [
    "## References\n",
    "\n",
    "1. <a name=\"1\"></a> Student, [The probable error of a mean](http://seismo.berkeley.edu/~kirchner/eps_120/Odds_n_ends/Students_original_paper.pdf), *Biometrika*, 6:1, 1908"
   ]
  }
 ],
 "metadata": {
  "kernelspec": {
   "display_name": "Python 3",
   "language": "python",
   "name": "python3"
  },
  "language_info": {
   "codemirror_mode": {
    "name": "ipython",
    "version": 3
   },
   "file_extension": ".py",
   "mimetype": "text/x-python",
   "name": "python",
   "nbconvert_exporter": "python",
   "pygments_lexer": "ipython3",
   "version": "3.6.0"
  }
 },
 "nbformat": 4,
 "nbformat_minor": 2
}
