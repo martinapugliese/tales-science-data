{
 "cells": [
  {
   "cell_type": "code",
   "execution_count": 1,
   "metadata": {},
   "outputs": [
    {
     "data": {
      "text/html": [
       "<style>\n",
       "\n",
       "    /* DOWNLOAD COMPUTER MODERN FONT JUST IN CASE */\n",
       "    @font-face {\n",
       "        font-family: \"Computer Modern\";\n",
       "        src: url('http://9dbb143991406a7c655e-aa5fcb0a5a4ec34cff238a2d56ca4144.r56.cf5.rackcdn.com/cmunss.otf');\n",
       "    }\n",
       "    @font-face {\n",
       "        font-family: \"Computer Modern\";\n",
       "        font-weight: bold;\n",
       "        src: url('http://9dbb143991406a7c655e-aa5fcb0a5a4ec34cff238a2d56ca4144.r56.cf5.rackcdn.com/cmunsx.otf');\n",
       "    }\n",
       "    @font-face {\n",
       "        font-family: \"Computer Modern\";\n",
       "        font-style: oblique;\n",
       "        src: url('http://9dbb143991406a7c655e-aa5fcb0a5a4ec34cff238a2d56ca4144.r56.cf5.rackcdn.com/cmunsi.otf');\n",
       "    }\n",
       "    @font-face {\n",
       "        font-family: \"Computer Modern\";\n",
       "        font-weight: bold;\n",
       "        font-style: oblique;\n",
       "        src: url('http://9dbb143991406a7c655e-aa5fcb0a5a4ec34cff238a2d56ca4144.r56.cf5.rackcdn.com/cmunso.otf');\n",
       "    }\n",
       "\n",
       "    /* GLOBAL TEXT FONT */\n",
       "    div#notebook,\n",
       "    div.output_area pre,\n",
       "    div.output_wrapper,\n",
       "    div.prompt {\n",
       "      font-family: Times new Roman, monospace !important;\n",
       "    }\n",
       "\n",
       "    /* CENTER FIGURE */\n",
       "    .output_png {\n",
       "        display: table-cell;\n",
       "        text-align: center;\n",
       "        vertical-align: middle;\n",
       "    }\n",
       "\n",
       "    /* LINK */\n",
       "    a {\n",
       "        color: #FF8000;\n",
       "    }\n",
       "\n",
       "    /* H1 */\n",
       "    h1 {\n",
       "        font-size: 42px !important;\n",
       "        text-align: center;\n",
       "        color: #FF8000;\n",
       "    }\n",
       "\n",
       "    /* H2 */\n",
       "    h2 {\n",
       "        font-size: 32px !important;\n",
       "    }\n",
       "\n",
       "    /* H2 */\n",
       "    h3 {\n",
       "        font-size: 24px !important;\n",
       "    }\n",
       "\n",
       "    /* H2 */\n",
       "    h4 {\n",
       "        font-size: 20px !important;\n",
       "    }\n",
       "\n",
       "    /* PARAGRAPH */\n",
       "    p {\n",
       "        font-size: 16px !important;\n",
       "        text-align: center;\n",
       "    }\n",
       "\n",
       "    /* LIST ITEM */\n",
       "    li {\n",
       "        font-size: 16px !important;\n",
       "    }\n",
       "\n",
       "</style>\n",
       "\n"
      ],
      "text/plain": [
       "<IPython.core.display.HTML object>"
      ]
     },
     "execution_count": 1,
     "metadata": {},
     "output_type": "execute_result"
    }
   ],
   "source": [
    "%run ../../common/import_all.py\n",
    "\n",
    "from common.setup_notebook import *\n",
    "\n",
    "config_ipython()\n",
    "setup_matplotlib()\n",
    "set_css_style()"
   ]
  },
  {
   "cell_type": "markdown",
   "metadata": {},
   "source": [
    "# The ROC curve"
   ]
  },
  {
   "cell_type": "markdown",
   "metadata": {},
   "source": [
    "## Intro\n",
    "\n",
    "<img src=\"../../imgs/roc.jpg\" align=\"left\" width=\"400\" style=\"margin:0px 50px\"/>\n",
    "\n",
    "**ROC** stands for *receiver operating characteristic* and is a curve first designed and used at the times of World War I for radar signals purposes. It is a curve used to validate the performance of a binary classifier which depends on a threshold parameter when it varies.\n",
    "\n",
    "The ROC plots the true positive rate against the false positive rate at each varying value of the parameter, also called threshold. See the [note](../perf-metrics/classification.ipynb) on the performance metrics for classification for a description of those. In this plane, the point $(0, 1)$ represent the perfect classification; the diagonal line shows what a random guesser (a coin flip) would give, so that points above it are good results, points below are poorly classified results. "
   ]
  },
  {
   "cell_type": "markdown",
   "metadata": {},
   "source": [
    "## Details: definition of the ROC curve and the AUC\n",
    "\n",
    "<img src=\"../../imgs/roc2.jpg\" align=\"right\" width=\"400\" style=\"margin:0px 50px\"/>\n",
    "\n",
    "Discussion borrowed from [[1]](#1). Let's say that we got a continuous random variable $X$ and a binary classifier which depends on a threshold $T$, so that $x > T$ yields a \"positive\" (1) classification and $x \\leq T$ yields a \"negative\" (0) classification. The pdf of $X$ is $f_1(X)$ if the point is actually positive and $f_0(X)$ is the point is actually negative, so we can write\n",
    "\n",
    "$$\n",
    "TPR(T) = \\int_T^\\infty f_1(x) \\ d x\n",
    "$$\n",
    "\n",
    "and\n",
    "\n",
    "$$\n",
    "FPR(T) = \\int_T^\\infty f_0(x) \\ d x\n",
    "$$\n",
    "\n",
    "(the last one because above $T$ the point is classed as positive but it is negative, so follows $f_0$). The ROC curve, plots $TPR(T)$ versus $FPR(T)$ as a parametric function of $T$. At the same time, the other two metrics which quantify the performance of the classification can be expressed as\n",
    "\n",
    "$$\n",
    "TNR = \\int_{-\\infty}^T f_0(x) \\ d x\n",
    "$$\n",
    "\n",
    "and \n",
    "\n",
    "$$\n",
    "TFR = \\int_{-\\infty}^T f_1(x) \\ dx  \n",
    "$$\n",
    "\n",
    "(the last one because below $T$ the point is classed as negative but it is actually positive so it follows $f_1$). \n",
    "\n",
    "The area under the curve (AUC) tells us how fast the curve grows (how conves it is), quantifying how good its performance is. In a typical use case, different classifiers will be evaluated by comparing their AUCs."
   ]
  },
  {
   "cell_type": "markdown",
   "metadata": {},
   "source": [
    "## References\n",
    "\n",
    "1. <a name=\"wiki\"></a> [**Wikipedia** on the topic](https://en.wikipedia.org/wiki/Receiver_operating_characteristic)"
   ]
  },
  {
   "cell_type": "code",
   "execution_count": null,
   "metadata": {
    "collapsed": true
   },
   "outputs": [],
   "source": []
  }
 ],
 "metadata": {
  "kernelspec": {
   "display_name": "Python 3",
   "language": "python",
   "name": "python3"
  },
  "language_info": {
   "codemirror_mode": {
    "name": "ipython",
    "version": 3
   },
   "file_extension": ".py",
   "mimetype": "text/x-python",
   "name": "python",
   "nbconvert_exporter": "python",
   "pygments_lexer": "ipython3",
   "version": "3.6.3"
  }
 },
 "nbformat": 4,
 "nbformat_minor": 2
}
