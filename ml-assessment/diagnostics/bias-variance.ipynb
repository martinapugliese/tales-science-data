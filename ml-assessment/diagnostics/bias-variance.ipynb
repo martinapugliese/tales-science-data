{
 "cells": [
  {
   "cell_type": "code",
   "execution_count": 3,
   "metadata": {},
   "outputs": [
    {
     "data": {
      "text/html": [
       "<style>\n",
       "\n",
       "    /* DOWNLOAD COMPUTER MODERN FONT JUST IN CASE */\n",
       "    @font-face {\n",
       "        font-family: \"Computer Modern\";\n",
       "        src: url('http://9dbb143991406a7c655e-aa5fcb0a5a4ec34cff238a2d56ca4144.r56.cf5.rackcdn.com/cmunss.otf');\n",
       "    }\n",
       "    @font-face {\n",
       "        font-family: \"Computer Modern\";\n",
       "        font-weight: bold;\n",
       "        src: url('http://9dbb143991406a7c655e-aa5fcb0a5a4ec34cff238a2d56ca4144.r56.cf5.rackcdn.com/cmunsx.otf');\n",
       "    }\n",
       "    @font-face {\n",
       "        font-family: \"Computer Modern\";\n",
       "        font-style: oblique;\n",
       "        src: url('http://9dbb143991406a7c655e-aa5fcb0a5a4ec34cff238a2d56ca4144.r56.cf5.rackcdn.com/cmunsi.otf');\n",
       "    }\n",
       "    @font-face {\n",
       "        font-family: \"Computer Modern\";\n",
       "        font-weight: bold;\n",
       "        font-style: oblique;\n",
       "        src: url('http://9dbb143991406a7c655e-aa5fcb0a5a4ec34cff238a2d56ca4144.r56.cf5.rackcdn.com/cmunso.otf');\n",
       "    }\n",
       "\n",
       "    /* GLOBAL TEXT FONT */\n",
       "    div#notebook,\n",
       "    div.output_area pre,\n",
       "    div.output_wrapper,\n",
       "    div.prompt {\n",
       "      font-family: Times new Roman, monospace !important;\n",
       "    }\n",
       "\n",
       "    /* CENTER FIGURE */\n",
       "    .output_png {\n",
       "        display: table-cell;\n",
       "        text-align: center;\n",
       "        vertical-align: middle;\n",
       "    }\n",
       "\n",
       "    /* LINK */\n",
       "    a {\n",
       "        color: #FF8000;\n",
       "    }\n",
       "\n",
       "    /* H1 */\n",
       "    h1 {\n",
       "        font-size: 42px !important;\n",
       "        text-align: center;\n",
       "        color: #FF8000;\n",
       "    }\n",
       "\n",
       "    /* H2 */\n",
       "    h2 {\n",
       "        font-size: 32px !important;\n",
       "    }\n",
       "\n",
       "    /* H2 */\n",
       "    h3 {\n",
       "        font-size: 24px !important;\n",
       "    }\n",
       "\n",
       "    /* H2 */\n",
       "    h4 {\n",
       "        font-size: 20px !important;\n",
       "    }\n",
       "\n",
       "    /* PARAGRAPH */\n",
       "    p {\n",
       "        font-size: 16px !important;\n",
       "        text-align: center;\n",
       "    }\n",
       "\n",
       "    /* LIST ITEM */\n",
       "    li {\n",
       "        font-size: 16px !important;\n",
       "    }\n",
       "\n",
       "</style>\n",
       "\n"
      ],
      "text/plain": [
       "<IPython.core.display.HTML object>"
      ]
     },
     "execution_count": 3,
     "metadata": {},
     "output_type": "execute_result"
    }
   ],
   "source": [
    "# All imports and setups \n",
    "\n",
    "%run ../../common_methods/import_all.py\n",
    "\n",
    "import sys\n",
    "sys.path.append('../../')\n",
    "\n",
    "from common_methods.setup_notebook import *\n",
    "\n",
    "config_ipython()\n",
    "setup_matplotlib()\n",
    "set_css_style()"
   ]
  },
  {
   "cell_type": "markdown",
   "metadata": {},
   "source": [
    "# Bias and Variance: a compromise"
   ]
  },
  {
   "cell_type": "markdown",
   "metadata": {},
   "source": [
    "## From NG\n",
    "\n",
    "Error to be decomposed into the two things. Bias is the error on the training set, variance is difference errors test/training sets. Tot error is the sum\n",
    "\n",
    "> TODO find more formal def\n",
    "\n",
    "You can reduce either of them, or both (but much harder)\n",
    "\n",
    "* high variance/lowe bias means does not generalise - overfits\n",
    "* high bias/low variance - underfits\n",
    "* high both - overfitting and underfitting\n",
    "* low bias low variance it's great\n",
    "\n",
    "some bias may be unavoidable - the unavoidable bias is the optimal error rate, also called Bayes error rate; can be estimated making a human do the task, harder if it's a task even a human has no idea\n",
    "\n",
    "variance can be reduced by having more training data, there is no unavoidable variance\n",
    "variance also reduced by regularization but might increase bias\n",
    "bias can be reduced with a more complex model (mind this can result in increased variance though, also costs more in computation)\n",
    "\n",
    "### Tradeoff\n",
    "\n",
    "can't easily reduce both at the same time\n",
    "\n",
    "#### reduce (avoidable) bias\n",
    "\n",
    "Adding training data doesn't help\n",
    "\n",
    "* increase model complexity/size\n",
    "* with feat engineering designed to reduce it, or add feats\n",
    "* reduce/remove regularization (will increase variance)\n",
    "\n",
    "#### reduce variance\n",
    "\n",
    "* add training data\n",
    "* add regularization (increaes bias)\n",
    "* add early stopping (falls in the category of regularization, and also increases bias)\n",
    "* feat selection (might increase bias), less used in DL, which will decide which feats to use, but more used when data is small \n",
    "* decrease model size/complexity (might increase bias) - better to use regularisation though\n",
    "\n",
    "## Learning curves\n",
    "\n",
    "test error against training size - should decrease. If plateaus it tells adding data won't improve it anymore. Also plot training error - should increase with training size (mislabels, ambiguities...). You can get an idea of whethere adding more training data would help by the trend of these two curves. Variance is the difference between these curves, if they're far apart means adding more data may help reducing it\n",
    "\n"
   ]
  },
  {
   "cell_type": "markdown",
   "metadata": {},
   "source": [
    "## From Scott\n",
    "\n",
    "Gives a conceptual and graphical (bulls-eye, very interesting, to reproduce here)\n",
    "\n",
    "Also gives a math definition\n",
    "\n",
    "gives an example (voting intention) that shows the concept of bias and variance (to reproduce/create a similar one), \n",
    "\n",
    "gives an interactive example with kNN, also used for that page\n",
    "\n",
    "gives some (kinda rigorous) suggestions for TODOs to deal with the tradeoff"
   ]
  },
  {
   "cell_type": "markdown",
   "metadata": {},
   "source": [
    "## References\n",
    "\n",
    "> TODO put in this way just if you need referencing"
   ]
  },
  {
   "cell_type": "markdown",
   "metadata": {},
   "source": [
    "1. <a name=\"1\"></a> A Ng, **Machine Learning Yearning**, draft available [here](http://www.qualitydigest.com/inside/quality-insider-article/should-residuals-be-normal.html)\n",
    "2. <a name=\"2\"></a> S Fortmann-Roe, [Understanding the Bias-Variance Tradeoff](http://scott.fortmann-roe.com/docs/BiasVariance.html)"
   ]
  },
  {
   "cell_type": "code",
   "execution_count": null,
   "metadata": {},
   "outputs": [],
   "source": []
  }
 ],
 "metadata": {
  "kernelspec": {
   "display_name": "Python 3",
   "language": "python",
   "name": "python3"
  },
  "language_info": {
   "codemirror_mode": {
    "name": "ipython",
    "version": 3
   },
   "file_extension": ".py",
   "mimetype": "text/x-python",
   "name": "python",
   "nbconvert_exporter": "python",
   "pygments_lexer": "ipython3",
   "version": "3.7.5"
  }
 },
 "nbformat": 4,
 "nbformat_minor": 4
}
