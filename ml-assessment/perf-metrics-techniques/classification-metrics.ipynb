{
 "cells": [
  {
   "cell_type": "code",
   "execution_count": 1,
   "metadata": {},
   "outputs": [
    {
     "data": {
      "text/html": [
       "<style>\n",
       "\n",
       "    /* DOWNLOAD COMPUTER MODERN FONT JUST IN CASE */\n",
       "    @font-face {\n",
       "        font-family: \"Computer Modern\";\n",
       "        src: url('http://9dbb143991406a7c655e-aa5fcb0a5a4ec34cff238a2d56ca4144.r56.cf5.rackcdn.com/cmunss.otf');\n",
       "    }\n",
       "    @font-face {\n",
       "        font-family: \"Computer Modern\";\n",
       "        font-weight: bold;\n",
       "        src: url('http://9dbb143991406a7c655e-aa5fcb0a5a4ec34cff238a2d56ca4144.r56.cf5.rackcdn.com/cmunsx.otf');\n",
       "    }\n",
       "    @font-face {\n",
       "        font-family: \"Computer Modern\";\n",
       "        font-style: oblique;\n",
       "        src: url('http://9dbb143991406a7c655e-aa5fcb0a5a4ec34cff238a2d56ca4144.r56.cf5.rackcdn.com/cmunsi.otf');\n",
       "    }\n",
       "    @font-face {\n",
       "        font-family: \"Computer Modern\";\n",
       "        font-weight: bold;\n",
       "        font-style: oblique;\n",
       "        src: url('http://9dbb143991406a7c655e-aa5fcb0a5a4ec34cff238a2d56ca4144.r56.cf5.rackcdn.com/cmunso.otf');\n",
       "    }\n",
       "\n",
       "    /* GLOBAL TEXT FONT */\n",
       "    div#notebook,\n",
       "    div.output_area pre,\n",
       "    div.output_wrapper,\n",
       "    div.prompt {\n",
       "      font-family: Times new Roman, monospace !important;\n",
       "    }\n",
       "\n",
       "    /* CENTER FIGURE */\n",
       "    .output_png {\n",
       "        display: table-cell;\n",
       "        text-align: center;\n",
       "        vertical-align: middle;\n",
       "    }\n",
       "\n",
       "    /* LINK */\n",
       "    a {\n",
       "        color: #FF8000;\n",
       "    }\n",
       "\n",
       "    /* H1 */\n",
       "    h1 {\n",
       "        font-size: 42px !important;\n",
       "        text-align: center;\n",
       "        color: #FF8000;\n",
       "    }\n",
       "\n",
       "    /* H2 */\n",
       "    h2 {\n",
       "        font-size: 32px !important;\n",
       "    }\n",
       "\n",
       "    /* H2 */\n",
       "    h3 {\n",
       "        font-size: 24px !important;\n",
       "    }\n",
       "\n",
       "    /* H2 */\n",
       "    h4 {\n",
       "        font-size: 20px !important;\n",
       "    }\n",
       "\n",
       "    /* PARAGRAPH */\n",
       "    p {\n",
       "        font-size: 16px !important;\n",
       "        text-align: center;\n",
       "    }\n",
       "\n",
       "    /* LIST ITEM */\n",
       "    li {\n",
       "        font-size: 16px !important;\n",
       "    }\n",
       "\n",
       "</style>\n",
       "\n"
      ],
      "text/plain": [
       "<IPython.core.display.HTML object>"
      ]
     },
     "execution_count": 1,
     "metadata": {},
     "output_type": "execute_result"
    }
   ],
   "source": [
    "%run ../../common/import_all.py\n",
    "\n",
    "from common.setup_notebook import set_css_style, setup_matplotlib, config_ipython\n",
    "from common.class_helpers import do_plot_conf_mat\n",
    "\n",
    "from sklearn.datasets import load_iris\n",
    "from sklearn.ensemble import RandomForestClassifier\n",
    "from sklearn.model_selection import train_test_split\n",
    "from sklearn.metrics import accuracy_score, precision_score, recall_score, classification_report\n",
    "\n",
    "config_ipython()\n",
    "setup_matplotlib()\n",
    "set_css_style()"
   ]
  },
  {
   "cell_type": "markdown",
   "metadata": {},
   "source": [
    "# Performance Metrics in Classification"
   ]
  },
  {
   "cell_type": "markdown",
   "metadata": {},
   "source": [
    "## Possible outcomes of a classification task and the confusion matrix\n",
    "\n",
    "If we are in a binary classification problem where the two classes are $1$ (call it positive) and $0$ (call it negative), our model can spit out either of them, but chances are some points will be classified wrongly. This leaves us with 4 possible situations in terms of how the points get classified based on what they actually are: \n",
    "\n",
    "* $TP$: True Positives, those points which are classified as $1$ and are actually $1$;\n",
    "* $TN$: True Negatives, those points which are classified as $0$ and are actually $0$;\n",
    "* $FP$: False Positives, those points which are classified as $1$ but are actually $0$;\n",
    "* $FN$: False Negatives, those points which are classified as $0$ but are actually $1$\n",
    "\n",
    "<img src=\"../../imgs/metrics-class.jpg\" align=\"left\" width=\"400\" style=\"margin:20px 50px\"/>\n",
    "\n",
    "A useful graphic representation of the categories above is given in the figure here. \n",
    "\n",
    "The sum of counts in each of the categories, which is represented by the total area of the picture, equals the total of data points classified. The area of the ellipse, which is given by $TP + FP$ (abuse of notation: we're using the symbols above to mean the counts of the categories here!), will give the total of points classified as positive; the area of the green parts, equalling $TP + FN$ is the total of points which are actually positives; the area of the red parts, equalling $FP + TN$, is instead the total of points which are actually negatives. \n",
    "\n",
    "These categories and the terminology we set here will be used in the following to define the metrics we can use to assess the performance of a classifier. \n",
    "\n",
    "Note that we have specifically and for the sake of simplicity referred to the case of a binary classifier, but this framework is extensible to a generic multi-class classification with little work: you'd just have to consider that for each of the classes, you'll have points classified correctly and points classified as belonging to another class, so there will be counts of wrongly classified points in each class. We'll expand on this soon."
   ]
  },
  {
   "cell_type": "markdown",
   "metadata": {},
   "source": [
    "### The confusion matrix\n",
    "\n",
    "<img src=\"../../imgs/confusion-matrix.jpg\" align=\"left\" width=\"400\" style=\"margin:0px 50px\"/>\n",
    "\n",
    "Also known sometimes as *contingency table* or *error matrix*, it is a good tool to have a quick eye-catching assessment of the performance of a classifier. Again in the simple case of a classification problem with two classes (binary classification), the confusion matrix is, considering the categories of points described above, displayed in the figure. It is literally just a square matrix with all the counts. \n",
    "\n",
    "In the case of a multi-class classification problem with $n$ classes, the matrix will be a $n \\times n$ one where the diagonal contains the true positives for each class, and out of diagonal items will report the number of wrongly classified items, class by class. In short, the categories are per class and for the wrongly categorised points you can compute how many points of actual class $a$ are classified in class $b$, etc, for each class.\n",
    "\n",
    "We'll now show what we mean using data from the [Iris dataset](https://en.wikipedia.org/wiki/Iris_flower_data_set), an old dataset created by Fisher which is now widely used for pedagogical purposes to illustrate the use of algorithms. It contains data for three species of Iris flowers (we'll use numerical indices to indicate them here), data being their lengths and widths of petals and sepals. We'll use this data to classify the species and we'll employ a Random Forest classifier for the task. This dataset can be called directly from `scikit-learn`, so quite useful. We wrote a routine to display the confusion matrix, which we'll use here. \n",
    "\n",
    "Let's see this. The classes of Iris species we have are called $0$, $1$ and $2$. The matrix will show, from the test set, how many points get classified in each class for each class. "
   ]
  },
  {
   "cell_type": "code",
   "execution_count": 2,
   "metadata": {},
   "outputs": [
    {
     "data": {
      "text/plain": [
       "RandomForestClassifier(bootstrap=True, class_weight=None, criterion='gini',\n",
       "            max_depth=None, max_features='auto', max_leaf_nodes=None,\n",
       "            min_impurity_split=1e-07, min_samples_leaf=1,\n",
       "            min_samples_split=2, min_weight_fraction_leaf=0.0,\n",
       "            n_estimators=10, n_jobs=1, oob_score=False, random_state=None,\n",
       "            verbose=0, warm_start=False)"
      ]
     },
     "execution_count": 2,
     "metadata": {},
     "output_type": "execute_result"
    },
    {
     "data": {
      "image/png": "[encoded data removed]",
      "text/plain": [
       "<matplotlib.figure.Figure at 0x1160fd7f0>"
      ]
     },
     "metadata": {
      "image/png": {
       "height": 432,
       "width": 477
      }
     },
     "output_type": "display_data"
    },
    {
     "data": {
      "text/plain": [
       "array([[11,  0,  0],\n",
       "       [ 0, 18,  2],\n",
       "       [ 0,  1, 13]])"
      ]
     },
     "execution_count": 2,
     "metadata": {},
     "output_type": "execute_result"
    }
   ],
   "source": [
    "# Load the Iris dataset from sklearn, separating the data matrix and the array of classes\n",
    "iris = load_iris()\n",
    "X = iris.data\n",
    "y = iris.target\n",
    "\n",
    "# Initiate the classifier (using default parameters)\n",
    "rf = RandomForestClassifier()\n",
    "\n",
    "# Splitting the dataset into train and test (70%/30%)\n",
    "X_train, X_test, y_train, y_test = train_test_split(X, y, test_size=0.3)\n",
    "\n",
    "# Fitting model on training set and predict on test set\n",
    "rf.fit(X_train, y_train)\n",
    "y_pred = rf.predict(X_test)\n",
    "\n",
    "# Plot the confusion matrix\n",
    "do_plot_conf_mat(y_test, y_pred)"
   ]
  },
  {
   "cell_type": "markdown",
   "metadata": {},
   "source": [
    "## Per-class performance metrics\n",
    "\n",
    "In the generic case of a multi-class classification, the results in each of the classes can be assessed. For each class, we can compute the metrics described here. We will also show their values in the little Iris classification from above.\n",
    "\n",
    "The binary classification case would just be a special case of this so we thought we'd stay general. In this general case, the categories of points illustrated above refer to the specific class we're monitoring, so while $TP$ is the diagonal value for class in the confusion matrix, $FP$ will be the total of false positives for it, that is, the sum of values in the column for class in matrix excluding the diagonal value. With the same reasoning, $FN$ will be the total of false negatives for the class, that is, the sum of values in the row for the class in the confusion matrix, excluding the diagonal value."
   ]
  },
  {
   "cell_type": "markdown",
   "metadata": {},
   "source": [
    "### Precision and specificity\n",
    "\n",
    "The precision, referred to a class, is defined as \n",
    "\n",
    "$$\n",
    "p = \\frac{TP}{TP + FP} \\ ,\n",
    "$$\n",
    "\n",
    "and is the fraction of true points in that class over the total of points classified as belonging to that class.\n",
    "The precision is a measure of how *useful* the classified results are as it gives the fraction of relevant items to the total classified in class. With reference to the ellipse figure above, precision is the fraction of the $TP$ area in the ellipse to the whole ellipse area. A precision of $1$ means that all samples in class were correctly classified.\n",
    "\n",
    "In the case of a binary classification, the equivalent of precision but for the negative class is called *specificity*, or *true negative rate*, and is defined as\n",
    "\n",
    "$$\n",
    "s = \\frac{TN}{TN + FP} \\ .\n",
    "$$"
   ]
  },
  {
   "cell_type": "markdown",
   "metadata": {},
   "source": [
    "### Recall\n",
    "\n",
    "The *recall*, also called *sensitivity*, or *true positive rate*, is defined as\n",
    "\n",
    "$$\n",
    "r = \\frac{TP}{TP + FN} \\ ,\n",
    "$$\n",
    "\n",
    "and gives the fraction of true positives for the class over the total of points belonging to the class. It is a measure of how *complete* the results are, meaning how many of the real points in class are retrieved. \n",
    "\n",
    "A recall $r=1$ means that all items in the class where actually classed as in class."
   ]
  },
  {
   "cell_type": "markdown",
   "metadata": {},
   "source": [
    "### An example on precision vs. recall\n",
    "\n",
    "This is taken from [[the Wikipedia page on precision and recall]](#1).\n",
    "\n",
    "Let us imagine there is a surgeon who needs to remove all cancerous cells from a patient to prevent regeneration. In the process, if healthy cells are removed as well, this would leave disgraceful lesions to the organs involved. \n",
    "The decision to increase recall at the cost of precision is one where more cells than needed are removed and ensure that all bad ones will go. The decision to increase precision at the cost of recall, on the other hand, would see the surgeon be more conservative and ensure only bad cells are removed, at the cost of not removing them all."
   ]
  },
  {
   "cell_type": "markdown",
   "metadata": {},
   "source": [
    "### The $F$-score\n",
    "\n",
    "While precision and recall measure different things, often related in such a way that increasing the one will decrease the other, the *F-score* is a single metric which brings both information together.\n",
    "\n",
    "In general, a F-score is defined as \n",
    "\n",
    "$$\n",
    "F_\\beta = (1 + \\beta^2)\\frac{pr}{\\beta^2p + r} \\ \\ \\beta > 0, \\beta \\in \\mathbb{R}\n",
    "$$\n",
    "\n",
    "The most commonly seen metric in this class is the *F1-score*, which is just the [harmonic mean](../../maths/measures.ipynb#The-harmonic-mean) of precision and recall:\n",
    "\n",
    "$$\n",
    "F_1 = 2 \\frac{pr}{p + r}\n",
    "$$\n",
    "\n",
    "The general F-score furnishes a way to decide to weigh precision and recall differently: while the F1-score weighs them equally, the F2-score gives more weight to the precision and the F0.5-score does the reverse, for instance."
   ]
  },
  {
   "cell_type": "markdown",
   "metadata": {},
   "source": [
    "### In the case of our classifier above ...\n",
    "\n",
    "Let's have a look at these per-class metrics for the classification problem we pursued above! We use the [`sklearn.metrics.classification_report`](http://scikit-learn.org/stable/modules/generated/sklearn.metrics.classification_report.html#sklearn.metrics.classification_report) for the job, which is a convenient routine spitting out the three metrics we just described, for all classes, in one go. Note that for each metric it also furnishes the weighted value based on the support of the class, namely for the average precision, for instance,\n",
    "\n",
    "$$\n",
    "p_{avg} = \\sum_c^C p_c s_c \\ ,\n",
    "$$\n",
    "\n",
    "where the sum runs over all the classes, $p_c$ and $s_c$ are, respectively, the precision and the support of the class."
   ]
  },
  {
   "cell_type": "code",
   "execution_count": 3,
   "metadata": {},
   "outputs": [
    {
     "name": "stdout",
     "output_type": "stream",
     "text": [
      "             precision    recall  f1-score   support\n",
      "\n",
      "          0       1.00      1.00      1.00        11\n",
      "          1       0.95      0.90      0.92        20\n",
      "          2       0.87      0.93      0.90        14\n",
      "\n",
      "avg / total       0.94      0.93      0.93        45\n",
      "\n"
     ]
    }
   ],
   "source": [
    "# sklearn furnishes a report of these metrics for all classes in one go!\n",
    "print(classification_report(y_test, y_pred))"
   ]
  },
  {
   "cell_type": "markdown",
   "metadata": {},
   "source": [
    "## Global metrics\n",
    "\n",
    "These metrics are meant to assess the performance of the classifier as a whole and not referring to each specific class. We already outlines the weighted average of precision, recall and F-score above, which serve exactly this purpose."
   ]
  },
  {
   "cell_type": "markdown",
   "metadata": {},
   "source": [
    "### Accuracy\n",
    "\n",
    "The (global) *accuracy* of a classifier is defined as\n",
    "\n",
    "$$\n",
    "a = \\frac{\\sum_c^C TP_c}{N} \\ ,\n",
    "$$\n",
    "\n",
    "and measures the total number of correct predictions over the total of data points ($N$ is the total of points and the sum runs over the classes, summing the counts of true positives in each). It would be the first thing which comes to mind (I mean, the simplest thing to do) when assessing a classifier's performance and indeed gives insight on how good it is to class points. But, its weak spot is that it gives no insight on the difference between the two types of errors: false positives and false negatives, treating them on the same ground. Plus it hides all information on which classes is doing better/worse.\n",
    "\n",
    "In reality, the accuracy can also be computed per class. See the example we give below."
   ]
  },
  {
   "cell_type": "markdown",
   "metadata": {},
   "source": [
    "### In the case of our classifier above ..."
   ]
  },
  {
   "cell_type": "code",
   "execution_count": 8,
   "metadata": {},
   "outputs": [
    {
     "data": {
      "text/plain": [
       "0.93333333333333335"
      ]
     },
     "execution_count": 8,
     "metadata": {},
     "output_type": "execute_result"
    }
   ],
   "source": [
    "# From sklearn\n",
    "accuracy_score(y_test, y_pred)"
   ]
  },
  {
   "cell_type": "markdown",
   "metadata": {},
   "source": [
    "## A final example\n",
    "\n",
    "Let us assume that we have a binary classifier, tested on $100$ samples for class $1$ and $200$ samples for class $0$ and whose performance reports these results:\n",
    "\n",
    "* $TP = 80$;\n",
    "* $FN = 20$;\n",
    "* $FP = 5$;\n",
    "* $TN = 195$\n",
    "\n",
    "The accuracy gives $a = \\frac{80 + 195}{80 + 20 + 5 + 195} = 0.91$, so quite high. But this masks the fact that actually class $1$ has a misclassification rate of $20/100$ (class $0$ has a misclassification rate of $5/200$, so quite small). In terms of accuracies per class (the complements of these missclassification rates), class $1$ has $a_1 = 0.8$ and class $0$ has $a_0 = 0.975$, so that the macro-average of the per-class accuracies is \n",
    "\n",
    "$$\n",
    "a_p = \\frac{1}{2} \\left(0.8 + 0.975 \\right) = 0.88\n",
    "$$"
   ]
  },
  {
   "cell_type": "markdown",
   "metadata": {
    "collapsed": true
   },
   "source": [
    "## References\n",
    "\n",
    "1. <a name=\"1\"></a> [A nice detailed document on classification metrics from the University of Antwerp](http://www.clips.uantwerpen.be/~vincent/pdf/microaverage.pdf)\n",
    "2. <a name=\"wiki\"></a> [Wikipedia on precision and recall](https://en.wikipedia.org/wiki/Precision_and_recall)"
   ]
  },
  {
   "cell_type": "code",
   "execution_count": null,
   "metadata": {
    "collapsed": true
   },
   "outputs": [],
   "source": []
  }
 ],
 "metadata": {
  "kernelspec": {
   "display_name": "Python 3",
   "language": "python",
   "name": "python3"
  },
  "language_info": {
   "codemirror_mode": {
    "name": "ipython",
    "version": 3
   },
   "file_extension": ".py",
   "mimetype": "text/x-python",
   "name": "python",
   "nbconvert_exporter": "python",
   "pygments_lexer": "ipython3",
   "version": "3.6.3"
  }
 },
 "nbformat": 4,
 "nbformat_minor": 2
}
