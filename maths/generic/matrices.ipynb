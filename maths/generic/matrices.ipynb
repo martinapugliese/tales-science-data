{
 "cells": [
  {
   "cell_type": "code",
   "execution_count": 2,
   "metadata": {},
   "outputs": [
    {
     "data": {
      "text/html": [
       "<style>\n",
       "\n",
       "    /* DOWNLOAD COMPUTER MODERN FONT JUST IN CASE */\n",
       "    @font-face {\n",
       "        font-family: \"Computer Modern\";\n",
       "        src: url('http://9dbb143991406a7c655e-aa5fcb0a5a4ec34cff238a2d56ca4144.r56.cf5.rackcdn.com/cmunss.otf');\n",
       "    }\n",
       "    @font-face {\n",
       "        font-family: \"Computer Modern\";\n",
       "        font-weight: bold;\n",
       "        src: url('http://9dbb143991406a7c655e-aa5fcb0a5a4ec34cff238a2d56ca4144.r56.cf5.rackcdn.com/cmunsx.otf');\n",
       "    }\n",
       "    @font-face {\n",
       "        font-family: \"Computer Modern\";\n",
       "        font-style: oblique;\n",
       "        src: url('http://9dbb143991406a7c655e-aa5fcb0a5a4ec34cff238a2d56ca4144.r56.cf5.rackcdn.com/cmunsi.otf');\n",
       "    }\n",
       "    @font-face {\n",
       "        font-family: \"Computer Modern\";\n",
       "        font-weight: bold;\n",
       "        font-style: oblique;\n",
       "        src: url('http://9dbb143991406a7c655e-aa5fcb0a5a4ec34cff238a2d56ca4144.r56.cf5.rackcdn.com/cmunso.otf');\n",
       "    }\n",
       "\n",
       "    /* GLOBAL TEXT FONT */\n",
       "    div#notebook,\n",
       "    div.output_area pre,\n",
       "    div.output_wrapper,\n",
       "    div.prompt {\n",
       "      font-family: Times new Roman, monospace !important;\n",
       "    }\n",
       "\n",
       "    /* CENTER FIGURE */\n",
       "    .output_png {\n",
       "        display: table-cell;\n",
       "        text-align: center;\n",
       "        vertical-align: middle;\n",
       "    }\n",
       "\n",
       "    /* LINK */\n",
       "    a {\n",
       "        color: #FF8000;\n",
       "    }\n",
       "\n",
       "    /* H1 */\n",
       "    h1 {\n",
       "        font-size: 42px !important;\n",
       "        text-align: center;\n",
       "        color: #FF8000;\n",
       "    }\n",
       "\n",
       "    /* H2 */\n",
       "    h2 {\n",
       "        font-size: 32px !important;\n",
       "    }\n",
       "\n",
       "    /* H2 */\n",
       "    h3 {\n",
       "        font-size: 24px !important;\n",
       "    }\n",
       "\n",
       "    /* H2 */\n",
       "    h4 {\n",
       "        font-size: 20px !important;\n",
       "    }\n",
       "\n",
       "    /* PARAGRAPH */\n",
       "    p {\n",
       "        font-size: 16px !important;\n",
       "        text-align: center;\n",
       "    }\n",
       "\n",
       "    /* LIST ITEM */\n",
       "    li {\n",
       "        font-size: 16px !important;\n",
       "    }\n",
       "\n",
       "</style>\n",
       "\n"
      ],
      "text/plain": [
       "<IPython.core.display.HTML object>"
      ]
     },
     "execution_count": 2,
     "metadata": {},
     "output_type": "execute_result"
    }
   ],
   "source": [
    "%run ../../common/import_all.py\n",
    "\n",
    "from common.setup_notebook import set_css_style\n",
    "set_css_style()"
   ]
  },
  {
   "cell_type": "markdown",
   "metadata": {
    "collapsed": true
   },
   "source": [
    "# <center> Matrices"
   ]
  },
  {
   "cell_type": "markdown",
   "metadata": {},
   "source": [
    "Capital letters, like $A$, will indicate matrices."
   ]
  },
  {
   "cell_type": "markdown",
   "metadata": {},
   "source": [
    "## Transpose\n",
    "\n",
    "Transposing a matrix $A$, of elements $[A]_{ij} = a_{ij}$, is the operation which switches the row and column positions of each element:\n",
    "    \n",
    "$$\n",
    "[A^t]_{ij} = a_{ji}\n",
    "$$\n",
    "\n",
    "### Properties\n",
    "\n",
    "* **Transpose of the transpose**: $(A^t)^t = A$\n",
    "* **Transpose of the sum**: $(A + B)^t = A^t + B^t$\n",
    "* **Transpose of the product**: $(AB)^t = B^t A^t$\n",
    "\n",
    "*Proofs *\n",
    "\n",
    "The first one follows straightly from definition. \n",
    "\n",
    "The second one is straightforward just because the elements in $(A+B)^t$ are the sums of elements in $A^t$ and $B^t$.\n",
    "\n",
    "The third one is easily proven using the fact that  $[AB]_{ij} = \\sum_k a_{ik} b_{kj}$, so that we can say $[(AB)^t]_{ij} = [AB]_{ji} = \\sum_k a_{jk} b_{ki}$, and $[B^t A^t]_{ij} = \\sum_k b^t_{ik} a^t_{kj} = \\sum_k b_{ki} a_{jk}$, so the two things are the same."
   ]
  },
  {
   "cell_type": "markdown",
   "metadata": {},
   "source": [
    "## Special types of matrices\n",
    "\n",
    "* _IDEMPOTENT_: $M^2 = M$"
   ]
  },
  {
   "cell_type": "markdown",
   "metadata": {
    "collapsed": true
   },
   "source": [
    "## Matrix Convolution\n",
    "\n",
    "Given two matrices $A$ and $B$ (typically kernel and image, as it is used in computer vision),  \n",
    "\n",
    "$$\n",
    "A =\n",
    "\\begin{bmatrix}\n",
    "    a_{11}  & a_{12} & a_{13} & \\dots & a_{1n} \\\\\n",
    "    a_{21}  & a_{22} & a_{23} & \\dots & a_{2n} \\\\\n",
    "    \\dots   &  \\dots & \\dots & \\dots & \\dots \\\\\n",
    "    a_{n1}       & a_{n2} & a_{n3} & \\dots & a_{nn}\n",
    "\\end{bmatrix},  \\ \\\n",
    "B =\n",
    "\\begin{bmatrix}\n",
    "    b_{11}  & b_{12} & b_{13} & \\dots & b_{1n} \\\\\n",
    "    b_{21}  & b_{22} & b_{23} & \\dots & b_{2n} \\\\\n",
    "    \\dots   &  \\dots & \\dots & \\dots & \\dots \\\\\n",
    "    b_{n1}  & b_{n2} & b_{n3} & \\dots & b_{nn}\n",
    "\\end{bmatrix} \\ ,\n",
    "$$\n",
    "\n",
    "their convolution is obtained via the multiplication of locationally similar entries and summing:\n",
    "\n",
    "$$\n",
    "\\mathcal{C} = \\sum_{i=0}^{i=} \\sum_{j=1}^{j=} Bij A_{n-in-j}\n",
    "$$\n",
    "\n",
    "This procedure is loosely related to [mathematical convolution](maths-results.ipynb#Convolution)."
   ]
  },
  {
   "cell_type": "markdown",
   "metadata": {
    "collapsed": true
   },
   "source": [
    "## Frobenius norm of a matrix\n",
    "\n",
    "Given matrix $M$, its Frobenious norm is the square root of the sum of the squares of its elements. \n",
    "\n",
    "$$\n",
    "||M|| = \\sqrt{\\sum_{i,j} M_{ij}^2}\n",
    "$$"
   ]
  },
  {
   "cell_type": "code",
   "execution_count": null,
   "metadata": {
    "collapsed": true
   },
   "outputs": [],
   "source": []
  }
 ],
 "metadata": {
  "kernelspec": {
   "display_name": "Python 3",
   "language": "python",
   "name": "python3"
  },
  "language_info": {
   "codemirror_mode": {
    "name": "ipython",
    "version": 3
   },
   "file_extension": ".py",
   "mimetype": "text/x-python",
   "name": "python",
   "nbconvert_exporter": "python",
   "pygments_lexer": "ipython3",
   "version": "3.6.3"
  }
 },
 "nbformat": 4,
 "nbformat_minor": 2
}
