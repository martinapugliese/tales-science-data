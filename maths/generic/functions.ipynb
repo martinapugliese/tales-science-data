{
 "cells": [
  {
   "cell_type": "code",
   "execution_count": 2,
   "metadata": {},
   "outputs": [
    {
     "data": {
      "text/html": [
       "<style>\n",
       "\n",
       "    /* DOWNLOAD COMPUTER MODERN FONT JUST IN CASE */\n",
       "    @font-face {\n",
       "        font-family: \"Computer Modern\";\n",
       "        src: url('http://9dbb143991406a7c655e-aa5fcb0a5a4ec34cff238a2d56ca4144.r56.cf5.rackcdn.com/cmunss.otf');\n",
       "    }\n",
       "    @font-face {\n",
       "        font-family: \"Computer Modern\";\n",
       "        font-weight: bold;\n",
       "        src: url('http://9dbb143991406a7c655e-aa5fcb0a5a4ec34cff238a2d56ca4144.r56.cf5.rackcdn.com/cmunsx.otf');\n",
       "    }\n",
       "    @font-face {\n",
       "        font-family: \"Computer Modern\";\n",
       "        font-style: oblique;\n",
       "        src: url('http://9dbb143991406a7c655e-aa5fcb0a5a4ec34cff238a2d56ca4144.r56.cf5.rackcdn.com/cmunsi.otf');\n",
       "    }\n",
       "    @font-face {\n",
       "        font-family: \"Computer Modern\";\n",
       "        font-weight: bold;\n",
       "        font-style: oblique;\n",
       "        src: url('http://9dbb143991406a7c655e-aa5fcb0a5a4ec34cff238a2d56ca4144.r56.cf5.rackcdn.com/cmunso.otf');\n",
       "    }\n",
       "\n",
       "    /* GLOBAL TEXT FONT */\n",
       "    div#notebook,\n",
       "    div.output_area pre,\n",
       "    div.output_wrapper,\n",
       "    div.prompt {\n",
       "      font-family: Times new Roman, monospace !important;\n",
       "    }\n",
       "\n",
       "    /* CENTER FIGURE */\n",
       "    .output_png {\n",
       "        display: table-cell;\n",
       "        text-align: center;\n",
       "        vertical-align: middle;\n",
       "    }\n",
       "\n",
       "    /* LINK */\n",
       "    a {\n",
       "        color: #FF8000;\n",
       "    }\n",
       "\n",
       "    /* H1 */\n",
       "    h1 {\n",
       "        font-size: 42px !important;\n",
       "        text-align: center;\n",
       "        color: #FF8000;\n",
       "    }\n",
       "\n",
       "    /* H2 */\n",
       "    h2 {\n",
       "        font-size: 32px !important;\n",
       "    }\n",
       "\n",
       "    /* H2 */\n",
       "    h3 {\n",
       "        font-size: 24px !important;\n",
       "    }\n",
       "\n",
       "    /* H2 */\n",
       "    h4 {\n",
       "        font-size: 20px !important;\n",
       "    }\n",
       "\n",
       "    /* PARAGRAPH */\n",
       "    p {\n",
       "        font-size: 16px !important;\n",
       "        text-align: center;\n",
       "    }\n",
       "\n",
       "    /* LIST ITEM */\n",
       "    li {\n",
       "        font-size: 16px !important;\n",
       "    }\n",
       "\n",
       "</style>\n",
       "\n"
      ],
      "text/plain": [
       "<IPython.core.display.HTML object>"
      ]
     },
     "execution_count": 2,
     "metadata": {},
     "output_type": "execute_result"
    }
   ],
   "source": [
    "%run ../../common/import_all.py\n",
    "\n",
    "from common.setup_notebook import set_css_style\n",
    "set_css_style()"
   ]
  },
  {
   "cell_type": "markdown",
   "metadata": {},
   "source": [
    "# On functions and their things"
   ]
  },
  {
   "cell_type": "markdown",
   "metadata": {},
   "source": [
    "## Big O and little O notation\n",
    "\n",
    "The *big O* notation is used in mathematics to signify the limiting behaviour of a function when it goes to $\\infty$:\n",
    "\n",
    "$$\n",
    "\\lim_{x \\to \\infty} f\n",
    "$$\n",
    "\n",
    "The letter \"O\" is used as per *order of function*.\n",
    "\n",
    "Note that in computer science, the big O notation is used to classify algorithms by how they respond to changes in the input size.\n",
    "\n",
    "The *little O* notation instead,\n",
    "\n",
    "$$\n",
    "f(x) = o(g(x)) \\ ,\n",
    "$$\n",
    "\n",
    "means that $g(x)$ grows much faster than $f(x)$."
   ]
  },
  {
   "cell_type": "markdown",
   "metadata": {},
   "source": [
    "## Convolution\n",
    "\n",
    "The mathematical convolution of functions is the operation\n",
    "$$\n",
    "(f \\star g)(x) =  \\int_{-\\infty}^{+\\infty} dy f(y) g(x - y)\n",
    "$$\n",
    "\n",
    "It is a symmetric operation. In fact, \n",
    "\n",
    "$$\n",
    "(g \\star f)(x)  = \\int_{-\\infty}^{+\\infty} dy g(y)f(x-y) \\ ,\n",
    "$$\n",
    "\n",
    "using $z = x-y$, so that $dy = -dz$, then\n",
    "\n",
    "$$\n",
    "(g \\star f)(x) = -\\int_{+\\infty}^{-\\infty} dz g(x-z)f(z) =\\int_{-\\infty}^{+\\infty} dz  g(x-z)f(z)\n",
    "$$"
   ]
  },
  {
   "cell_type": "markdown",
   "metadata": {
    "collapsed": true
   },
   "source": [
    "## Some functions of common use in Machine Learning/Statistics"
   ]
  },
  {
   "cell_type": "markdown",
   "metadata": {},
   "source": [
    "### Heaviside step\n",
    "\n",
    "The Heaviside step function is of common use in lots of applications. It is just a simple step:\n",
    "\n",
    "$$\n",
    "f(x) = \n",
    "\\begin{cases}\n",
    "1 \\text{ if } x  \\geq 0 \\\\\n",
    "0 \\text{ if } x < 0\n",
    "\\end{cases}\n",
    "$$\n",
    "\n",
    "### Softmax\n",
    "\n",
    "The softmax is a normlised exponential used in probability theory as a generalisation of the logistic function. What it does is transforming a $k$-dimensional vector of arbitrary real values into a vector of the same size with elements which are still real numbers but ranging in the interval $[0,1]$ and such that their sum equals 1 (so they can represent probabilities). The function has the form\n",
    "\n",
    "$$\n",
    "\\frac{e^{z_j}}{\\sum_{k \\in K} e^{z_k}}\n",
    "$$\n",
    "\n",
    "The softmax is also often employed in the context of neural networks.\n",
    "\n",
    "### Logit and logistic functions\n",
    "\n",
    "Given a probability $p$, the odds are defined as $o = \\frac{p}{1-p}$. The *logit* function is the logarithm of the odds:\n",
    "\n",
    "$$\n",
    "L(p) = \\ln{\\frac{p}{1-p}}\n",
    "$$\n",
    "\n",
    "A negative logit is for $p < 0.5$."
   ]
  },
  {
   "cell_type": "code",
   "execution_count": 12,
   "metadata": {},
   "outputs": [
    {
     "name": "stderr",
     "output_type": "stream",
     "text": [
      "/usr/local/lib/python3.6/site-packages/ipykernel_launcher.py:2: RuntimeWarning: divide by zero encountered in true_divide\n",
      "  \n"
     ]
    },
    {
     "data": {
      "image/png": "[encoded data removed]",
      "text/plain": [
       "<matplotlib.figure.Figure at 0x110b59710>"
      ]
     },
     "metadata": {},
     "output_type": "display_data"
    }
   ],
   "source": [
    "p = np.arange(0.1, 1.1, 0.1)\n",
    "y = np.log(p/(1-p))\n",
    "\n",
    "plt.plot(p, y)\n",
    "plt.grid()\n",
    "plt.title('Logit function')\n",
    "plt.ylabel('$y$')\n",
    "plt.xlabel('$p$')\n",
    "plt.show();"
   ]
  },
  {
   "cell_type": "markdown",
   "metadata": {},
   "source": [
    "Now, the probability expressed as a function of the logit creates the *logistic* function:\n",
    "\n",
    "$$\n",
    "L = \\ln{\\frac{p}{1-p}} \\Leftrightarrow -L = \\ln{\\frac{1}{p} - 1} \\Leftrightarrow \\frac{1}{p} = 1 + e^{-L} \\Leftrightarrow p = \\frac{1}{1+e^{-L}}\n",
    "$$"
   ]
  },
  {
   "cell_type": "code",
   "execution_count": 18,
   "metadata": {},
   "outputs": [
    {
     "data": {
      "image/png": "[encoded data removed]",
      "text/plain": [
       "<matplotlib.figure.Figure at 0x1107089e8>"
      ]
     },
     "metadata": {},
     "output_type": "display_data"
    }
   ],
   "source": [
    "L = np.arange(-5, 5, 0.2)\n",
    "p = 1/(1 + np.exp(-L))\n",
    "\n",
    "plt.plot(L, p)\n",
    "plt.grid()\n",
    "plt.title('Logistic function')\n",
    "plt.xlabel('logit')\n",
    "plt.ylabel('$p$')\n",
    "plt.show();"
   ]
  },
  {
   "cell_type": "code",
   "execution_count": null,
   "metadata": {},
   "outputs": [],
   "source": []
  }
 ],
 "metadata": {
  "kernelspec": {
   "display_name": "Python 3",
   "language": "python",
   "name": "python3"
  },
  "language_info": {
   "codemirror_mode": {
    "name": "ipython",
    "version": 3
   },
   "file_extension": ".py",
   "mimetype": "text/x-python",
   "name": "python",
   "nbconvert_exporter": "python",
   "pygments_lexer": "ipython3",
   "version": "3.6.3"
  }
 },
 "nbformat": 4,
 "nbformat_minor": 2
}
