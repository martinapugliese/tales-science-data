{
 "cells": [
  {
   "cell_type": "code",
   "execution_count": 1,
   "metadata": {},
   "outputs": [
    {
     "data": {
      "text/html": [
       "<style>\n",
       "\n",
       "    /* DOWNLOAD COMPUTER MODERN FONT JUST IN CASE */\n",
       "    @font-face {\n",
       "        font-family: \"Computer Modern\";\n",
       "        src: url('http://9dbb143991406a7c655e-aa5fcb0a5a4ec34cff238a2d56ca4144.r56.cf5.rackcdn.com/cmunss.otf');\n",
       "    }\n",
       "    @font-face {\n",
       "        font-family: \"Computer Modern\";\n",
       "        font-weight: bold;\n",
       "        src: url('http://9dbb143991406a7c655e-aa5fcb0a5a4ec34cff238a2d56ca4144.r56.cf5.rackcdn.com/cmunsx.otf');\n",
       "    }\n",
       "    @font-face {\n",
       "        font-family: \"Computer Modern\";\n",
       "        font-style: oblique;\n",
       "        src: url('http://9dbb143991406a7c655e-aa5fcb0a5a4ec34cff238a2d56ca4144.r56.cf5.rackcdn.com/cmunsi.otf');\n",
       "    }\n",
       "    @font-face {\n",
       "        font-family: \"Computer Modern\";\n",
       "        font-weight: bold;\n",
       "        font-style: oblique;\n",
       "        src: url('http://9dbb143991406a7c655e-aa5fcb0a5a4ec34cff238a2d56ca4144.r56.cf5.rackcdn.com/cmunso.otf');\n",
       "    }\n",
       "\n",
       "    /* GLOBAL TEXT FONT */\n",
       "    div#notebook,\n",
       "    div.output_area pre,\n",
       "    div.output_wrapper,\n",
       "    div.prompt {\n",
       "      font-family: Times new Roman, monospace !important;\n",
       "    }\n",
       "\n",
       "    /* CENTER FIGURE */\n",
       "    .output_png {\n",
       "        display: table-cell;\n",
       "        text-align: center;\n",
       "        vertical-align: middle;\n",
       "    }\n",
       "\n",
       "    /* LINK */\n",
       "    a {\n",
       "        color: #FF8000;\n",
       "    }\n",
       "\n",
       "    /* H1 */\n",
       "    h1 {\n",
       "        font-size: 42px !important;\n",
       "        text-align: center;\n",
       "        color: #FF8000;\n",
       "    }\n",
       "\n",
       "    /* H2 */\n",
       "    h2 {\n",
       "        font-size: 32px !important;\n",
       "    }\n",
       "\n",
       "    /* H2 */\n",
       "    h3 {\n",
       "        font-size: 24px !important;\n",
       "    }\n",
       "\n",
       "    /* H2 */\n",
       "    h4 {\n",
       "        font-size: 20px !important;\n",
       "    }\n",
       "\n",
       "    /* PARAGRAPH */\n",
       "    p {\n",
       "        font-size: 16px !important;\n",
       "        text-align: center;\n",
       "    }\n",
       "\n",
       "    /* LIST ITEM */\n",
       "    li {\n",
       "        font-size: 16px !important;\n",
       "    }\n",
       "\n",
       "</style>\n",
       "\n"
      ],
      "text/plain": [
       "<IPython.core.display.HTML object>"
      ]
     },
     "execution_count": 1,
     "metadata": {},
     "output_type": "execute_result"
    }
   ],
   "source": [
    "%run ../../common/import_all.py\n",
    "\n",
    "from common.setup_notebook import set_css_style\n",
    "set_css_style()"
   ]
  },
  {
   "cell_type": "markdown",
   "metadata": {},
   "source": [
    "# Parsing"
   ]
  },
  {
   "cell_type": "markdown",
   "metadata": {},
   "source": [
    "## What is\n",
    "\n",
    "<figure style=\"float:right;\">\n",
    "  <img src=\"../../imgs/parse.jpg\" width=\"500\" align=\"right\" style=\"margin:0px 50px\"/>\n",
    "  <figcaption>The parse tree for sentence \"John hit the ball\".</figcaption>\n",
    "</figure>\n",
    "\n",
    "Parsing is the process of separating the syntactical structure of a sentence into the hyerarchical relationships of the components. The structure determines a tree with a root which is the whole sentence level and then the more you go down the more granular it gets. A parser is a program that uses a [CFG](../concepts-tasks/notions-linguistics.ipynb#Context-free-grammar) to generate such tree. What is does is searching in the space of trees allowed by the grammar to select the one which fits the sentence under scrutiny. There are different types of parsers. "
   ]
  },
  {
   "cell_type": "markdown",
   "metadata": {},
   "source": [
    "## Types of parsers"
   ]
  },
  {
   "cell_type": "markdown",
   "metadata": {},
   "source": [
    "### Recursive descent parser\n",
    "\n",
    "A recursive descent parser breaks a goal into sub-goals. Its top-level goal is to find the root node of the sentence. Then, grammar rules like\n",
    "\n",
    "$$\n",
    "S \\longrightarrow NP \\ \\ \\ VP\n",
    "$$\n",
    "\n",
    "allow the parser to identify the subsequent two sub-goals: finding a NP (noun phrase) and a VP (verb phrase). These sub-goals will be themselves split into the next layer of sub-goals and the process goes on until the parser finds the end token. If the selected rule does not work, as in, a final match is not found, the parser goes back again to the previous hyerarchical level and tries a different alternative.\n",
    "\n",
    "Once all words in the sentence under scrutiny are matched, the parser looks for other possible parses (other possible trees) for the same sentence to account for possible ambiguity (see the famous example \"I shot an elephant in my pijamas\", where it is ambiguous who is wearing the pijamas).\n",
    "\n",
    "This parser is:\n",
    "\n",
    "* expensive: has to consider all rules and check if they match\n",
    "* risky: may not converge to a solution\n",
    "* top-down: uses a grammar beforehand to check whether the input agrees with it\n",
    "\n",
    "#### An example\n",
    "\n",
    "Take the sentence \"The dog saw a man in the park\".\n",
    "\n",
    "1. At the first stage, the root node is the full sentence S = \"The dog saw a man in the park\".\n",
    "2. At the second stage, apply rules \n",
    "\n",
    "$$\n",
    "S \\longrightarrow NP \\ \\ \\ VP\n",
    "$$\n",
    "\n",
    "which fit with the the noun phrase NP = \"the dog\" and the verb phrase VP = \"saw a man in the park\"\n",
    "\n",
    "3. At the third stage, apply rule\n",
    "\n",
    "$$\n",
    "NP \\longrightarrow D \\ \\ \\ N\n",
    "$$\n",
    "\n",
    "and match the determined \"the\" and the noun \"dog\"\n",
    "\n",
    "4. continue this way until you match the whole sentence. If some rule fails to match, go back to the previous stage and look for another rule which matches it"
   ]
  },
  {
   "cell_type": "markdown",
   "metadata": {
    "collapsed": true
   },
   "source": [
    "### Shift-reduce parser\n",
    "\n",
    "This is a bottom-up parser in that it tries to find sequences of words corresponding to the right hand side of the grammar rule, rather than starting from the rule as a whole and finding for patterns matching it. Each input word is put in a stack (*shift* phase). Then, if the n top words in the stack match the n items on the right of some rule, they get popped and the item on the left side of the rule is pushed on the stack (*reduce* phase), which means that n items get replaced with one. \n",
    "\n",
    "The parser stops when all the input has been consumed and there is just one item on the stack: the root node (full sentence).\n",
    "\n",
    "This parser:\n",
    "\n",
    "* does not apply backtracking (the choices done cannot be corrected by going back), so is not guaranteed to find a tree even if it exists; this means it risks getting stuck\n",
    "* it only builds structured that correspond to the input text"
   ]
  },
  {
   "cell_type": "markdown",
   "metadata": {},
   "source": [
    "### Left-corner parser\n",
    "\n",
    "This is a hybrid between a bottom-up and a top-down approach: it effectively is a bottom-up parser with a top-down filtering; does not get trapped in recursions and pre-processes the grammar to build a table such as\n",
    "\n",
    "| Category        | Left corner        |\n",
    "| --------------- |:-------------:|\n",
    "| S      | NP |\n",
    "| NP      | D, P      |\n",
    "| VP | V      |\n",
    "| ... | ... | \n",
    "\n",
    "where the first column contains the non-terminal nodes and the left column all the possible left corners of that terminal. Each time a rule is under consideration, the parser checks if the next input is compatible with at least one pre-terminal category."
   ]
  },
  {
   "cell_type": "markdown",
   "metadata": {},
   "source": [
    "### Chart-parsing\n",
    "\n",
    "This one uses dynamic programming in that partial results get stored for reusing, eliminating the need for backtracking. For example the part \"in my pijamas\" is saved in a table (well-formed substring table, or WFST) and then later looked up when needed to be used as a subconstituent of NP or VP. When complete, the WFST contains all the possible solutions to abb subproblems needed to solving the whole problem.\n",
    "\n",
    "The table automatically stored all parses so this method is economical."
   ]
  },
  {
   "cell_type": "markdown",
   "metadata": {},
   "source": [
    "### Statistical parsing\n",
    "\n",
    "In statististical parsing, you have grammar rules and probability, which report the relative frequency of the rule. The parser aims at maximising the probability of the parse returned given the sentence, according to [Bayes' rule](../../prob-stats/methods-theorems-laws/bayes.ipynb), that is, maximising the probability of the parse given the sentence.\n",
    "\n",
    "The parser is trained on a pre-parsed corpus; a grammar is read; the empirical frequencies are collected and then the probability of the parse is computed.\n",
    "\n",
    "A famous statistical parser is the [Stanford Parser](https://nlp.stanford.edu/software/lex-parser.shtml)."
   ]
  },
  {
   "cell_type": "code",
   "execution_count": null,
   "metadata": {
    "collapsed": true
   },
   "outputs": [],
   "source": []
  }
 ],
 "metadata": {
  "kernelspec": {
   "display_name": "Python 3",
   "language": "python",
   "name": "python3"
  },
  "language_info": {
   "codemirror_mode": {
    "name": "ipython",
    "version": 3
   },
   "file_extension": ".py",
   "mimetype": "text/x-python",
   "name": "python",
   "nbconvert_exporter": "python",
   "pygments_lexer": "ipython3",
   "version": "3.6.1"
  }
 },
 "nbformat": 4,
 "nbformat_minor": 2
}
