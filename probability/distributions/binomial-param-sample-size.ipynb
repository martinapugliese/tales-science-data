{
 "cells": [
  {
   "cell_type": "code",
   "execution_count": 1,
   "metadata": {},
   "outputs": [
    {
     "data": {
      "text/html": [
       "<style>\n",
       "\n",
       "    /* DOWNLOAD COMPUTER MODERN FONT JUST IN CASE */\n",
       "    @font-face {\n",
       "        font-family: \"Computer Modern\";\n",
       "        src: url('http://9dbb143991406a7c655e-aa5fcb0a5a4ec34cff238a2d56ca4144.r56.cf5.rackcdn.com/cmunss.otf');\n",
       "    }\n",
       "    @font-face {\n",
       "        font-family: \"Computer Modern\";\n",
       "        font-weight: bold;\n",
       "        src: url('http://9dbb143991406a7c655e-aa5fcb0a5a4ec34cff238a2d56ca4144.r56.cf5.rackcdn.com/cmunsx.otf');\n",
       "    }\n",
       "    @font-face {\n",
       "        font-family: \"Computer Modern\";\n",
       "        font-style: oblique;\n",
       "        src: url('http://9dbb143991406a7c655e-aa5fcb0a5a4ec34cff238a2d56ca4144.r56.cf5.rackcdn.com/cmunsi.otf');\n",
       "    }\n",
       "    @font-face {\n",
       "        font-family: \"Computer Modern\";\n",
       "        font-weight: bold;\n",
       "        font-style: oblique;\n",
       "        src: url('http://9dbb143991406a7c655e-aa5fcb0a5a4ec34cff238a2d56ca4144.r56.cf5.rackcdn.com/cmunso.otf');\n",
       "    }\n",
       "\n",
       "    /* GLOBAL TEXT FONT */\n",
       "    div#notebook,\n",
       "    div.output_area pre,\n",
       "    div.output_wrapper,\n",
       "    div.prompt {\n",
       "      font-family: Times new Roman, monospace !important;\n",
       "    }\n",
       "\n",
       "    /* CENTER FIGURE */\n",
       "    .output_png {\n",
       "        display: table-cell;\n",
       "        text-align: center;\n",
       "        vertical-align: middle;\n",
       "    }\n",
       "\n",
       "    /* LINK */\n",
       "    a {\n",
       "        color: #FF8000;\n",
       "    }\n",
       "\n",
       "    /* H1 */\n",
       "    h1 {\n",
       "        font-size: 42px !important;\n",
       "        text-align: center;\n",
       "        color: #FF8000;\n",
       "    }\n",
       "\n",
       "    /* H2 */\n",
       "    h2 {\n",
       "        font-size: 32px !important;\n",
       "    }\n",
       "\n",
       "    /* H2 */\n",
       "    h3 {\n",
       "        font-size: 24px !important;\n",
       "    }\n",
       "\n",
       "    /* H2 */\n",
       "    h4 {\n",
       "        font-size: 20px !important;\n",
       "    }\n",
       "\n",
       "    /* PARAGRAPH */\n",
       "    p {\n",
       "        font-size: 16px !important;\n",
       "        text-align: center;\n",
       "    }\n",
       "\n",
       "    /* LIST ITEM */\n",
       "    li {\n",
       "        font-size: 16px !important;\n",
       "    }\n",
       "\n",
       "</style>\n",
       "\n"
      ],
      "text/plain": [
       "<IPython.core.display.HTML object>"
      ]
     },
     "execution_count": 1,
     "metadata": {},
     "output_type": "execute_result"
    }
   ],
   "source": [
    "%run ../../common/import_all.py\n",
    "\n",
    "from common.setup_notebook import set_css_style, setup_matplotlib, config_ipython\n",
    "config_ipython()\n",
    "setup_matplotlib()\n",
    "set_css_style()"
   ]
  },
  {
   "cell_type": "markdown",
   "metadata": {},
   "source": [
    "# The minimum sample size in the binomial parameter"
   ]
  },
  {
   "cell_type": "markdown",
   "metadata": {},
   "source": [
    "*The binomial parameter is $p = \\frac{k}{n}$, where $k$ is the number of successes and $n$ the number of trials. How good is this parameter (which is computed on a *sample* of size $n$) as an estimate of the real *population* parameter? Translated: how big does $n$ have to be for $p$ to be reliable?*"
   ]
  },
  {
   "cell_type": "markdown",
   "metadata": {},
   "source": [
    "## Intro: the De Moivre-Laplace theorem and how we use it"
   ]
  },
  {
   "cell_type": "markdown",
   "metadata": {},
   "source": [
    "**Statement**: the binomial distribution is approximated by a gaussian distribution when $n \\to \\infty$, this gaussian having mean $np$ and standard deviation $\\sqrt{np(1-p)}$. \n",
    "\n",
    "**Proof**: go see [[Wikipedia]](#wiki). \n",
    "\n",
    "For our purposes here, we're focussed on the binomial parameter, not the count of successes. By the linearity of the mean and standard deviation, we infer that when $n$ is large enough the distribution of the binomial parameter becomes a gaussian with mean $\\mu = p$ and standard deviation $\\sigma = \\sqrt{\\frac{p(1-p)}{n}}$. That's pretty much what we will use to answer our question."
   ]
  },
  {
   "cell_type": "markdown",
   "metadata": {},
   "source": [
    "## Choosing the margin of error and confidence level"
   ]
  },
  {
   "cell_type": "markdown",
   "metadata": {},
   "source": [
    "The \"how big the sample size has to be\" depends entirely on our choice of the error margin we want to allow around $p$ and the confidence level we want to have, that is, how sure we want to be about it. There is no number without an error.\n",
    "\n",
    "First of all, let us choose the desired margin of error we want. Say we want $p$ to fluctuate within a range of $0.01$, it'll then mean that we can write\n",
    "\n",
    "$$\n",
    "p \\pm 0.01\n",
    "$$\n",
    "\n",
    "Second of all, we need to decide the confidence level we want to apply. We use the statement from the De Moivre-Laplace theorem above and the [$z$-score](../concepts/z-score.ipynb) to affirm that the error margin $e$ is \n",
    "\n",
    "$$\n",
    "e = z_{\\alpha/2} \\sqrt{\\frac{p(1-p)}{n}}\n",
    "$$\n",
    "\n",
    "### Proving what we said here^\n",
    "\n",
    "The main source I used for this is [[the page from PennState about this]](#penn). \n",
    "\n",
    "From the notions of [confidence levels and intervals](../concepts/confidence-level-interval.ipynb), we can write that, setting our confidence level as $1-\\alpha$ and being $x$ our random variable of interest, namely the binomial parameter distributed with a gaussian of mean $p$ and standard deviation $\\sqrt{\\frac{p(1-p)}{n}}$, \n",
    "\n",
    "$$\n",
    "P \\left(-z_{\\alpha/2} \\leq \\frac{x - p}{\\sqrt{\\frac{p(1-p)}{n}}} \\leq z_{\\alpha/2}\\right) = 1 - \\alpha \\ ,\n",
    "$$\n",
    "\n",
    "which turns into \n",
    "\n",
    "$$\n",
    "p - z_{\\alpha/2}\\sqrt{\\frac{p(1-p)}{n}} \\leq x \\leq p + z_{\\alpha/2} \\sqrt{\\frac{p(1-p)}{n}} \\ ,\n",
    "$$\n",
    "\n",
    "so that stated above is the margin or error."
   ]
  },
  {
   "cell_type": "markdown",
   "metadata": {},
   "source": [
    "## Calculating the minimum $n$"
   ]
  },
  {
   "cell_type": "markdown",
   "metadata": {},
   "source": [
    "So from what we said above, setting both the margin of erros and the confidence level desired, we can easily compute the minumum required $n$ as \n",
    "\n",
    "$$\n",
    "n_{\\text{min}} = \\frac{z_{\\alpha/2}^2 p(1-p)}{e^2} \\ .\n",
    "$$\n",
    "\n",
    "In a stricter, more conservative case, we'd use the maximum of $p(1-p)$ (which is $\\frac{1}{2}$) instead, so that \n",
    "\n",
    "$$\n",
    "n_{\\text{min}} = \\frac{z_{\\alpha/2}^2 \\frac{1}{2} \\frac{1}{2}}{e^2} \\ .\n",
    "$$"
   ]
  },
  {
   "cell_type": "markdown",
   "metadata": {},
   "source": [
    "## References\n",
    "\n",
    "1. <a name=\"penn\"></a> [This great page from PennState on the topic](https://onlinecourses.science.psu.edu/stat500/node/30)\n",
    "2. <a name=\"wiki\"></a> [WIkipedia on the theorem](https://en.wikipedia.org/wiki/De_Moivre–Laplace_theorem)"
   ]
  },
  {
   "cell_type": "code",
   "execution_count": null,
   "metadata": {
    "collapsed": true
   },
   "outputs": [],
   "source": []
  }
 ],
 "metadata": {
  "kernelspec": {
   "display_name": "Python 3",
   "language": "python",
   "name": "python3"
  },
  "language_info": {
   "codemirror_mode": {
    "name": "ipython",
    "version": 3
   },
   "file_extension": ".py",
   "mimetype": "text/x-python",
   "name": "python",
   "nbconvert_exporter": "python",
   "pygments_lexer": "ipython3",
   "version": "3.6.0"
  }
 },
 "nbformat": 4,
 "nbformat_minor": 2
}
