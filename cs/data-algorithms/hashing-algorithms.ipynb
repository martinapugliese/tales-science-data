{
 "cells": [
  {
   "cell_type": "code",
   "execution_count": 1,
   "metadata": {},
   "outputs": [
    {
     "name": "stderr",
     "output_type": "stream",
     "text": [
      "ERROR:root:File `'../../common/import_all.py'` not found.\n"
     ]
    },
    {
     "ename": "ModuleNotFoundError",
     "evalue": "No module named 'common.setup_notebook'",
     "output_type": "error",
     "traceback": [
      "\u001b[0;31m---------------------------------------------------------------------------\u001b[0m",
      "\u001b[0;31mModuleNotFoundError\u001b[0m                       Traceback (most recent call last)",
      "\u001b[0;32m<ipython-input-1-08657577889b>\u001b[0m in \u001b[0;36m<module>\u001b[0;34m\u001b[0m\n\u001b[1;32m      2\u001b[0m \u001b[0;34m\u001b[0m\u001b[0m\n\u001b[1;32m      3\u001b[0m \u001b[0;32mimport\u001b[0m \u001b[0mtime\u001b[0m\u001b[0;34m\u001b[0m\u001b[0;34m\u001b[0m\u001b[0m\n\u001b[0;32m----> 4\u001b[0;31m \u001b[0;32mfrom\u001b[0m \u001b[0mcommon\u001b[0m\u001b[0;34m.\u001b[0m\u001b[0msetup_notebook\u001b[0m \u001b[0;32mimport\u001b[0m \u001b[0mset_css_style\u001b[0m\u001b[0;34m,\u001b[0m \u001b[0msetup_matplotlib\u001b[0m\u001b[0;34m,\u001b[0m \u001b[0mconfig_ipython\u001b[0m\u001b[0;34m\u001b[0m\u001b[0;34m\u001b[0m\u001b[0m\n\u001b[0m\u001b[1;32m      5\u001b[0m \u001b[0;34m\u001b[0m\u001b[0m\n\u001b[1;32m      6\u001b[0m \u001b[0mconfig_ipython\u001b[0m\u001b[0;34m(\u001b[0m\u001b[0;34m)\u001b[0m\u001b[0;34m\u001b[0m\u001b[0;34m\u001b[0m\u001b[0m\n",
      "\u001b[0;31mModuleNotFoundError\u001b[0m: No module named 'common.setup_notebook'"
     ]
    }
   ],
   "source": [
    "%run ../../common/import_all.py\n",
    "\n",
    "import time\n",
    "from common.setup_notebook import set_css_style, setup_matplotlib, config_ipython\n",
    "\n",
    "config_ipython()\n",
    "setup_matplotlib()\n",
    "set_css_style()"
   ]
  },
  {
   "cell_type": "markdown",
   "metadata": {},
   "source": [
    "# Hashing algos\n",
    "\n",
    "produce \"hash value\" or \"hash digest\"\n",
    "\n",
    "cryptographic - one way & deterministic, produce fixed length hash value out of variable-length data, should be computationally unfeasible to find two messages with the same hash\n",
    "\n",
    "## Algorithms\n",
    "\n",
    "### MD5\n",
    "\n",
    "digest is 128 bits, 1991 Ronald Rivest (professor, MIT), replaced MD4 (still him, 1990)\n",
    "\n",
    "found to be vulnerable as a crypto hashing -  fails the requirement that it should be unfeasible to find 2 messages with the same hash, still widely used regardless for password hashing though! https://www.zdnet.com/article/a-quarter-of-major-cmss-use-outdated-md5-as-the-default-password-hashing-scheme/\n",
    "\n",
    "\n",
    "> TODO exolain the algorithmns and write the code. Can use wiki page, tehre's some examples of results you shoudl get and pseudocode\n",
    "> not sure worth tbh\n",
    "\n",
    "\n",
    "### SHA-1\n",
    "\n",
    "developed by US govt, Capstone project (NSA) - 160 bit digest, 1995 (SHA-0 1993), difference with SHA-0 is only a single bitwise rotation\n",
    "since 2005 not secure against well-funded attackers \n",
    "\n",
    "similar principles but longer digest - both MD5 and SHA-1 descend from MD4 - MD is message digest. there's alo SHA-2\n"
   ]
  },
  {
   "cell_type": "code",
   "execution_count": null,
   "metadata": {},
   "outputs": [],
   "source": [
    "## References \n",
    "\n"
   ]
  }
 ],
 "metadata": {
  "kernelspec": {
   "display_name": "Python 3",
   "language": "python",
   "name": "python3"
  },
  "language_info": {
   "codemirror_mode": {
    "name": "ipython",
    "version": 3
   },
   "file_extension": ".py",
   "mimetype": "text/x-python",
   "name": "python",
   "nbconvert_exporter": "python",
   "pygments_lexer": "ipython3",
   "version": "3.7.6"
  }
 },
 "nbformat": 4,
 "nbformat_minor": 4
}
