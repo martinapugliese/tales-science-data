{
 "cells": [
  {
   "cell_type": "code",
   "execution_count": 1,
   "metadata": {},
   "outputs": [
    {
     "data": {
      "text/html": [
       "<style>\n",
       "\n",
       "    /* DOWNLOAD COMPUTER MODERN FONT JUST IN CASE */\n",
       "    @font-face {\n",
       "        font-family: \"Computer Modern\";\n",
       "        src: url('http://9dbb143991406a7c655e-aa5fcb0a5a4ec34cff238a2d56ca4144.r56.cf5.rackcdn.com/cmunss.otf');\n",
       "    }\n",
       "    @font-face {\n",
       "        font-family: \"Computer Modern\";\n",
       "        font-weight: bold;\n",
       "        src: url('http://9dbb143991406a7c655e-aa5fcb0a5a4ec34cff238a2d56ca4144.r56.cf5.rackcdn.com/cmunsx.otf');\n",
       "    }\n",
       "    @font-face {\n",
       "        font-family: \"Computer Modern\";\n",
       "        font-style: oblique;\n",
       "        src: url('http://9dbb143991406a7c655e-aa5fcb0a5a4ec34cff238a2d56ca4144.r56.cf5.rackcdn.com/cmunsi.otf');\n",
       "    }\n",
       "    @font-face {\n",
       "        font-family: \"Computer Modern\";\n",
       "        font-weight: bold;\n",
       "        font-style: oblique;\n",
       "        src: url('http://9dbb143991406a7c655e-aa5fcb0a5a4ec34cff238a2d56ca4144.r56.cf5.rackcdn.com/cmunso.otf');\n",
       "    }\n",
       "\n",
       "    /* GLOBAL TEXT FONT */\n",
       "    div#notebook,\n",
       "    div.output_area pre,\n",
       "    div.output_wrapper,\n",
       "    div.prompt {\n",
       "      font-family: Times new Roman, monospace !important;\n",
       "    }\n",
       "\n",
       "    /* CENTER FIGURE */\n",
       "    .output_png {\n",
       "        display: table-cell;\n",
       "        text-align: center;\n",
       "        vertical-align: middle;\n",
       "    }\n",
       "\n",
       "    /* LINK */\n",
       "    a {\n",
       "        color: #FF8000;\n",
       "    }\n",
       "\n",
       "    /* H1 */\n",
       "    h1 {\n",
       "        font-size: 42px !important;\n",
       "        text-align: center;\n",
       "        color: #FF8000;\n",
       "    }\n",
       "\n",
       "    /* H2 */\n",
       "    h2 {\n",
       "        font-size: 32px !important;\n",
       "    }\n",
       "\n",
       "    /* H2 */\n",
       "    h3 {\n",
       "        font-size: 24px !important;\n",
       "    }\n",
       "\n",
       "    /* H2 */\n",
       "    h4 {\n",
       "        font-size: 20px !important;\n",
       "    }\n",
       "\n",
       "    /* PARAGRAPH */\n",
       "    p {\n",
       "        font-size: 16px !important;\n",
       "        text-align: center;\n",
       "    }\n",
       "\n",
       "    /* LIST ITEM */\n",
       "    li {\n",
       "        font-size: 16px !important;\n",
       "    }\n",
       "\n",
       "</style>\n",
       "\n"
      ],
      "text/plain": [
       "<IPython.core.display.HTML object>"
      ]
     },
     "execution_count": 1,
     "metadata": {},
     "output_type": "execute_result"
    }
   ],
   "source": [
    "%run ../common/import_all.py\n",
    "\n",
    "from common.setup_notebook import set_css_style, setup_matplotlib, config_ipython\n",
    "config_ipython()\n",
    "setup_matplotlib()\n",
    "set_css_style()"
   ]
  },
  {
   "cell_type": "markdown",
   "metadata": {},
   "source": [
    "# Sigmoid neuron\n",
    "\n",
    "Most of the material in this notebook has been re-elaborated from the great book by M Nielsen [[1]](#book)."
   ]
  },
  {
   "cell_type": "markdown",
   "metadata": {},
   "source": [
    "## What is: definition and relation to the perceptron\n",
    "\n",
    "A sigmoid neuron (sometimes called *logistic neuron*) is one which has three main differences with respect to a [perceptron](perceptron.ipynb):\n",
    "\n",
    "* it allows for non-binary input values, which means the values $(x_1, x_2, \\ldots, x_n)$ with which it is fed are real numbers between 0 and 1;\n",
    "* its output function is not a step but a sigmoid (logistic function);\n",
    "* as a consequence, the output is also non binary but real\n",
    "\n",
    "The transfer function is the same as in the case of the perceptron, $\\mathbf{w} \\cdot \\mathbf{x} + b$, where $\\mathbf{w}$ are the weights, $\\mathbf{x}$ the input values and $b$ the bias. The output function is instead\n",
    "\n",
    "$$\n",
    "f(\\mathbf{x}) = \\frac{1}{1 + e^{-(\\mathbf{w} \\cdot \\mathbf{x} + b)}} \\ ,\n",
    "$$\n",
    "\n",
    "and this allows for small updates to the input to translate into small updates to the output, a thing that is difficult to achieve with a perceptron where due to the differences explained above small changes to the weights in input produce not-so-small output results. \n",
    "\n",
    "The logistic function looks like this:"
   ]
  },
  {
   "cell_type": "code",
   "execution_count": 2,
   "metadata": {},
   "outputs": [
    {
     "data": {
      "image/png": "[encoded data removed]",
      "text/plain": [
       "<matplotlib.figure.Figure at 0x1103fffd0>"
      ]
     },
     "metadata": {
      "image/png": {
       "height": 396,
       "width": 622
      }
     },
     "output_type": "display_data"
    }
   ],
   "source": [
    "x = np.arange(-10, 10, 0.1)\n",
    "\n",
    "plt.step(x, 1/(1 + np.exp(-x)))\n",
    "plt.xlim(-10, 10)\n",
    "plt.xlabel('$x$')\n",
    "plt.ylabel('$\\frac{1}{1+e^{-x}}$')\n",
    "plt.title('The logistic function')\n",
    "plt.show();"
   ]
  },
  {
   "cell_type": "markdown",
   "metadata": {},
   "source": [
    "The output of a sigmoid collapses onto that of a perceptron in the two extreme cases\n",
    "\n",
    "* $\\mathbf{w} \\cdot \\mathbf{x} + b \\to \\infty$, where $f(x) \\to 1$ (same as in the case of a large transfer function in the perceptron)\n",
    "* $\\mathbf{w} \\cdot \\mathbf{x} + b \\to -\\infty$, where $f(x) \\to 0$ (same as in the case of a negative transfer function in the perceptron)\n",
    "\n",
    "From the shape of the sigmoid function in figure it's clear that such an output is continuous version of the perceptron output. "
   ]
  },
  {
   "cell_type": "markdown",
   "metadata": {},
   "source": [
    "### A note on notation\n",
    "\n",
    "Note that if we assume a $x_0=1$ and use the bias as a further weight, we can write the transfer function as $\\mathbf{w} \\cdot \\mathbf{x}$ where $\\mathbf{w} = (b, w_1, w_2, \\ldots, w_n)$ and $\\mathbf{x} = (x_0, x_1, x_2, \\ldots, x_n)$."
   ]
  },
  {
   "cell_type": "markdown",
   "metadata": {},
   "source": [
    "## A learning neuron\n",
    "\n",
    "The smart thing about sigmoids is that you can instruct them to learn quite nicely. \n",
    "\n",
    "*What is learning?* Very good question, and I doubt I'd ever find a good answer. But let's forget about humans for now; in the case of a network of artificial neurons it means that through a process of tuning of the inputs (the weights and the bias) you can make it spits out what you want. Sigmoids do allow for this quite nicely. In fact, a variation in the input weights and bias produces a variation in the output which computes as\n",
    "\n",
    "$$\n",
    "\\delta f = \\sum \\frac{\\partial f}{\\partial w} \\delta w + \\frac{\\partial f}{\\partial x} \\delta x \\ ,\n",
    "$$\n",
    "\n",
    "which means the variation in the output is a linear function of the variations in the input. This is what makes learning feasible as you can tune the input iteratively to make for the output you want. A sigmoid neuron can be taught to learn in this very simple way: fine tuning the weights and the bias you can obtain the desired output. in the case of the perceptron, due to the step nature of the output function, this wouldn't be possible this way: you could of course tune the weights and the bias to make the neuron spit the desired output (and you also have just binary possibilities for it) but you have very limited in what you can do and in the way to do it."
   ]
  },
  {
   "cell_type": "markdown",
   "metadata": {},
   "source": [
    "## References\n",
    "\n",
    "1. <a name=\"book\"></a> M Nielsen, [**Neural networks and deep learning**](http://neuralnetworksanddeeplearning.com/chap1.html#sigmoid_neurons), Determination Press, 2015"
   ]
  },
  {
   "cell_type": "code",
   "execution_count": null,
   "metadata": {},
   "outputs": [],
   "source": []
  }
 ],
 "metadata": {
  "kernelspec": {
   "display_name": "Python 3",
   "language": "python",
   "name": "python3"
  },
  "language_info": {
   "codemirror_mode": {
    "name": "ipython",
    "version": 3
   },
   "file_extension": ".py",
   "mimetype": "text/x-python",
   "name": "python",
   "nbconvert_exporter": "python",
   "pygments_lexer": "ipython3",
   "version": "3.6.3"
  }
 },
 "nbformat": 4,
 "nbformat_minor": 2
}
