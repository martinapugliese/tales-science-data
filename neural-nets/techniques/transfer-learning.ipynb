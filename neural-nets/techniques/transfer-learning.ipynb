{
 "cells": [
  {
   "cell_type": "code",
   "execution_count": 1,
   "metadata": {},
   "outputs": [
    {
     "data": {
      "text/html": [
       "<style>\n",
       "\n",
       "    /* DOWNLOAD COMPUTER MODERN FONT JUST IN CASE */\n",
       "    @font-face {\n",
       "        font-family: \"Computer Modern\";\n",
       "        src: url('http://9dbb143991406a7c655e-aa5fcb0a5a4ec34cff238a2d56ca4144.r56.cf5.rackcdn.com/cmunss.otf');\n",
       "    }\n",
       "    @font-face {\n",
       "        font-family: \"Computer Modern\";\n",
       "        font-weight: bold;\n",
       "        src: url('http://9dbb143991406a7c655e-aa5fcb0a5a4ec34cff238a2d56ca4144.r56.cf5.rackcdn.com/cmunsx.otf');\n",
       "    }\n",
       "    @font-face {\n",
       "        font-family: \"Computer Modern\";\n",
       "        font-style: oblique;\n",
       "        src: url('http://9dbb143991406a7c655e-aa5fcb0a5a4ec34cff238a2d56ca4144.r56.cf5.rackcdn.com/cmunsi.otf');\n",
       "    }\n",
       "    @font-face {\n",
       "        font-family: \"Computer Modern\";\n",
       "        font-weight: bold;\n",
       "        font-style: oblique;\n",
       "        src: url('http://9dbb143991406a7c655e-aa5fcb0a5a4ec34cff238a2d56ca4144.r56.cf5.rackcdn.com/cmunso.otf');\n",
       "    }\n",
       "\n",
       "    /* GLOBAL TEXT FONT */\n",
       "    div#notebook,\n",
       "    div.output_area pre,\n",
       "    div.output_wrapper,\n",
       "    div.prompt {\n",
       "      font-family: Times new Roman, monospace !important;\n",
       "    }\n",
       "\n",
       "    /* CENTER FIGURE */\n",
       "    .output_png {\n",
       "        display: table-cell;\n",
       "        text-align: center;\n",
       "        vertical-align: middle;\n",
       "    }\n",
       "\n",
       "    /* LINK */\n",
       "    a {\n",
       "        color: #FF8000;\n",
       "    }\n",
       "\n",
       "    /* H1 */\n",
       "    h1 {\n",
       "        font-size: 42px !important;\n",
       "        text-align: center;\n",
       "        color: #FF8000;\n",
       "    }\n",
       "\n",
       "    /* H2 */\n",
       "    h2 {\n",
       "        font-size: 32px !important;\n",
       "    }\n",
       "\n",
       "    /* H2 */\n",
       "    h3 {\n",
       "        font-size: 24px !important;\n",
       "    }\n",
       "\n",
       "    /* H2 */\n",
       "    h4 {\n",
       "        font-size: 20px !important;\n",
       "    }\n",
       "\n",
       "    /* PARAGRAPH */\n",
       "    p {\n",
       "        font-size: 16px !important;\n",
       "        text-align: center;\n",
       "    }\n",
       "\n",
       "    /* LIST ITEM */\n",
       "    li {\n",
       "        font-size: 16px !important;\n",
       "    }\n",
       "\n",
       "</style>\n",
       "\n"
      ],
      "text/plain": [
       "<IPython.core.display.HTML object>"
      ]
     },
     "execution_count": 1,
     "metadata": {},
     "output_type": "execute_result"
    }
   ],
   "source": [
    "%run ../common/import_all.py\n",
    "\n",
    "from common.setup_notebook import set_css_style, setup_matplotlib, config_ipython\n",
    "config_ipython()\n",
    "setup_matplotlib()\n",
    "set_css_style()"
   ]
  },
  {
   "cell_type": "markdown",
   "metadata": {},
   "source": [
    "# Transfer learning"
   ]
  },
  {
   "cell_type": "markdown",
   "metadata": {},
   "source": [
    "Using transfer learning means using a pre-trained network and add to it or fine-tune it to your data. A typical pre-trained network has been released by someone after having being trained on some data and might be applied to your problem with some edits.\n",
    "\n",
    "The idea is to run the pre-trained network on your data in order to extract features from it, then passing them to additional layers you add to customise the whole model to your problem. \n",
    "\n",
    "A typical example is in image classification: a dataset like ImageNet has (and is) used for training networks over the classification of what an image displays, it's a dataset with 1000 classes and millions of images. If your problem is that of classifying images, and your classes are among the ImageNet ones, you can use a pre-trained network to make it recognise the features over your data and then customise."
   ]
  },
  {
   "cell_type": "markdown",
   "metadata": {},
   "source": [
    "> TODO an example in Keras"
   ]
  },
  {
   "cell_type": "markdown",
   "metadata": {},
   "source": [
    "## Existing networks\n",
    "\n",
    "> TODO restructure this all notebook\n",
    "\n",
    "> TODO imagenet conest, ILSVCR\n",
    "\n",
    "> training times and beast of GPUs used increase in time, fetch some graphs\n",
    "\n",
    "### LeNet\n",
    "\n",
    "Y LeCun 1998\n",
    "\n",
    "### AlexNet\n",
    "\n",
    "by Alex Krizhevsky & , &, started it all. 2010? Won the ImageNet contest in 2012, which is the year when CNNs were first shown to be great for the task. \n",
    "\n",
    "> TOdo on imagenet and history\n",
    "\n",
    "### ZF Net\n",
    "\n",
    "from 2012 on, everybody started submitting solutions with CNNs. ZF Net (Z F surnames) won in 2013. fine tunes AlexNet . uses the concept of deconvolutional network\n",
    "\n",
    "### VGG Net\n",
    "\n",
    "2014, wasn't winner. simple\n",
    "\n",
    "### GoogleNet\n",
    "\n",
    "2015, inception module (it's not sequential and was among first nets to destroy the tradition that cnns had to be sequential), won in 2014.\n",
    "\n",
    "### ResNet\n",
    "\n",
    "Microsoft 2015. very deep, won 2015. \n",
    "\n",
    "### R-CNN\n",
    "\n",
    "region-based cnns. faster \n",
    "\n",
    "### Generative adversarial nets\n",
    "\n",
    "2014, \n",
    "\n",
    "\n",
    "### generating image descriptions\n",
    "\n",
    "cnn + rnn\n",
    "\n",
    "\n",
    "### spatial transformer net\n",
    "\n",
    "2015"
   ]
  },
  {
   "cell_type": "markdown",
   "metadata": {},
   "source": [
    "## References\n",
    "\n",
    "1. https://adeshpande3.github.io/adeshpande3.github.io/The-9-Deep-Learning-Papers-You-Need-To-Know-About.html\n",
    "2. <a name=\"alexnet\"></a> [**ImageNet classification with deep convolutional neural netowrks**](https://papers.nips.cc/paper/4824-imagenet-classification-with-deep-convolutional-neural-networks.pdf), ...\n"
   ]
  }
 ],
 "metadata": {
  "kernelspec": {
   "display_name": "Python 3",
   "language": "python",
   "name": "python3"
  },
  "language_info": {
   "codemirror_mode": {
    "name": "ipython",
    "version": 3
   },
   "file_extension": ".py",
   "mimetype": "text/x-python",
   "name": "python",
   "nbconvert_exporter": "python",
   "pygments_lexer": "ipython3",
   "version": "3.6.5"
  }
 },
 "nbformat": 4,
 "nbformat_minor": 2
}
