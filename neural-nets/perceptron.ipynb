{
 "cells": [
  {
   "cell_type": "code",
   "execution_count": 1,
   "metadata": {},
   "outputs": [
    {
     "data": {
      "text/html": [
       "<style>\n",
       "\n",
       "    /* DOWNLOAD COMPUTER MODERN FONT JUST IN CASE */\n",
       "    @font-face {\n",
       "        font-family: \"Computer Modern\";\n",
       "        src: url('http://9dbb143991406a7c655e-aa5fcb0a5a4ec34cff238a2d56ca4144.r56.cf5.rackcdn.com/cmunss.otf');\n",
       "    }\n",
       "    @font-face {\n",
       "        font-family: \"Computer Modern\";\n",
       "        font-weight: bold;\n",
       "        src: url('http://9dbb143991406a7c655e-aa5fcb0a5a4ec34cff238a2d56ca4144.r56.cf5.rackcdn.com/cmunsx.otf');\n",
       "    }\n",
       "    @font-face {\n",
       "        font-family: \"Computer Modern\";\n",
       "        font-style: oblique;\n",
       "        src: url('http://9dbb143991406a7c655e-aa5fcb0a5a4ec34cff238a2d56ca4144.r56.cf5.rackcdn.com/cmunsi.otf');\n",
       "    }\n",
       "    @font-face {\n",
       "        font-family: \"Computer Modern\";\n",
       "        font-weight: bold;\n",
       "        font-style: oblique;\n",
       "        src: url('http://9dbb143991406a7c655e-aa5fcb0a5a4ec34cff238a2d56ca4144.r56.cf5.rackcdn.com/cmunso.otf');\n",
       "    }\n",
       "\n",
       "    /* GLOBAL TEXT FONT */\n",
       "    div#notebook,\n",
       "    div.output_area pre,\n",
       "    div.output_wrapper,\n",
       "    div.prompt {\n",
       "      font-family: Times new Roman, monospace !important;\n",
       "    }\n",
       "\n",
       "    /* CENTER FIGURE */\n",
       "    .output_png {\n",
       "        display: table-cell;\n",
       "        text-align: center;\n",
       "        vertical-align: middle;\n",
       "    }\n",
       "\n",
       "    /* LINK */\n",
       "    a {\n",
       "        color: #FF8000;\n",
       "    }\n",
       "\n",
       "    /* H1 */\n",
       "    h1 {\n",
       "        font-size: 42px !important;\n",
       "        text-align: center;\n",
       "        color: #FF8000;\n",
       "    }\n",
       "\n",
       "    /* H2 */\n",
       "    h2 {\n",
       "        font-size: 32px !important;\n",
       "    }\n",
       "\n",
       "    /* H2 */\n",
       "    h3 {\n",
       "        font-size: 24px !important;\n",
       "    }\n",
       "\n",
       "    /* H2 */\n",
       "    h4 {\n",
       "        font-size: 20px !important;\n",
       "    }\n",
       "\n",
       "    /* PARAGRAPH */\n",
       "    p {\n",
       "        font-size: 16px !important;\n",
       "        text-align: center;\n",
       "    }\n",
       "\n",
       "    /* LIST ITEM */\n",
       "    li {\n",
       "        font-size: 16px !important;\n",
       "    }\n",
       "\n",
       "</style>\n",
       "\n"
      ],
      "text/plain": [
       "<IPython.core.display.HTML object>"
      ]
     },
     "execution_count": 1,
     "metadata": {},
     "output_type": "execute_result"
    }
   ],
   "source": [
    "%run ../common/import_all.py\n",
    "\n",
    "from common.setup_notebook import set_css_style, setup_matplotlib, config_ipython\n",
    "config_ipython()\n",
    "setup_matplotlib()\n",
    "set_css_style()"
   ]
  },
  {
   "cell_type": "markdown",
   "metadata": {},
   "source": [
    "# The perceptron"
   ]
  },
  {
   "cell_type": "markdown",
   "metadata": {
    "collapsed": true
   },
   "source": [
    "The perceptron is (one of?) the very first algorithms for artificial neural networks, it was developed in 1957 at a [Cornell lab](https://en.wikipedia.org/wiki/Calspan) funded by the US Navy, by Rosenblatt, a psychologist who was a pioneer in the field of Artificial Intelligence, and published in [[1]](#rosenblatt). It was immediately advertised with lots of fanfare and great expectations (the NY Times at that time published an article [[2]](#nyt), boldly describing it as a machine which could think and learn on its own), and then the interest in it declined due to the unfeasability of many tasks it was supposed to tackle. Have a look a [[3]](#article) for a nice outline of the history of this algorithm. Rosenblatt's book "
   ]
  },
  {
   "cell_type": "markdown",
   "metadata": {},
   "source": [
    "## How it works\n",
    "\n",
    "\n",
    "<figure style=\"float:left;\">\n",
    "  <img src=\"../imgs/perceptron.png\" width=\"400\" align=\"left\" style=\"margin:20px 50px\"/>\n",
    "  <figcaption>Image from [[the M Nielsen book]](#book), which inspired most of the writing here.</figcaption>\n",
    "</figure>\n",
    "\n",
    "The way a perceptron works is rather simple, yet quite ingenious. You have the representation of a neuron as per figure, where a series of binary input values $(x_1, x_2, \\ldots, x_n)$ come in and an output is out. Inputs can be weighted differently, so that weights $(w_1, w_2, \\ldots, w_n)$ are given. The output will depend on inputs and weights, the inputs being the values which determine a decision, the weights the how important each value is.  \n",
    "\n",
    "The neuron is equipped with a threshold value $t$, or alternatively a bias value $b=-t$, such that the output $o$ follows rules\n",
    "\n",
    "$$\n",
    "o = \\begin{cases}\n",
    "0 \\ \\text{ if } \\ w \\cdot x + b \\leq 0\\\\\n",
    "1 \\ \\text{ if } \\ w \\cdot x + b > 0\n",
    "\\end{cases}\n",
    "$$\n",
    "\n",
    "which is to say that the neuron \"fires\" when the dot product of input and weights plus its bias pass 0 (or aleternatively when the dot product of weights and inputs passes threshold). The bias values makes things such that the larger it is, the easier it will be for the neuron to fire. \n",
    "\n",
    "So the perceptron is pretty much an artificial neuron with the activation function given by the [Heaviside step](../maths/functions.ipynb#Heaviside-step).\n",
    "\n",
    "### An example: a NAND gate\n",
    "\n",
    "You can represent a NAND gate with a perceptron. A NAND gate has truth table ($X$ and $Y$ being the inputs, $o$ the output):\n",
    "\n",
    "| X         | Y           | o      |\n",
    "| :-------: |:-----------:| :-----:|\n",
    "| 0         | 0 | 1 |\n",
    "| 0         | 1 | 1 |\n",
    "| 1         | 0 | 1 |\n",
    "| 1         | 1 | 0 |\n",
    "\n",
    "You can quickly obtain it with a perceptron, for example (again from [[Nielsen's book]](#1)) with weights $w_1=w_2=-2$ and bias $b=3$. I've done it in [[this repo]](#3)."
   ]
  },
  {
   "cell_type": "markdown",
   "metadata": {},
   "source": [
    "## References\n",
    "\n",
    "1. <a name=\"rosenblatt\"></a> F Rosenblatt, Frank, *Principles of neurodynamics, perceptrons and the theory of brain mechanisms*, No. VG-1196-G-8. **Cornell Aeronautical Lab**, 1961\n",
    "2. <a name=\"nyt\"></a> The New York Times [article](http://www.nytimes.com/1958/07/08/archives/new-navy-device-learns-by-doing-psychologist-shows-embryo-of.html) on the perceptron\n",
    "3. <a name=\"article\"></a> A fab [article](http://fusion.net/story/54904/thinking-computer-perceptron/?curator=MediaREDEF) on Fusion TV outlining a bit of the history of this algorithm, very nice read\n",
    "4. <a name=\"book\"></a> *Neural Networks and Deep Learning on perceptrons*, a brilliant [book](http://neuralnetworksanddeeplearning.com/chap1.html#perceptrons) by M Nielsen\n",
    "5. <a name=\"repo\"></a> My [repo](https://github.com/martinapugliese/neural-nets-compilation) on coding ANNs from scratch"
   ]
  },
  {
   "cell_type": "code",
   "execution_count": null,
   "metadata": {
    "collapsed": true
   },
   "outputs": [],
   "source": []
  }
 ],
 "metadata": {
  "kernelspec": {
   "display_name": "Python 3",
   "language": "python",
   "name": "python3"
  },
  "language_info": {
   "codemirror_mode": {
    "name": "ipython",
    "version": 3
   },
   "file_extension": ".py",
   "mimetype": "text/x-python",
   "name": "python",
   "nbconvert_exporter": "python",
   "pygments_lexer": "ipython3",
   "version": "3.6.0"
  }
 },
 "nbformat": 4,
 "nbformat_minor": 2
}
