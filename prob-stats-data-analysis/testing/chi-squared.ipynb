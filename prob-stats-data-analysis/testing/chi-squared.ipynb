{
 "cells": [
  {
   "cell_type": "code",
   "execution_count": 1,
   "metadata": {},
   "outputs": [
    {
     "data": {
      "text/html": [
       "<style>\n",
       "\n",
       "    /* DOWNLOAD COMPUTER MODERN FONT JUST IN CASE */\n",
       "    @font-face {\n",
       "        font-family: \"Computer Modern\";\n",
       "        src: url('http://9dbb143991406a7c655e-aa5fcb0a5a4ec34cff238a2d56ca4144.r56.cf5.rackcdn.com/cmunss.otf');\n",
       "    }\n",
       "    @font-face {\n",
       "        font-family: \"Computer Modern\";\n",
       "        font-weight: bold;\n",
       "        src: url('http://9dbb143991406a7c655e-aa5fcb0a5a4ec34cff238a2d56ca4144.r56.cf5.rackcdn.com/cmunsx.otf');\n",
       "    }\n",
       "    @font-face {\n",
       "        font-family: \"Computer Modern\";\n",
       "        font-style: oblique;\n",
       "        src: url('http://9dbb143991406a7c655e-aa5fcb0a5a4ec34cff238a2d56ca4144.r56.cf5.rackcdn.com/cmunsi.otf');\n",
       "    }\n",
       "    @font-face {\n",
       "        font-family: \"Computer Modern\";\n",
       "        font-weight: bold;\n",
       "        font-style: oblique;\n",
       "        src: url('http://9dbb143991406a7c655e-aa5fcb0a5a4ec34cff238a2d56ca4144.r56.cf5.rackcdn.com/cmunso.otf');\n",
       "    }\n",
       "\n",
       "    /* GLOBAL TEXT FONT */\n",
       "    div#notebook,\n",
       "    div.output_area pre,\n",
       "    div.output_wrapper,\n",
       "    div.prompt {\n",
       "      font-family: Times new Roman, monospace !important;\n",
       "    }\n",
       "\n",
       "    /* CENTER FIGURE */\n",
       "    .output_png {\n",
       "        display: table-cell;\n",
       "        text-align: center;\n",
       "        vertical-align: middle;\n",
       "    }\n",
       "\n",
       "    /* LINK */\n",
       "    a {\n",
       "        color: #FF8000;\n",
       "    }\n",
       "\n",
       "    /* H1 */\n",
       "    h1 {\n",
       "        font-size: 42px !important;\n",
       "        text-align: center;\n",
       "        color: #FF8000;\n",
       "    }\n",
       "\n",
       "    /* H2 */\n",
       "    h2 {\n",
       "        font-size: 32px !important;\n",
       "    }\n",
       "\n",
       "    /* H2 */\n",
       "    h3 {\n",
       "        font-size: 24px !important;\n",
       "    }\n",
       "\n",
       "    /* H2 */\n",
       "    h4 {\n",
       "        font-size: 20px !important;\n",
       "    }\n",
       "\n",
       "    /* PARAGRAPH */\n",
       "    p {\n",
       "        font-size: 16px !important;\n",
       "        text-align: center;\n",
       "    }\n",
       "\n",
       "    /* LIST ITEM */\n",
       "    li {\n",
       "        font-size: 16px !important;\n",
       "    }\n",
       "\n",
       "</style>\n",
       "\n"
      ],
      "text/plain": [
       "<IPython.core.display.HTML object>"
      ]
     },
     "execution_count": 1,
     "metadata": {},
     "output_type": "execute_result"
    }
   ],
   "source": [
    "%run ../../common/import_all.py\n",
    "\n",
    "from common.setup_notebook import set_css_style, setup_matplotlib, config_ipython\n",
    "config_ipython()\n",
    "setup_matplotlib()\n",
    "set_css_style()"
   ]
  },
  {
   "cell_type": "markdown",
   "metadata": {},
   "source": [
    "# The $\\chi^2$ test"
   ]
  },
  {
   "cell_type": "markdown",
   "metadata": {},
   "source": [
    "## What is"
   ]
  },
  {
   "cell_type": "markdown",
   "metadata": {},
   "source": [
    "The $\\chi^2$ test is a statistical hypothesis test in which the distribution of the test statistic calculated on the data is a [$\\chi^2$ distribution](../distributions-measures/famous-distributions.ipynb#Chi-squared,-$\\chi^2$) under null hypothesis. The assumption is that  data is normally distributed and independent so the $\\chi^2$ test can also be used to reject the  hypothesis that data are independent.\n",
    "\n",
    "<img src=\"../../imgs/chisquared.jpg\"  width=\"400\" align=\"left\" style=\"margin:0px 50px\">\n",
    "\n",
    "It is used with categorical data to see if the number of individuals in each category is consistent with the expected values. In practice, the test is used to determine if there is a significant difference between the expected frequencies and the observed frequencies of the outcomes of an experiment in one or more categories, that is, if the observed differences are due to chance. The idea is: is the number of individuals falling into each category significantly different from the number you would expect under the null hypothesis? Is this difference between expected and observed  data due to sampling or is it real?\n",
    "\n",
    "The $\\chi^2$ is defined as \n",
    "\n",
    "$$\n",
    "\\chi^2 = \\sum_i \\frac{(o_i - h_i)^2}{h_i} \\ ,\n",
    "$$\n",
    "\n",
    "where $o_i$ is the observed value and $h_i$ the null hypothesis value. \n",
    "\n",
    "The computed $\\chi^2$ has to be compared to [table values](http://sites.stat.psu.edu/~mga/401/tables/Chi-square-table.pdf) for the $\\chi^2$ distribution at the chosen level of significance and for given degrees of  freedom one has in order to decide if the null hypothesis can be rejected or not, using the [$p$-value](../concepts/p-value-confidence-level.ipynb)."
   ]
  },
  {
   "cell_type": "markdown",
   "metadata": {},
   "source": [
    "## An example"
   ]
  },
  {
   "cell_type": "markdown",
   "metadata": {},
   "source": [
    "This simple example has been adapted from [[here]](#example-dice).\n",
    "\n",
    "Let's say that we have a (6-faces) dice and we want to know if it is fair, that is, if each of the faces is equiprobable or if there is any bias towards a face. We throw the dice 60 times: in the case of a fair dice we would have each face appearing 10 times (60/6 where 6 is the number of possible results). This will be the null hypothesis.\n",
    "\n",
    "We build a table containing the actual counts we get for each face, and said null hypothesis: \n",
    "\n",
    "|  |  |  |  |  |  |  |\n",
    "| :--- |:---:|:---:|:---:|:---:|:---:|:---:|\n",
    "|  | **Face 1** | **Face 2** | **Face 3** | **Face 4** | **Face 5** | **Face 6** | \n",
    "| **Observations** | 5 | 8 | 9 | 8 | 10 | 20 |\n",
    "| **Null Hypothesis** | 10 | 10 | 10 | 10 | 10 | 10 |\n",
    "\n",
    "\n",
    "The $\\chi^2$ gets calculated as\n",
    "\n",
    "\\begin{align}\n",
    "\\chi^2 = \\frac{(5-10)^2}{10} + \\frac{(8-10)^2}{10} + \\frac{(9-10)^2}{10} &+& \\\\ \n",
    "\\frac{(8-10)^2}{10} + \\frac{(10-10)^2}{10} + \\frac{(20-10)^2}{10} = 13.4\n",
    "\\end{align}\n",
    "\n",
    "The number of degrees of freedom is the number of terms minus 1 , so $6-1=5$. Looking up for the values of the $\\chi^2$ distribution at this number of degrees of freedom and for a confidence level of $95\\%$ we get a value of $11.070$. Because our calculated $\\chi^2$ exceeds the table value, this means that the $p$-value associated to it is smaller than $0.05$, so we can discard the null hypothesis at that significance level. \n",
    "\n",
    "Nevertheless, note that if we choose a confidence level of $99\\%$ instead, so want to be safer, we cannot discard the null hypothesis as the table value for the $\\chi^2$ at that level is $15.086$, bigger than our calculated one, hence the $p$-value does pass the required threshold of $0.01$. "
   ]
  },
  {
   "cell_type": "markdown",
   "metadata": {},
   "source": [
    "## A typical use case: the goodness of a distribution fit"
   ]
  },
  {
   "cell_type": "markdown",
   "metadata": {},
   "source": [
    "The $\\chi^2$ test is widely used to determine how good a fit is, that is, how well a statistical model describes (fits) the observational points. The number of degrees of freedom to be used to retrieve the comparison with table values is the total number of observations minus the number of fit parameters. \n",
    "\n",
    "### Fitting a uniform distribution\n",
    "\n",
    "Let's say we have $n$ data points and we bin them into $b$ bins, the expected occurrence frequency of each bin (the number per bin expected) would be, given that the distribution is uniform,\n",
    "\n",
    "$$\n",
    "h_i = \\frac{n}{b} \\ \\ \\forall i \\ ,\n",
    "$$ \n",
    "\n",
    "$i$ being the index of the bins.\n",
    "\n",
    "Our $\\chi^2$ test statistic is\n",
    "\n",
    "$$\n",
    "\\chi^2 = \\sum_{i=1}^b \\frac{(o_i - h_i)^2}{h_i}\n",
    "$$\n",
    "\n",
    "where $o_i$ is the observed number of data points in the bin. \n",
    "\n",
    "\n",
    "### Fitting a non-uniform distribution\n",
    "\n",
    "In that case the hypothesis values have to be computed from the hypothesis distribution."
   ]
  },
  {
   "cell_type": "markdown",
   "metadata": {},
   "source": [
    "## References \n",
    "\n",
    "1. <a name=\"example-dice\"></a> [The original source for the dice example](http://ccnmtl.columbia.edu/projects/qmss/the_chisquare_test/about_the_chisquare_test.html)"
   ]
  },
  {
   "cell_type": "code",
   "execution_count": null,
   "metadata": {
    "collapsed": true
   },
   "outputs": [],
   "source": []
  }
 ],
 "metadata": {
  "kernelspec": {
   "display_name": "Python 3",
   "language": "python",
   "name": "python3"
  },
  "language_info": {
   "codemirror_mode": {
    "name": "ipython",
    "version": 3
   },
   "file_extension": ".py",
   "mimetype": "text/x-python",
   "name": "python",
   "nbconvert_exporter": "python",
   "pygments_lexer": "ipython3",
   "version": "3.6.0"
  }
 },
 "nbformat": 4,
 "nbformat_minor": 2
}
