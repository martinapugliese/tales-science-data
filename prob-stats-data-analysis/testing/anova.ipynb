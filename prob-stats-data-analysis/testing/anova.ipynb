{
 "cells": [
  {
   "cell_type": "code",
   "execution_count": 2,
   "metadata": {},
   "outputs": [
    {
     "data": {
      "text/html": [
       "<style>\n",
       "\n",
       "    /* DOWNLOAD COMPUTER MODERN FONT JUST IN CASE */\n",
       "    @font-face {\n",
       "        font-family: \"Computer Modern\";\n",
       "        src: url('http://9dbb143991406a7c655e-aa5fcb0a5a4ec34cff238a2d56ca4144.r56.cf5.rackcdn.com/cmunss.otf');\n",
       "    }\n",
       "    @font-face {\n",
       "        font-family: \"Computer Modern\";\n",
       "        font-weight: bold;\n",
       "        src: url('http://9dbb143991406a7c655e-aa5fcb0a5a4ec34cff238a2d56ca4144.r56.cf5.rackcdn.com/cmunsx.otf');\n",
       "    }\n",
       "    @font-face {\n",
       "        font-family: \"Computer Modern\";\n",
       "        font-style: oblique;\n",
       "        src: url('http://9dbb143991406a7c655e-aa5fcb0a5a4ec34cff238a2d56ca4144.r56.cf5.rackcdn.com/cmunsi.otf');\n",
       "    }\n",
       "    @font-face {\n",
       "        font-family: \"Computer Modern\";\n",
       "        font-weight: bold;\n",
       "        font-style: oblique;\n",
       "        src: url('http://9dbb143991406a7c655e-aa5fcb0a5a4ec34cff238a2d56ca4144.r56.cf5.rackcdn.com/cmunso.otf');\n",
       "    }\n",
       "\n",
       "    /* GLOBAL TEXT FONT */\n",
       "    div#notebook,\n",
       "    div.output_area pre,\n",
       "    div.output_wrapper,\n",
       "    div.prompt {\n",
       "      font-family: Times new Roman, monospace !important;\n",
       "    }\n",
       "\n",
       "    /* CENTER FIGURE */\n",
       "    .output_png {\n",
       "        display: table-cell;\n",
       "        text-align: center;\n",
       "        vertical-align: middle;\n",
       "    }\n",
       "\n",
       "    /* LINK */\n",
       "    a {\n",
       "        color: #FF8000;\n",
       "    }\n",
       "\n",
       "    /* H1 */\n",
       "    h1 {\n",
       "        font-size: 42px !important;\n",
       "        text-align: center;\n",
       "        color: #FF8000;\n",
       "    }\n",
       "\n",
       "    /* H2 */\n",
       "    h2 {\n",
       "        font-size: 32px !important;\n",
       "    }\n",
       "\n",
       "    /* H2 */\n",
       "    h3 {\n",
       "        font-size: 24px !important;\n",
       "    }\n",
       "\n",
       "    /* H2 */\n",
       "    h4 {\n",
       "        font-size: 20px !important;\n",
       "    }\n",
       "\n",
       "    /* PARAGRAPH */\n",
       "    p {\n",
       "        font-size: 16px !important;\n",
       "        text-align: center;\n",
       "    }\n",
       "\n",
       "    /* LIST ITEM */\n",
       "    li {\n",
       "        font-size: 16px !important;\n",
       "    }\n",
       "\n",
       "</style>\n",
       "\n"
      ],
      "text/plain": [
       "<IPython.core.display.HTML object>"
      ]
     },
     "execution_count": 2,
     "metadata": {},
     "output_type": "execute_result"
    }
   ],
   "source": [
    "%run ../../common/import_all.py\n",
    "\n",
    "from common.setup_notebook import set_css_style, setup_matplotlib, config_ipython\n",
    "\n",
    "config_ipython()\n",
    "setup_matplotlib()\n",
    "set_css_style()"
   ]
  },
  {
   "cell_type": "markdown",
   "metadata": {},
   "source": [
    "# ANOVA: Analysis of Variance"
   ]
  },
  {
   "cell_type": "markdown",
   "metadata": {},
   "source": [
    "ANOVA (Analysis of Variance) is a method proposed by Fisher in the late '10s of the twentieth century to analyse differences among means and variations in sets of data, the idea being that of separating the variance into components for each source of variation. It is a generalisation of the t-test to more than 2 groups and it follows the same logics: a result is called significant if it is proven to be unlikely to have occurred by chance; the null hypothesis being that all groups are random samples of the same population, so that their means are equal. ANOVA is cheaper to run than multiple t-tests and also more reliable. "
   ]
  },
  {
   "cell_type": "markdown",
   "metadata": {},
   "source": [
    "## Learning by example\n",
    "\n",
    "This is a classic illustrative example of the working of the method. \n",
    "\n",
    "Let's say that we have some trees, of the same species, located in 7 different places and we want to see whether the leaf size changes by location. We collect 10 leaves from each of the locations, so we have 10 samples in each of the 7 groups. Clearly, the leaf size will vary within a group but the idea is to check whether group averages are different. \n",
    "\n",
    "Our null hypothesis is that the groups are not different (they appear so by chance). We use the $F$-ratio to evaluate the variation in the group averages we measure to the one we expect:\n",
    "\n",
    "$$\n",
    "F = \\frac{\\text{meausured variation in group means}}{\\text{expected variation in group means}}\n",
    "$$\n",
    "\n",
    "An $F ~ 1$ tells that the null hypothesis is correct; a large $F$ that there is a location effect instead. But how big should $F$ be before we reject the null hypothesis? We use the p-value to assess that. \n",
    "\n",
    "The numerator of $F$ is the *mean square for between*, computed as the mean sum of the squared deviations of each group's mean to the overall mean, using the number of groups - 1 as the degrees of freedom; the denominator is the *mean square for error*, computed as the mean sum of the squared deviations of each leaf size from the group's mean, with degrees of freedom being the number of leaves - the number of groups."
   ]
  },
  {
   "cell_type": "markdown",
   "metadata": {},
   "source": [
    "## How the method works and what it needs\n",
    "\n",
    "ANOVA is based on comparing the variance between the samples to the variance within each sample. If the first is much greater than the second, the means of the samples are not equal; if on the contrary the first is on par with the second, the means of the samples are not significantly different. \n",
    "\n",
    "The assumptions of ANOVA are\n",
    "\n",
    "* the populations involved are normally distributed\n",
    "* the populations have the same variance\n",
    "* the samples are randomly selected and independent"
   ]
  },
  {
   "cell_type": "markdown",
   "metadata": {},
   "source": [
    "## A worked example\n",
    "\n",
    "This example has been reworked from [here](http://cba.ualr.edu/smartstat/topics/anova/example.pdf). Let's say that we have data about the pressure exercised on the driver's head by the airbag in a crash test, for 3 types of cars: compact, midsize and fullsize, see table\n",
    "\n",
    "| Compact        | Midsize           | Fullsize  |\n",
    "| ------------- |:-------------:| -----:|\n",
    "| 643     | 469 | 484 |\n",
    "| 655     | 427 | 456 |\n",
    "| 702     | 525 | 402 |\n",
    "\n",
    "We want to know whether the mean pressure exercised is equal for each of the car's categories, using a significance level of 5%. \n",
    "\n",
    "First, we need to compute the sample means and variances/standard deviations (computed with 2 degrees of freedom), which are\n",
    "\n",
    "| Car category | Mean        | STD           |\n",
    "| -------------| ----------  |:-------------:|\n",
    "|   Compact  | 666.67     | 31.18 | \n",
    "|   Midsize  | 473.67     | 49.17 | \n",
    "|   Fullsize  | 447.33     | 41.68 | \n",
    "\n",
    "Out null hypothesis is that the population means are all equal: $H_0 = \\mu_1 = \\mu_2 = \\mu_3$; the alternative hypothesis is that at least one of them is significantly different from the others.\n",
    "\n",
    "Let's calculate the F-ratio. We start from the total sum of squares, which gives the total variation in the data:\n",
    "\n",
    "$$\n",
    "SST = \\sum_r \\sum_j (X_{ij} - \\bar x)^2  \\ ,\n",
    "$$\n",
    "\n",
    "where $the first sum is over the rows of the data table and the second over the columns$; $\\bar x$ is the gran mean of all samples, which is 529.22, so the SST comes at 96303.55. \n",
    "\n",
    "Then we have the between sum of squares, which expresses the variation between different groups of data:\n",
    "\n",
    "$$\n",
    "SSTR = \\sum_j r_j (x_j - \\bar x)^2 \\ ,\n",
    "$$\n",
    "\n",
    "where $r_j$ is the numnber of rows in the j-th group and $x_j$ the mean of the j-th group. This comes at 86049.55. \n",
    "\n",
    "Then we have the within sum of squares, which gives the variation in the data from each group,\n",
    "\n",
    "$$\n",
    "SSE = \\sum_r \\sum_j (X_{ij} - x_j)^2, which comes at 10254.\n",
    "$$\n",
    "\n",
    "Note that $SST = STR + SSE$. At this point, the total mean of squares is $MST = \\frac{SST}{N-1}$ ($N$ being the number of samples), the mean of square group is $MSTR = \\frac{SSTR}{C-1}$ ($C$ being the number of groups), and the mean square error is $MSE = \\frac{SSE}{N-C}$, so the F ratio can be computed as \n",
    "\n",
    "$$\n",
    "F = \\frac{MSTR}{MSE} = 25.17 \\ .\n",
    "$$\n",
    "\n",
    "Our intuition tells us that it's quite large to tbe between variation is larger than the within variation, hence the null hypothesis is not likely. But to quantify this, we use the values of the F ratio distribution, at the given degrees of freedom (at numerator we have $C-1$, at denominator $N-C$): looking at tables for $F_{2,6}$ at the chosen significance level $\\alpha=0.05$, we see 5.14. The null hypothesis is rejected if the observed F ratio is bigger than this value, which is the case. "
   ]
  },
  {
   "cell_type": "markdown",
   "metadata": {},
   "source": [
    "## References\n",
    "\n",
    "1. <a name=\"fisher\"></a> R A Fisher **The Correlation Between Relatives on the Supposition of Mendelian Inheritance**, *Phil Trans of the Royal Society of Edinburgh*, 52, 1918"
   ]
  },
  {
   "cell_type": "code",
   "execution_count": null,
   "metadata": {},
   "outputs": [],
   "source": []
  }
 ],
 "metadata": {
  "kernelspec": {
   "display_name": "Python 3",
   "language": "python",
   "name": "python3"
  },
  "language_info": {
   "codemirror_mode": {
    "name": "ipython",
    "version": 3
   },
   "file_extension": ".py",
   "mimetype": "text/x-python",
   "name": "python",
   "nbconvert_exporter": "python",
   "pygments_lexer": "ipython3",
   "version": "3.6.3"
  }
 },
 "nbformat": 4,
 "nbformat_minor": 2
}
