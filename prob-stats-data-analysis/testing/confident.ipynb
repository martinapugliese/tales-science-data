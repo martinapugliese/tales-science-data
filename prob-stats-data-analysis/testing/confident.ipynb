{
 "cells": [
  {
   "cell_type": "code",
   "execution_count": 1,
   "metadata": {},
   "outputs": [
    {
     "data": {
      "text/html": [
       "<style>\n",
       "\n",
       "    /* DOWNLOAD COMPUTER MODERN FONT JUST IN CASE */\n",
       "    @font-face {\n",
       "        font-family: \"Computer Modern\";\n",
       "        src: url('http://9dbb143991406a7c655e-aa5fcb0a5a4ec34cff238a2d56ca4144.r56.cf5.rackcdn.com/cmunss.otf');\n",
       "    }\n",
       "    @font-face {\n",
       "        font-family: \"Computer Modern\";\n",
       "        font-weight: bold;\n",
       "        src: url('http://9dbb143991406a7c655e-aa5fcb0a5a4ec34cff238a2d56ca4144.r56.cf5.rackcdn.com/cmunsx.otf');\n",
       "    }\n",
       "    @font-face {\n",
       "        font-family: \"Computer Modern\";\n",
       "        font-style: oblique;\n",
       "        src: url('http://9dbb143991406a7c655e-aa5fcb0a5a4ec34cff238a2d56ca4144.r56.cf5.rackcdn.com/cmunsi.otf');\n",
       "    }\n",
       "    @font-face {\n",
       "        font-family: \"Computer Modern\";\n",
       "        font-weight: bold;\n",
       "        font-style: oblique;\n",
       "        src: url('http://9dbb143991406a7c655e-aa5fcb0a5a4ec34cff238a2d56ca4144.r56.cf5.rackcdn.com/cmunso.otf');\n",
       "    }\n",
       "\n",
       "    /* GLOBAL TEXT FONT */\n",
       "    div#notebook,\n",
       "    div.output_area pre,\n",
       "    div.output_wrapper,\n",
       "    div.prompt {\n",
       "      font-family: Times new Roman, monospace !important;\n",
       "    }\n",
       "\n",
       "    /* CENTER FIGURE */\n",
       "    .output_png {\n",
       "        display: table-cell;\n",
       "        text-align: center;\n",
       "        vertical-align: middle;\n",
       "    }\n",
       "\n",
       "    /* LINK */\n",
       "    a {\n",
       "        color: #FF8000;\n",
       "    }\n",
       "\n",
       "    /* H1 */\n",
       "    h1 {\n",
       "        font-size: 42px !important;\n",
       "        text-align: center;\n",
       "        color: #FF8000;\n",
       "    }\n",
       "\n",
       "    /* H2 */\n",
       "    h2 {\n",
       "        font-size: 32px !important;\n",
       "    }\n",
       "\n",
       "    /* H2 */\n",
       "    h3 {\n",
       "        font-size: 24px !important;\n",
       "    }\n",
       "\n",
       "    /* H2 */\n",
       "    h4 {\n",
       "        font-size: 20px !important;\n",
       "    }\n",
       "\n",
       "    /* PARAGRAPH */\n",
       "    p {\n",
       "        font-size: 16px !important;\n",
       "        text-align: center;\n",
       "    }\n",
       "\n",
       "    /* LIST ITEM */\n",
       "    li {\n",
       "        font-size: 16px !important;\n",
       "    }\n",
       "\n",
       "</style>\n",
       "\n"
      ],
      "text/plain": [
       "<IPython.core.display.HTML object>"
      ]
     },
     "execution_count": 1,
     "metadata": {},
     "output_type": "execute_result"
    }
   ],
   "source": [
    "%run ../../common/import_all.py\n",
    "\n",
    "from common.setup_notebook import set_css_style, setup_matplotlib, config_ipython\n",
    "config_ipython()\n",
    "setup_matplotlib()\n",
    "set_css_style()"
   ]
  },
  {
   "cell_type": "markdown",
   "metadata": {},
   "source": [
    "# Feeling confident on a test result?"
   ]
  },
  {
   "cell_type": "markdown",
   "metadata": {},
   "source": [
    "## Confidence and significance levels\n",
    "\n",
    "The confidence level gives the probability that a value falls in a specified interval and is typically (and traditionally) set at, in order how \"how safe you want to be\", $90\\%/95\\%/99\\%$.\n",
    "\n",
    "It is indicated by $1-\\alpha$, $\\alpha$ being the float to be subtracted from probability 1 to get the above levels, hence $0.1/0.05/0.01$ respectively. $\\alpha$ is called the *signficance level*.\n",
    "\n",
    "In general, the confidence level describes the uncertainty associated with a sampling method of our variable of interest. "
   ]
  },
  {
   "cell_type": "markdown",
   "metadata": {},
   "source": [
    "## $p$-value\n",
    "\n",
    "<img src=\"../../imgs/pvalue.jpg\" width=\"500\" align=\"right\" style=\"margin:0px 50px\"/>\n",
    "\n",
    "If I am taking a measurement, and observe a certain data point, this data point would be one of the many I could observe given the probability distribution of the variable I am measuring. \n",
    "\n",
    "The $p$-value is the probability of obtaining a result equal or greater than the point which was actually observed, under the assumption of hypothesis $\\mathcal{H}$.\n",
    "\n",
    "The figure here illustrates the concept. \n",
    "\n",
    "In statistical testing, the null hypothesis $\\mathcal{H_0}$ is rejected if the $p$-value of the experiment does *not* pass the threshold $\\alpha$ at the chosen confidence level, which translated means if $p \\leq \\alpha$, $\\mathcal{H_0}$ can be rejected. \n",
    "\n",
    "See [the chi-squared note](../testing/chi-squared-test.ipynb) for an example of use of these concepts.\n",
    "\n",
    "### Pinch of salt\n",
    "\n",
    "The $p$-value, when used in statistical testing contexts, ought not to be taken as a definitive source of truth. In fact, it was not meant to be when conceived. See the brilliant article on this [[1]](#1) for an extensive comment on the topic. "
   ]
  },
  {
   "cell_type": "markdown",
   "metadata": {},
   "source": [
    "## The error margin\n",
    "\n",
    "If you have a statistic to be used to describe the quantity of interest, say for instance (and typically) the sample mean of a series of measurements, to compute an error margin against if you'd\n",
    "\n",
    "1. First, choose the desired confidence level, usual choices are 90%, 95% or 99%\n",
    "2. Check whether the population standard deviation $\\sigma$ is known or not: if it is, compute a z score; if it isn't, compute a t score\n",
    "\n",
    "The margin of error will be given by \n",
    "\n",
    "$$\n",
    "(z/t) \\frac{\\sigma/s}{\\sqrt{n}} ,\n",
    "$$\n",
    "\n",
    "where if $\\sigma$ is known you'd use $\\sigma$ and $z$, otherwise you'd use $s$ (the sample mean) and $t$. It will then, and quite intuitively, depend on how many data points you've got. The result is meant to be interpreted as *you are, at the chosen confidence level CL, CL% confident that the estimate of your variable lies within the error margin*."
   ]
  },
  {
   "cell_type": "markdown",
   "metadata": {},
   "source": [
    "## An application: the minimum sample size in the binomial parameter\n",
    "\n",
    "The binomial parameter is $p = \\frac{k}{n}$, where $k$ is the number of successes and $n$ the number of trials. How good is this parameter (which is computed on a *sample* of size $n$) as an estimate of the real *population* parameter? Translated: how big does $n$ have to be for $p$ to be reliable?\n",
    "\n",
    "### Intro: the De Moivre-Laplace theorem and how we use it\n",
    "\n",
    "**Statement**: the binomial distribution is approximated by a gaussian distribution when $n \\to \\infty$, this gaussian having mean $np$ and standard deviation $\\sqrt{np(1-p)}$. \n",
    "\n",
    "**Proof**: go see [[Wikipedia]](#wiki). \n",
    "\n",
    "For our purposes here, we're focused on the binomial parameter, not the count of successes. By the linearity of the mean and standard deviation, we infer that when $n$ is large enough the distribution of the binomial parameter becomes a gaussian with mean $\\mu = p$ and standard deviation $\\sigma = \\sqrt{\\frac{p(1-p)}{n}}$. That's pretty much what we will use to answer our question.\n",
    "\n",
    "### Choosing the margin of error and confidence level\n",
    "\n",
    "The \"how big the sample size has to be\" depends entirely on our choice of the error margin we want to allow around $p$ and the confidence level we want to have, that is, how sure we want to be about it. There is no number without an error.\n",
    "\n",
    "First of all, let us choose the desired margin of error we want. Say we want $p$ to fluctuate within a range of $0.01$, it'll then mean that we can write\n",
    "\n",
    "$$\n",
    "p \\pm 0.01\n",
    "$$\n",
    "\n",
    "Second of all, we need to decide the confidence level we want to apply. We use the statement from the De Moivre-Laplace theorem above and the $z$-score to affirm that the error margin $e$ is \n",
    "\n",
    "$$\n",
    "e = z_{\\alpha/2} \\sqrt{\\frac{p(1-p)}{n}}\n",
    "$$\n",
    "\n",
    "### Proving what we said here^\n",
    "\n",
    "The main source I used for this is [[the page from PennState about this]](#penn). \n",
    "\n",
    "From the notion of confidence level, we can write that, setting our confidence level as $1-\\alpha$ and being $x$ our random variable of interest, namely the binomial parameter distributed with a gaussian of mean $p$ and standard deviation $\\sqrt{\\frac{p(1-p)}{n}}$, \n",
    "\n",
    "$$\n",
    "P \\left(-z_{\\alpha/2} \\leq \\frac{x - p}{\\sqrt{\\frac{p(1-p)}{n}}} \\leq z_{\\alpha/2}\\right) = 1 - \\alpha \\ ,\n",
    "$$\n",
    "\n",
    "which turns into \n",
    "\n",
    "$$\n",
    "p - z_{\\alpha/2}\\sqrt{\\frac{p(1-p)}{n}} \\leq x \\leq p + z_{\\alpha/2} \\sqrt{\\frac{p(1-p)}{n}} \\ ,\n",
    "$$\n",
    "\n",
    "so that stated above is the margin or error.\n",
    "\n",
    "### Calculating the minimum $n$\n",
    "\n",
    "So from what we said above, setting both the margin of error and the confidence level desired, we can easily compute the minimum required $n$ as \n",
    "\n",
    "$$\n",
    "n_{\\text{min}} = \\frac{z_{\\alpha/2}^2 p(1-p)}{e^2} \\ .\n",
    "$$\n",
    "\n",
    "In a stricter, more conservative case, we'd use the maximum of $p(1-p)$ (which is $\\frac{1}{2}$) instead, so that \n",
    "\n",
    "$$\n",
    "n_{\\text{min}} = \\frac{z_{\\alpha/2}^2 \\frac{1}{2} \\frac{1}{2}}{e^2} \\ .\n",
    "$$"
   ]
  },
  {
   "cell_type": "markdown",
   "metadata": {},
   "source": [
    "## References \n",
    "1. <a name=\"1\"></a> [A fantastic **Nature feature article** on the overspread and misuse of the p-value in data analysis](http://www.nature.com/news/scientific-method-statistical-errors-1.14700)\n",
    "2. <a name=\"penn\"></a> [This great page from PennState on the topic](https://onlinecourses.science.psu.edu/stat500/node/30)\n",
    "3. <a name=\"wiki\"></a> [WIkipedia on the theorem](https://en.wikipedia.org/wiki/De_Moivre–Laplace_theorem)"
   ]
  },
  {
   "cell_type": "markdown",
   "metadata": {
    "jupyter": {
     "outputs_hidden": true
    }
   },
   "source": [
    "other reference great https://www.youtube.com/watch?v=8idr1WZ1A7Q\n",
    "    \n",
    "it does \n",
    "* laplace rule of succession for ratings of sellers online\n",
    "\n",
    "\n",
    "in general the channel has very good videos on stuff, included probability"
   ]
  },
  {
   "cell_type": "code",
   "execution_count": null,
   "metadata": {},
   "outputs": [],
   "source": []
  }
 ],
 "metadata": {
  "kernelspec": {
   "display_name": "Python 3",
   "language": "python",
   "name": "python3"
  },
  "language_info": {
   "codemirror_mode": {
    "name": "ipython",
    "version": 3
   },
   "file_extension": ".py",
   "mimetype": "text/x-python",
   "name": "python",
   "nbconvert_exporter": "python",
   "pygments_lexer": "ipython3",
   "version": "3.7.6"
  }
 },
 "nbformat": 4,
 "nbformat_minor": 4
}
