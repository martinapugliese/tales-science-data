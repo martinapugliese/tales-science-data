{
 "cells": [
  {
   "cell_type": "code",
   "execution_count": 1,
   "metadata": {},
   "outputs": [
    {
     "data": {
      "text/html": [
       "<style>\n",
       "\n",
       "    /* DOWNLOAD COMPUTER MODERN FONT JUST IN CASE */\n",
       "    @font-face {\n",
       "        font-family: \"Computer Modern\";\n",
       "        src: url('http://9dbb143991406a7c655e-aa5fcb0a5a4ec34cff238a2d56ca4144.r56.cf5.rackcdn.com/cmunss.otf');\n",
       "    }\n",
       "    @font-face {\n",
       "        font-family: \"Computer Modern\";\n",
       "        font-weight: bold;\n",
       "        src: url('http://9dbb143991406a7c655e-aa5fcb0a5a4ec34cff238a2d56ca4144.r56.cf5.rackcdn.com/cmunsx.otf');\n",
       "    }\n",
       "    @font-face {\n",
       "        font-family: \"Computer Modern\";\n",
       "        font-style: oblique;\n",
       "        src: url('http://9dbb143991406a7c655e-aa5fcb0a5a4ec34cff238a2d56ca4144.r56.cf5.rackcdn.com/cmunsi.otf');\n",
       "    }\n",
       "    @font-face {\n",
       "        font-family: \"Computer Modern\";\n",
       "        font-weight: bold;\n",
       "        font-style: oblique;\n",
       "        src: url('http://9dbb143991406a7c655e-aa5fcb0a5a4ec34cff238a2d56ca4144.r56.cf5.rackcdn.com/cmunso.otf');\n",
       "    }\n",
       "\n",
       "    /* GLOBAL TEXT FONT */\n",
       "    div#notebook,\n",
       "    div.output_area pre,\n",
       "    div.output_wrapper,\n",
       "    div.prompt {\n",
       "      font-family: Times new Roman, monospace !important;\n",
       "    }\n",
       "\n",
       "    /* CENTER FIGURE */\n",
       "    .output_png {\n",
       "        display: table-cell;\n",
       "        text-align: center;\n",
       "        vertical-align: middle;\n",
       "    }\n",
       "\n",
       "    /* LINK */\n",
       "    a {\n",
       "        color: #FF8000;\n",
       "    }\n",
       "\n",
       "    /* H1 */\n",
       "    h1 {\n",
       "        font-size: 42px !important;\n",
       "        text-align: center;\n",
       "        color: #FF8000;\n",
       "    }\n",
       "\n",
       "    /* H2 */\n",
       "    h2 {\n",
       "        font-size: 32px !important;\n",
       "    }\n",
       "\n",
       "    /* H2 */\n",
       "    h3 {\n",
       "        font-size: 24px !important;\n",
       "    }\n",
       "\n",
       "    /* H2 */\n",
       "    h4 {\n",
       "        font-size: 20px !important;\n",
       "    }\n",
       "\n",
       "    /* PARAGRAPH */\n",
       "    p {\n",
       "        font-size: 16px !important;\n",
       "        text-align: center;\n",
       "    }\n",
       "\n",
       "    /* LIST ITEM */\n",
       "    li {\n",
       "        font-size: 16px !important;\n",
       "    }\n",
       "\n",
       "</style>\n",
       "\n"
      ],
      "text/plain": [
       "<IPython.core.display.HTML object>"
      ]
     },
     "execution_count": 1,
     "metadata": {},
     "output_type": "execute_result"
    }
   ],
   "source": [
    "%run ../../common/import_all.py\n",
    "\n",
    "from common.setup_notebook import set_css_style, setup_matplotlib, config_ipython\n",
    "config_ipython()\n",
    "setup_matplotlib()\n",
    "set_css_style()"
   ]
  },
  {
   "cell_type": "markdown",
   "metadata": {},
   "source": [
    "# Propagation of uncertainty"
   ]
  },
  {
   "cell_type": "markdown",
   "metadata": {},
   "source": [
    "Given a function of $n$ non-correlated variables $f(x_1, x_2, \\ldots, x_n)$, such that each variable $x_i$ has its own uncertainty $\\Delta x_i$, we can compute the uncertainty on $f$ as\n",
    "\n",
    "$$\n",
    "\\Delta f(x_1, x_2, \\ldots, x_n, \\Delta x_1, \\ldots, \\Delta x_n)  = \\left[\\sum_{i=1}^{i=n} \\frac{\\partial f}{\\partial x_i} \\Delta x_i\\right]^{\\frac{1}{2}} \\ .\n",
    "$$\n",
    "\n",
    "If the variables are correlated, then there is the [covariance](../distributions-measures/covariance-correlation.ipynb) term:\n",
    "\n",
    "$$\n",
    "\\Delta f(x_1, x_2, \\ldots, x_n, \\Delta x_1, \\ldots, \\Delta x_n) = \\left[\\sum_{i=1}^{n} \\sum_{k=1}^n \\frac{\\partial f}{\\partial x_i} \\frac{\\partial f}{\\partial x_k} C_{ik}\\right]^{1/2} \\ ,\n",
    "$$\n",
    "\n",
    "where $C_{ik}$ is the covariance matrix.\n",
    "\n",
    "In the most common cases:\n",
    "\n",
    "* $f = x \\pm y$ $\\Rightarrow$ $(\\Delta f)^2 = (\\Delta x)^2 + (\\Delta y)^2 \\pm 2 C_{xy}$\n",
    "* $f = cx$ $\\Rightarrow$ $\\Delta f = c \\Delta x$\n",
    "* $f = xy$ $\\Rightarrow$ $(\\Delta f)^2 = y^2 (\\Delta x)^2 + x^2 (\\Delta y)^2 + 2 xy C_{xy}$ \n",
    "* $f = \\frac{x}{y}$ $\\Rightarrow$ $(\\Delta f)^2 = \\frac{(\\Delta x)^2}{y^2} + \\frac{x^2}{y^4} (\\Delta y)^2 - 2 \\frac{x}{y^3} C_{xy}$"
   ]
  },
  {
   "cell_type": "code",
   "execution_count": null,
   "metadata": {
    "collapsed": true
   },
   "outputs": [],
   "source": []
  }
 ],
 "metadata": {
  "kernelspec": {
   "display_name": "Python 3",
   "language": "python",
   "name": "python3"
  },
  "language_info": {
   "codemirror_mode": {
    "name": "ipython",
    "version": 3
   },
   "file_extension": ".py",
   "mimetype": "text/x-python",
   "name": "python",
   "nbconvert_exporter": "python",
   "pygments_lexer": "ipython3",
   "version": "3.6.0"
  }
 },
 "nbformat": 4,
 "nbformat_minor": 2
}
