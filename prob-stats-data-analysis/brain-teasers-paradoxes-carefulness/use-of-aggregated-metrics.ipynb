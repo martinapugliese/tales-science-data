{
 "cells": [
  {
   "cell_type": "code",
   "execution_count": 1,
   "metadata": {},
   "outputs": [
    {
     "data": {
      "text/html": [
       "<style>\n",
       "\n",
       "    /* DOWNLOAD COMPUTER MODERN FONT JUST IN CASE */\n",
       "    @font-face {\n",
       "        font-family: \"Computer Modern\";\n",
       "        src: url('http://9dbb143991406a7c655e-aa5fcb0a5a4ec34cff238a2d56ca4144.r56.cf5.rackcdn.com/cmunss.otf');\n",
       "    }\n",
       "    @font-face {\n",
       "        font-family: \"Computer Modern\";\n",
       "        font-weight: bold;\n",
       "        src: url('http://9dbb143991406a7c655e-aa5fcb0a5a4ec34cff238a2d56ca4144.r56.cf5.rackcdn.com/cmunsx.otf');\n",
       "    }\n",
       "    @font-face {\n",
       "        font-family: \"Computer Modern\";\n",
       "        font-style: oblique;\n",
       "        src: url('http://9dbb143991406a7c655e-aa5fcb0a5a4ec34cff238a2d56ca4144.r56.cf5.rackcdn.com/cmunsi.otf');\n",
       "    }\n",
       "    @font-face {\n",
       "        font-family: \"Computer Modern\";\n",
       "        font-weight: bold;\n",
       "        font-style: oblique;\n",
       "        src: url('http://9dbb143991406a7c655e-aa5fcb0a5a4ec34cff238a2d56ca4144.r56.cf5.rackcdn.com/cmunso.otf');\n",
       "    }\n",
       "\n",
       "    /* GLOBAL TEXT FONT */\n",
       "    div#notebook,\n",
       "    div.output_area pre,\n",
       "    div.output_wrapper,\n",
       "    div.prompt {\n",
       "      font-family: Times new Roman, monospace !important;\n",
       "    }\n",
       "\n",
       "    /* CENTER FIGURE */\n",
       "    .output_png {\n",
       "        display: table-cell;\n",
       "        text-align: center;\n",
       "        vertical-align: middle;\n",
       "    }\n",
       "\n",
       "    /* LINK */\n",
       "    a {\n",
       "        color: #FF8000;\n",
       "    }\n",
       "\n",
       "    /* H1 */\n",
       "    h1 {\n",
       "        font-size: 42px !important;\n",
       "        text-align: center;\n",
       "        color: #FF8000;\n",
       "    }\n",
       "\n",
       "    /* H2 */\n",
       "    h2 {\n",
       "        font-size: 32px !important;\n",
       "    }\n",
       "\n",
       "    /* H2 */\n",
       "    h3 {\n",
       "        font-size: 24px !important;\n",
       "    }\n",
       "\n",
       "    /* H2 */\n",
       "    h4 {\n",
       "        font-size: 20px !important;\n",
       "    }\n",
       "\n",
       "    /* PARAGRAPH */\n",
       "    p {\n",
       "        font-size: 16px !important;\n",
       "        text-align: center;\n",
       "    }\n",
       "\n",
       "    /* LIST ITEM */\n",
       "    li {\n",
       "        font-size: 16px !important;\n",
       "    }\n",
       "\n",
       "</style>\n",
       "\n"
      ],
      "text/plain": [
       "<IPython.core.display.HTML object>"
      ]
     },
     "execution_count": 1,
     "metadata": {},
     "output_type": "execute_result"
    }
   ],
   "source": [
    "%run ../../common/import_all.py\n",
    "\n",
    "from common.setup_notebook import set_css_style, setup_matplotlib, config_ipython\n",
    "\n",
    "config_ipython()\n",
    "setup_matplotlib()\n",
    "set_css_style()"
   ]
  },
  {
   "cell_type": "markdown",
   "metadata": {},
   "source": [
    "# Using aggregated metrics\n",
    "\n",
    "Sometimes the wrong metric is used, sometimes the language is too sloppy. For the description of the things described in this notebook, head over to [\"Distributions and probability measures\"](../distributions-measures/)."
   ]
  },
  {
   "cell_type": "markdown",
   "metadata": {},
   "source": [
    "## When people talk average\n",
    "\n",
    "Technically speaking, an average is a mean. \n",
    "\n",
    "But.\n",
    "\n",
    "The word *average* in common (street) English is usually used to mean (oh, the irony!) an aggregated number which is supposed to represent a collection of data points as it's \"central\" value. We're talking about common talk, not the one among professionals of data, and this often happens in politics and (sloppy) journalism, with consequences that can go from funny to disastrous. This aggregated number, the *average* is not necessarily calculated as the (arithmetic) mean, and this can lead to awkward situations where people don't know what they're exactly talking about and whether that number is really representative of their data. Sometimes they mean the mean, sometimes they mean the median, for one. But they can mean other different things as well: an example is when to derive the \"average\" value of a set of fractions, you compute the [mediant](https://en.wikipedia.org/wiki/Mediant_(mathematics) instead of averaging said fractions. Some other times, the mode is intended when people talk about an average.\n",
    "\n",
    "I find this one of the interesting peculiarities of the English language, and it wouldn't really matter if it weren't for the fact that in many occasions it is quite necessary to go look at a properly defined metric in order to understand what the data says. See the lovely lil' book  **How to lie with Statistics** [[1]](#1), which is very old but a nice read. Also, this discussion on Quora [[2]](#2) is interesting."
   ]
  },
  {
   "cell_type": "markdown",
   "metadata": {},
   "source": [
    "## Is the mean always the best descriptor of a distribution?\n",
    "\n",
    "If you have data distributed in a gaussian way, a good descriptor of the typical situation of your data is the mean. If the distribution is skewed though, and in particular in the case of [power laws](../distribution-measures/power-laws.ipynb), the median is a much better indicator to represent the distribution. Have a look at this video on the matter.\n",
    "\n",
    "The mean is very sensible to outliers in this cases as when you add a data point , the median is not so it's a much more robust statistic to represent the distribution. "
   ]
  },
  {
   "cell_type": "markdown",
   "metadata": {},
   "source": [
    "## References\n",
    "\n",
    "1. <a name=\"lie-stats\"></a> [**How to lie with Statistics**](https://en.wikipedia.org/wiki/How_to_Lie_with_Statistics)\n",
    "2. <a name=\"quora\"></a> [**Quora** on mean and average](https://www.quora.com/What-is-difference-between-the-mean-and-the-average)\n",
    "3. <a name=\"cbs\"></a> [**Calling Bullshit** on mean vs. median](https://www.youtube.com/watch?v=mc-6-v2c4WM)\n",
    "4. <a name=\"meanmedian\"></a> [A nice example of when using a mean is a misuse of statistics: income distributions](http://www.conceptstew.co.uk/pages/mean_or_median.html)"
   ]
  },
  {
   "cell_type": "markdown",
   "metadata": {},
   "source": []
  }
 ],
 "metadata": {
  "kernelspec": {
   "display_name": "Python 3",
   "language": "python",
   "name": "python3"
  },
  "language_info": {
   "codemirror_mode": {
    "name": "ipython",
    "version": 3
   },
   "file_extension": ".py",
   "mimetype": "text/x-python",
   "name": "python",
   "nbconvert_exporter": "python",
   "pygments_lexer": "ipython3",
   "version": "3.6.1"
  }
 },
 "nbformat": 4,
 "nbformat_minor": 2
}
