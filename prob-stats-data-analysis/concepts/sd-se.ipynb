{
 "cells": [
  {
   "cell_type": "code",
   "execution_count": 1,
   "metadata": {},
   "outputs": [
    {
     "data": {
      "text/html": [
       "<style>\n",
       "\n",
       "    /* DOWNLOAD COMPUTER MODERN FONT JUST IN CASE */\n",
       "    @font-face {\n",
       "        font-family: \"Computer Modern\";\n",
       "        src: url('http://9dbb143991406a7c655e-aa5fcb0a5a4ec34cff238a2d56ca4144.r56.cf5.rackcdn.com/cmunss.otf');\n",
       "    }\n",
       "    @font-face {\n",
       "        font-family: \"Computer Modern\";\n",
       "        font-weight: bold;\n",
       "        src: url('http://9dbb143991406a7c655e-aa5fcb0a5a4ec34cff238a2d56ca4144.r56.cf5.rackcdn.com/cmunsx.otf');\n",
       "    }\n",
       "    @font-face {\n",
       "        font-family: \"Computer Modern\";\n",
       "        font-style: oblique;\n",
       "        src: url('http://9dbb143991406a7c655e-aa5fcb0a5a4ec34cff238a2d56ca4144.r56.cf5.rackcdn.com/cmunsi.otf');\n",
       "    }\n",
       "    @font-face {\n",
       "        font-family: \"Computer Modern\";\n",
       "        font-weight: bold;\n",
       "        font-style: oblique;\n",
       "        src: url('http://9dbb143991406a7c655e-aa5fcb0a5a4ec34cff238a2d56ca4144.r56.cf5.rackcdn.com/cmunso.otf');\n",
       "    }\n",
       "\n",
       "    /* GLOBAL TEXT FONT */\n",
       "    div#notebook,\n",
       "    div.output_area pre,\n",
       "    div.output_wrapper,\n",
       "    div.prompt {\n",
       "      font-family: Times new Roman, monospace !important;\n",
       "    }\n",
       "\n",
       "    /* CENTER FIGURE */\n",
       "    .output_png {\n",
       "        display: table-cell;\n",
       "        text-align: center;\n",
       "        vertical-align: middle;\n",
       "    }\n",
       "\n",
       "    /* LINK */\n",
       "    a {\n",
       "        color: #FF8000;\n",
       "    }\n",
       "\n",
       "    /* H1 */\n",
       "    h1 {\n",
       "        font-size: 42px !important;\n",
       "        text-align: center;\n",
       "        color: #FF8000;\n",
       "    }\n",
       "\n",
       "    /* H2 */\n",
       "    h2 {\n",
       "        font-size: 32px !important;\n",
       "    }\n",
       "\n",
       "    /* H2 */\n",
       "    h3 {\n",
       "        font-size: 24px !important;\n",
       "    }\n",
       "\n",
       "    /* H2 */\n",
       "    h4 {\n",
       "        font-size: 20px !important;\n",
       "    }\n",
       "\n",
       "    /* PARAGRAPH */\n",
       "    p {\n",
       "        font-size: 16px !important;\n",
       "        text-align: center;\n",
       "    }\n",
       "\n",
       "    /* LIST ITEM */\n",
       "    li {\n",
       "        font-size: 16px !important;\n",
       "    }\n",
       "\n",
       "</style>\n",
       "\n"
      ],
      "text/plain": [
       "<IPython.core.display.HTML object>"
      ]
     },
     "execution_count": 1,
     "metadata": {},
     "output_type": "execute_result"
    }
   ],
   "source": [
    "%run ../../common/import_all.py\n",
    "\n",
    "from common.setup_notebook import set_css_style, setup_matplotlib, config_ipython\n",
    "config_ipython()\n",
    "setup_matplotlib()\n",
    "set_css_style()"
   ]
  },
  {
   "cell_type": "markdown",
   "metadata": {},
   "source": [
    "# Standard Deviation and Standard Error: what's the difference?"
   ]
  },
  {
   "cell_type": "markdown",
   "metadata": {},
   "source": [
    "## What are they \n",
    "\n",
    "<img src=\"../../imgs/pop-sample.jpg\" width=\"300\" align=\"left\" style=\"margin:0px 50px\"/>\n",
    "\n",
    "First of all, for a definition of *standard deviation*, have a look at the [notebook on moments of a distribution](../distributions-measures/moments.ipynb#Variance-and-standard-deviation). \n",
    "\n",
    "Let's say we got a *sample*, that is, a set of data which have been extracted from a *population*. It will be a subset of the population and this is the typical situation: we don't have access to the full population, we can only use the sample to derive information. The population follows a certain distribution, of which the distribution of the sample is an \"approximation\". This is why we have to use the sample mean (the mean of data points in the sample) as an estimate of the (unknown) population mean. The problem is now how to attribute the error to this value.\n",
    "\n",
    "In general, following definition, what the standard deviation quantifies is the variability of individuals from the mean. Having the sample, the sample standard deviation tells how far away each sample point is from the sample mean.  \n",
    "\n",
    "Now because we're using the sample mean to estimate the mean (expected value) of the population, and because if we had another sample extracted from the same population this sample mean would likely be different, in general this sample mean follows its distribution. The *standard error* (of the mean, as it can be related to other statistics), typically indicated by *SE*, is the standard deviation of these means. \n",
    "\n",
    "The standard error is usually estimated by the sample standard deviation $s$ divided by the square root of the sample size $n$:\n",
    "\n",
    "$$\n",
    "SE = \\frac{s}{\\sqrt{n}} \\ ,\n",
    "$$\n",
    "\n",
    "under the assumption of statistical independence of observations in the sample.\n",
    "\n",
    "In fact, let $x_1, \\ldots, x_n$ be the sample points extracted from a population whose mean and standard deviation are, respectively, $\\mu$ and $\\sigma$, the sample mean is\n",
    "\n",
    "$$\n",
    "m = \\frac{x_1 + \\cdots + x_n}{n} \\ .\n",
    "$$\n",
    "\n",
    "The variance of this sample mean $m$, telling how far away the sample mean is from the population mean, is\n",
    "\n",
    "$$\n",
    "Var[m] = Var \\left[\\frac{\\sum_i x_i}{n}\\right] = \n",
    "\\frac{1}{n^2} Var\\Big[\\sum_i x_i\\Big] = \\frac{1}{n^2} \\sum_i Var[x_i]\n",
    "= \\frac{1}{n^2} n Var[x_1]\n",
    "= \\frac{1}{n} \\sigma^2 \\ ,\n",
    "$$\n",
    "\n",
    "because each point has the same variance and the points are independent. See [the non-linearity of the variance](../distributions-measures/moments.ipynb#The-variance-is-not-linear) for the details on this calculation. Following this, the standard deviation of $m$ is then $\\frac{\\sigma}{\\sqrt{n}}$ and we will use $s$ as an estimate for $\\sigma$, which is, again, unknown."
   ]
  },
  {
   "cell_type": "markdown",
   "metadata": {},
   "source": [
    "## When to use which\n",
    "\n",
    "The Standard Error tells how far the sample mean is from the population mean so it is the error to attribute to a sample mean. The standard deviation again is about the individual data points and it tells how far away they are from the sample mean.\n",
    "\n",
    "While the standard error goes to 0 when $n \\to \\infty$, the standard deviation goes to $\\sigma$."
   ]
  },
  {
   "cell_type": "code",
   "execution_count": null,
   "metadata": {
    "collapsed": true
   },
   "outputs": [],
   "source": []
  }
 ],
 "metadata": {
  "kernelspec": {
   "display_name": "Python 3",
   "language": "python",
   "name": "python3"
  },
  "language_info": {
   "codemirror_mode": {
    "name": "ipython",
    "version": 3
   },
   "file_extension": ".py",
   "mimetype": "text/x-python",
   "name": "python",
   "nbconvert_exporter": "python",
   "pygments_lexer": "ipython3",
   "version": "3.6.0"
  }
 },
 "nbformat": 4,
 "nbformat_minor": 2
}
