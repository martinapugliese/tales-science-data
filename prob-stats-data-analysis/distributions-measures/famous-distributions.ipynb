{
 "cells": [
  {
   "cell_type": "code",
   "execution_count": 1,
   "metadata": {},
   "outputs": [
    {
     "data": {
      "text/html": [
       "<style>\n",
       "\n",
       "    /* DOWNLOAD COMPUTER MODERN FONT JUST IN CASE */\n",
       "    @font-face {\n",
       "        font-family: \"Computer Modern\";\n",
       "        src: url('http://9dbb143991406a7c655e-aa5fcb0a5a4ec34cff238a2d56ca4144.r56.cf5.rackcdn.com/cmunss.otf');\n",
       "    }\n",
       "    @font-face {\n",
       "        font-family: \"Computer Modern\";\n",
       "        font-weight: bold;\n",
       "        src: url('http://9dbb143991406a7c655e-aa5fcb0a5a4ec34cff238a2d56ca4144.r56.cf5.rackcdn.com/cmunsx.otf');\n",
       "    }\n",
       "    @font-face {\n",
       "        font-family: \"Computer Modern\";\n",
       "        font-style: oblique;\n",
       "        src: url('http://9dbb143991406a7c655e-aa5fcb0a5a4ec34cff238a2d56ca4144.r56.cf5.rackcdn.com/cmunsi.otf');\n",
       "    }\n",
       "    @font-face {\n",
       "        font-family: \"Computer Modern\";\n",
       "        font-weight: bold;\n",
       "        font-style: oblique;\n",
       "        src: url('http://9dbb143991406a7c655e-aa5fcb0a5a4ec34cff238a2d56ca4144.r56.cf5.rackcdn.com/cmunso.otf');\n",
       "    }\n",
       "\n",
       "    /* GLOBAL TEXT FONT */\n",
       "    div#notebook,\n",
       "    div.output_area pre,\n",
       "    div.output_wrapper,\n",
       "    div.prompt {\n",
       "      font-family: Times new Roman, monospace !important;\n",
       "    }\n",
       "\n",
       "    /* CENTER FIGURE */\n",
       "    .output_png {\n",
       "        display: table-cell;\n",
       "        text-align: center;\n",
       "        vertical-align: middle;\n",
       "    }\n",
       "\n",
       "    /* LINK */\n",
       "    a {\n",
       "        color: #FF8000;\n",
       "    }\n",
       "\n",
       "    /* H1 */\n",
       "    h1 {\n",
       "        font-size: 42px !important;\n",
       "        text-align: center;\n",
       "        color: #FF8000;\n",
       "    }\n",
       "\n",
       "    /* H2 */\n",
       "    h2 {\n",
       "        font-size: 32px !important;\n",
       "    }\n",
       "\n",
       "    /* H2 */\n",
       "    h3 {\n",
       "        font-size: 24px !important;\n",
       "    }\n",
       "\n",
       "    /* H2 */\n",
       "    h4 {\n",
       "        font-size: 20px !important;\n",
       "    }\n",
       "\n",
       "    /* PARAGRAPH */\n",
       "    p {\n",
       "        font-size: 16px !important;\n",
       "        text-align: center;\n",
       "    }\n",
       "\n",
       "    /* LIST ITEM */\n",
       "    li {\n",
       "        font-size: 16px !important;\n",
       "    }\n",
       "\n",
       "</style>\n",
       "\n"
      ],
      "text/plain": [
       "<IPython.core.display.HTML object>"
      ]
     },
     "execution_count": 1,
     "metadata": {},
     "output_type": "execute_result"
    }
   ],
   "source": [
    "%run ../common/import_all.py\n",
    "\n",
    "from common.setup_notebook import set_css_style, setup_matplotlib, config_ipython\n",
    "config_ipython()\n",
    "setup_matplotlib()\n",
    "set_css_style()"
   ]
  },
  {
   "cell_type": "markdown",
   "metadata": {},
   "source": [
    "# (Some of) the most famous distributions"
   ]
  },
  {
   "cell_type": "markdown",
   "metadata": {},
   "source": [
    "## Bernoulli"
   ]
  },
  {
   "cell_type": "markdown",
   "metadata": {},
   "source": [
    "Let's consider a binary variable $X \\in \\{0,1\\}$, so that it can take the two values 1 (which we'll call the *success*) or 0 (which we'll call the *failure*). The prototype of this is the result of flipping of a coin. Let's also call $\\mu$ the probability of the success so that, by definition\n",
    "\n",
    "$$\n",
    "P(X=1) = \\mu \\ ; P(X=0) = 1 - \\mu \\ ,\n",
    "$$\n",
    "\n",
    "so that the [pmf](probfunctions-histogram.ipynb#The-PMF) (it is a discrete variable) can be expressed as\n",
    "\n",
    "$$\n",
    "p(x;\\mu) = \\mu^x(1-\\mu)^{1-x}\n",
    "$$\n",
    "\n",
    "because when we have $x=1$ we are left with $\\mu$ and when we have $x=0$ we are left with $1-\\mu.$\n",
    "\n",
    "Such distribution has  expected value\n",
    "\n",
    "$$\n",
    "\\mathbb{E}[X] = \\sum_{x \\in \\{0,1\\}} x \\mu^x(1-\\mu)^{1-x} = 0 + 1\\mu(1-\\mu)^0 = \\mu\n",
    "$$\n",
    "\n",
    "and variance\n",
    "\n",
    "$$\n",
    "Var[X] =  \\sum_{x \\in \\{0,1\\}} x^2 \\mu^x(1-\\mu)^{1-x} - \\mu^2 = \\mu - \\mu^2 = \\mu(1-\\mu)\n",
    "$$\n",
    "\n",
    "The Bernoulli distribution is a special case of a binomial distribution for a single observation, see below!"
   ]
  },
  {
   "cell_type": "markdown",
   "metadata": {},
   "source": [
    "## Binomial"
   ]
  },
  {
   "cell_type": "markdown",
   "metadata": {},
   "source": [
    "The binomial distribution describes the probability of observing $k$ occurrences of $x=1$ in a set of $n$ samples from a Bernoulli distribution. $\\mu$ is the probability of  observing $x=1$. The pmf will be then\n",
    "\n",
    "$$\n",
    "p(x;\\mu) = {{n}\\choose{k}} \\mu^k (1-\\mu)^{n-k} \\ ,\n",
    "$$\n",
    "\n",
    "because we have ${{n}\\choose{k}}$ ways of creating groups of $k$ from $n$ values and because each extraction is a Bernoulli.\n",
    "\n",
    "The expected value is\n",
    "\n",
    "$$\n",
    "\\mathbb{E}[X] = n \\mu\n",
    "$$\n",
    "\n",
    "and the variance is\n",
    "\n",
    "$$\n",
    "Var[X] =  n \\mu (1- \\mu)\n",
    "$$\n",
    "\n",
    "Head to [Wikipedia](https://en.wikipedia.org/wiki/Binomial_distribution) for the proofs."
   ]
  },
  {
   "cell_type": "markdown",
   "metadata": {},
   "source": [
    "## Multinomial"
   ]
  },
  {
   "cell_type": "markdown",
   "metadata": {},
   "source": [
    "It is a multivariate generalisation of the binomial and gives the distribution over counts $m_k$ for a $k$-state discrete variable to be in state $k$ given a total of observations $n$.\n",
    "\n",
    "An example is the extraction of $n$ balls of $k$ different colours from a bag, replacing the extracted ball after each draw. The pmf reads\n",
    "\n",
    "$$\n",
    "p(m_1, m_2, \\ldots, m_k, \\mu_1, \\mu_2, \\ldots, \\mu_k, n) =  {{n}\\choose{m_1 m_2 \\ldots m_k}}  \\mu_1^{m_1} \\mu_2^{m_2} \\ldots \\mu_k^{m_k}\n",
    "$$\n",
    "\n",
    "and we have\n",
    "\n",
    "$$\n",
    "\\mathbb{E}[m_k]  = n \\mu_k \\ ,\n",
    "$$\n",
    "\n",
    "$$\n",
    "Var[m_k] = n \\mu_k(1-\\mu_k)\n",
    "$$"
   ]
  },
  {
   "cell_type": "markdown",
   "metadata": {},
   "source": [
    "## Uniform"
   ]
  },
  {
   "cell_type": "markdown",
   "metadata": {},
   "source": [
    "Given a continuous variable $X$ taking values in interval $\\in [a,b]$, a uniform distribution is one where every possible value has the same probability. Its pdf is simply\n",
    "\n",
    "$$\n",
    "p(x) = \\frac{1}{b-a} \\ ,\n",
    "$$\n",
    "\n",
    "because you have 1 case over the total possible cases, which is the width of the interval.\n",
    "\n",
    "The expected value is \n",
    "\n",
    "$$\n",
    "\\mathbb{E}[X] = \\int_a^b \\text{d} x \\ \\frac{1}{b-a} = \\frac{b+a}{2} \\ ,\n",
    "$$\n",
    "\n",
    "which, as expected (!), corresponds to the middle point of the interval because given that every point is equiprobable, this is where we fall by averaging values.\n",
    "\n",
    "The variance is \n",
    "\n",
    "$$\n",
    "\\begin{align}\n",
    "Var[X] &= \\int_a^b \\text{d} x \\ x \\Big(x - \\frac{1}{b-a}\\Big)^2  \\\\\n",
    "&= \\int_a^b \\text{d} x \\ x^3 - 2x^2\\frac{1}{b-a} + \\frac{x}{(b-a)^2} \\\\ \n",
    "&= \\frac{b^4 - a^4}{4} - \\frac{2}{3} \\frac{b^3 - a^3}{b-a} + \\frac{b^2-a^2}{2(b-a)^2} \\\\\n",
    "&= \\frac{(b^2 - a^2)(b^2 + a^2)}{4} - \\frac{2}{3} \\frac{(b-a)(b^2 + ab + a^2)}{b-a} + \\frac{b+a}{2(b-a)} \\\\\n",
    "& = \\ \\frac{(b-a)^2}{12} \\ .\n",
    "\\end{align}\n",
    "$$"
   ]
  },
  {
   "cell_type": "markdown",
   "metadata": {},
   "source": [
    "## Gaussian"
   ]
  },
  {
   "cell_type": "markdown",
   "metadata": {},
   "source": [
    "The gaussian distribution (after C F Gauss) is also called a normal distribution or, in some cases, bell curve (from its shape). Let $\\mu$ be the expected value and $\\sigma$ the standard deviation,\n",
    "\n",
    "$$\n",
    "p(x; \\mu, \\sigma) =  \\frac{1}{\\sqrt{2 \\pi \\sigma^2}} e^{-\\frac{1}{2 \\sigma^2} (x-\\mu)^2}\n",
    "$$\n",
    "\n",
    "It is usually indicated as $\\mathcal N(\\mu, \\sigma^2)$, where the $\\mathcal N$ stands for \"normal\", another name for the gaussian"
   ]
  },
  {
   "cell_type": "markdown",
   "metadata": {},
   "source": [
    "## Beta"
   ]
  },
  {
   "cell_type": "markdown",
   "metadata": {},
   "source": [
    "Given a continuous variable $x \\in [0,1]$, the distribution is parametrized by  $\\alpha, \\beta > 0$ which define its shape.\n",
    "\n",
    "$$\n",
    "p(x; \\alpha, \\beta) =  \\mathcal{N} x^{\\alpha-1}(1-x)^{\\beta-1} \\ ,\n",
    "$$\n",
    "\n",
    "where $\\mathcal{N}$ is the normalisation constant:\n",
    "\n",
    "$$\n",
    "\\mathcal{N} = \\frac{\\Gamma(\\alpha + \\beta)}{\\Gamma(\\alpha) \\Gamma(\\beta)} = \\frac{1}{\\int d u u^{\\alpha -1}(1-u)^{\\beta-1}} \\ ,\n",
    "$$\n",
    "\n",
    "with $\\Gamma$ the gamma function (extension of the factorial to real and complex numbers), defined as\n",
    "\n",
    "$$\n",
    "\\Gamma(t) = \\int_0^\\infty x^{t-1} e^{-x} dx\n",
    "$$\n",
    "\n",
    "and \n",
    "\n",
    "$$\n",
    "\\frac{\\Gamma(\\alpha + \\beta)}{\\Gamma(\\alpha) \\Gamma(\\beta)} = \\frac{1}{B(\\alpha, \\beta)} \\ ,\n",
    "$$\n",
    "\n",
    "$B$ being the  beta function.\n",
    "\n",
    "The beta distribution is the [conjugate prior](conjugate-dist.ipynb) of the Bernoulli distribution for which $\\alpha$ and $\\beta$ are the prior number of observations $x=1$ and $x=0$. When $\\alpha=\\beta=1$, it reduces to a uniform distribution."
   ]
  },
  {
   "cell_type": "markdown",
   "metadata": {},
   "source": [
    "## Student's t"
   ]
  },
  {
   "cell_type": "markdown",
   "metadata": {},
   "source": [
    "*Student* was the pseudonym of W Gosset. \n",
    "\n",
    "This distribution arises when estimating the mean of a normally distributed population in situations where the sample size is mall and the population standard deviation is unknown. Hence, it describes a sample extracted from said population: the larger the sample, the more the distribution resembles the normal.\n",
    "\n",
    "$$\n",
    "p(x; \\nu) = \\frac{\\Gamma(\\frac{\\nu+1}{2})}{\\sqrt{\\nu \\pi} \\Gamma(\\frac{\\nu}{2})}  \\Big(1 + \\frac{x^2}{\\nu}\\Big)^{-\\frac{\\nu+1}{2}}\n",
    "$$\n",
    "\n",
    "$\\nu$ is the number of degrees of freedom. For $\\nu=1$, the distribution reduces to the  Cauchy distribution."
   ]
  },
  {
   "cell_type": "markdown",
   "metadata": {},
   "source": [
    "## Chi-squared, $\\chi^2$"
   ]
  },
  {
   "cell_type": "markdown",
   "metadata": {},
   "source": [
    "It is the distribution (with $k$ degrees of freedom) of the sum of the squares of $k$ independent standardised normal variables $z_i$ (that is, normal variables standardised to have mean 0 and standard deviation 1). It is a special case of the $\\Gamma$ distribution.\n",
    "\n",
    "$$\n",
    "Q = \\sum_1^k z_i^2 \\ ,\n",
    "$$\n",
    "\n",
    "So \n",
    "\n",
    "$$\n",
    "Q \\sim \\chi^2(k)\n",
    "$$\n",
    "\n",
    "and depends on the degrees of freedom."
   ]
  },
  {
   "cell_type": "markdown",
   "metadata": {},
   "source": [
    "## Poisson"
   ]
  },
  {
   "cell_type": "markdown",
   "metadata": {},
   "source": [
    "It is a discrete probability distribution and describes the probability that a given number of events occurs in a fixed interval of time and/or space if they are known to occur with a certain (known) average rate and independently of the time and/or distance of the last event.\n",
    "\n",
    "\\textit{An example}: the mail you receive per day. Suppose on average you receive 4 mails per day. Assuming that the events ``mail arriving'' are indenepdent, then it is reasonable to assume that the number ofnails received each day follows a Poissonian. \n",
    "\n",
    "\\textit{Another example}: the number of people in a queue at a given time of the day.\n",
    "\n",
    "\\textit{Another example}: the number of goals scored in a world cup match.\n",
    "\n",
    "$$\n",
    "P(k) = \\frac{\\lambda^k e^{-\\lambda}}{k!} \\ ,\n",
    "$$\n",
    "\n",
    "where $k = 0, 1, 2, \\ldots$ is the number of events in an interval and $\\lambda$ the average number of such events in the same interval.\n",
    "\n",
    "The expected value is \n",
    "\n",
    "$$\n",
    "\\mathbb{E}[k] = \\sum_{k \\geq 0}  k \\frac{\\lambda^k e^{-\\lambda}}{k!} = \\sum_{k \\geq 1} \\lambda \\frac{\\lambda^{k-1}}{(k-1)!} e^{-\\lambda} = \\lambda e^{-\\lambda} e^\\lambda = \\lambda\n",
    "$$\n",
    "\n",
    "and the variance is\n",
    "\n",
    "$$\n",
    "\\begin{align*}\n",
    "Var[k] &= \\mathbb{E}[k^2] - \\mathbb{E}^2[k] \\\\\n",
    "         &=  \\sum^{k \\geq 0} k^2 \\frac{\\lambda^k e^{-\\lambda}}{k!} - \\lambda^2 \\\\\n",
    "         &= \\lambda e^{-\\lambda} \\sum_{k \\geq 1} k \\frac{\\lambda^{k-1}}{(k-1)!} - \\lambda^2 \\\\\n",
    "         &= \\lambda e^{-\\lambda} \\Big[ \\sum_{k \\geq 1} (k-1) \\frac{\\lambda^{k-1}}{(k-1)!} + \\sum_{k \\geq 1} \\frac{\\lambda^{k-1}}{(k-1)!} - \\lambda^2 \\Big] \\\\\n",
    "         &= \\lambda \\Big[ \\lambda \\sum_{k \\geq 2} \\frac{1}{(k-2)!} \\lambda^{k-2} + \\sum_{k \\geq 1} \\frac{1}{(k-1)!} \\lambda^{k-1} - \\lambda^2 \\Big] \\\\\n",
    "         &= \\lambda e^{-\\lambda} \\Big[ \\lambda \\sum_{k \\geq 2} \\frac{1}{(k-2)!} \\lambda^{k-2} + \\sum_{k \\geq 1} \\frac{1}{(k-1)!} \\lambda^{k-1}  - \\lambda^2\\Big] \\\\\n",
    "         &= \\lambda e^{-\\lambda} \\Big[ \\lambda \\sum_{i \\geq 0} \\frac{1}{i!}\\lambda^i + \\sum_{j \\geq 0} \\frac{1}{j!} \\lambda^j \\Big] \\\\\n",
    "         &= \\lambda e^{- \\lambda} [\\lambda e^\\lambda  + e^\\lambda] - \\lambda^2 = \\lambda^2 + \\lambda - \\lambda^2 = \\lambda\n",
    "\\end{align*}\n",
    "$$\n",
    "\n",
    "So expected value and variance are the same and equal to the average rate of occurrence.\n",
    "\n",
    "The Poisson distribution is appropriate if \n",
    "\n",
    "* the events are independent, _i.e._, the occurrence of one of them does not affect the probability that a second one occurs;\n",
    "* the rate st which events occur is constant;\n",
    "* two events cannot occur at the same time;\n",
    "* the probability of an occurrence of an event in an interval is proportional to the length of the interval\n",
    "\n",
    "**Example**\n",
    "\n",
    "Knowing from historical data that the average number of goals scored in a world football match is 2.5, and because the phenomenon can be described by a Poissonian, we have\n",
    "\n",
    "$$\n",
    "P(k \\text{ goals in a match}) = \\frac{2.5^k e^{-2.5}}{k!} \\ ,\n",
    "$$\n",
    "\n",
    "and we can calculate the expected value and teh variance as above.\n",
    "\n",
    "An example of a phenomenon which violates the Poissonian assumptions would be the number of students arriving at the student union: the rate is not constant (as it is low during class time and high between class times) and events are co-occurring (students tend to come in groups)."
   ]
  },
  {
   "cell_type": "markdown",
   "metadata": {},
   "source": [
    "## Dirichlet"
   ]
  },
  {
   "cell_type": "markdown",
   "metadata": {},
   "source": [
    "It is a continuous multivariate distribution and the generalisation of the beta distribution, typically denoted as $\\text{Dir}(\\alpha)$, $\\alpha$ being the parametrising vector such that $\\alpha = (\\alpha_i), \\alpha_i \\in \\mathbb{R}, \\alpha_i > 0 \\forall i$. It is usually used as a prior in bayesian statistics as it is the conjugate prior of the multinomial distribution.\n",
    "\n",
    "A Dirichlet distribution of order $k \\geq 2$ with parameters $\\alpha_i$ has the probability density function\n",
    "\n",
    "$$\n",
    "f(x_1, \\ldots, x_k; \\alpha_1, \\ldots, \\alpha_k) = \\frac{1}{B(\\alpha)} \\Pi_{i=1}^k x_i^{\\alpha_i - 1}\n",
    "$$\n",
    "\n",
    "with $B$ being the beta function in $\\mathbb{R}^{k-1}$ and $x$ living on the open $(k-1)$-dimensional simplex $x_1, \\ldots, x_k > 0$, $x_1 + \\ldots + x_{k-1} < 1$, $x_k = 1 - x_1 - \\ldots - x_{k-1}$."
   ]
  },
  {
   "cell_type": "code",
   "execution_count": null,
   "metadata": {
    "collapsed": true
   },
   "outputs": [],
   "source": []
  }
 ],
 "metadata": {
  "kernelspec": {
   "display_name": "Python 2",
   "language": "python",
   "name": "python2"
  },
  "language_info": {
   "codemirror_mode": {
    "name": "ipython",
    "version": 2
   },
   "file_extension": ".py",
   "mimetype": "text/x-python",
   "name": "python",
   "nbconvert_exporter": "python",
   "pygments_lexer": "ipython2",
   "version": "2.7.10"
  }
 },
 "nbformat": 4,
 "nbformat_minor": 2
}
