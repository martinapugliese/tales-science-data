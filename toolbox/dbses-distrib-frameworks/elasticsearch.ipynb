{
 "cells": [
  {
   "cell_type": "code",
   "execution_count": 1,
   "metadata": {},
   "outputs": [
    {
     "name": "stderr",
     "output_type": "stream",
     "text": [
      "ERROR:root:File `'../../common/import_all.py'` not found.\n"
     ]
    },
    {
     "ename": "ModuleNotFoundError",
     "evalue": "No module named 'common.setup_notebook'",
     "output_type": "error",
     "traceback": [
      "\u001b[0;31m---------------------------------------------------------------------------\u001b[0m",
      "\u001b[0;31mModuleNotFoundError\u001b[0m                       Traceback (most recent call last)",
      "\u001b[0;32m<ipython-input-1-a2a90a01ab23>\u001b[0m in \u001b[0;36m<module>\u001b[0;34m\u001b[0m\n\u001b[1;32m      1\u001b[0m \u001b[0mget_ipython\u001b[0m\u001b[0;34m(\u001b[0m\u001b[0;34m)\u001b[0m\u001b[0;34m.\u001b[0m\u001b[0mrun_line_magic\u001b[0m\u001b[0;34m(\u001b[0m\u001b[0;34m'run'\u001b[0m\u001b[0;34m,\u001b[0m \u001b[0;34m'../../common/import_all.py'\u001b[0m\u001b[0;34m)\u001b[0m\u001b[0;34m\u001b[0m\u001b[0;34m\u001b[0m\u001b[0m\n\u001b[1;32m      2\u001b[0m \u001b[0;34m\u001b[0m\u001b[0m\n\u001b[0;32m----> 3\u001b[0;31m \u001b[0;32mfrom\u001b[0m \u001b[0mcommon\u001b[0m\u001b[0;34m.\u001b[0m\u001b[0msetup_notebook\u001b[0m \u001b[0;32mimport\u001b[0m \u001b[0mset_css_style\u001b[0m\u001b[0;34m,\u001b[0m \u001b[0msetup_matplotlib\u001b[0m\u001b[0;34m,\u001b[0m \u001b[0mconfig_ipython\u001b[0m\u001b[0;34m\u001b[0m\u001b[0;34m\u001b[0m\u001b[0m\n\u001b[0m\u001b[1;32m      4\u001b[0m \u001b[0mconfig_ipython\u001b[0m\u001b[0;34m(\u001b[0m\u001b[0;34m)\u001b[0m\u001b[0;34m\u001b[0m\u001b[0;34m\u001b[0m\u001b[0m\n\u001b[1;32m      5\u001b[0m \u001b[0msetup_matplotlib\u001b[0m\u001b[0;34m(\u001b[0m\u001b[0;34m)\u001b[0m\u001b[0;34m\u001b[0m\u001b[0;34m\u001b[0m\u001b[0m\n",
      "\u001b[0;31mModuleNotFoundError\u001b[0m: No module named 'common.setup_notebook'"
     ]
    }
   ],
   "source": [
    "%run ../../common/import_all.py\n",
    "\n",
    "from common.setup_notebook import set_css_style, setup_matplotlib, config_ipython\n",
    "config_ipython()\n",
    "setup_matplotlib()\n",
    "set_css_style()"
   ]
  },
  {
   "cell_type": "markdown",
   "metadata": {},
   "source": [
    "# Elasticsearch"
   ]
  },
  {
   "cell_type": "markdown",
   "metadata": {},
   "source": [
    "## What is\n",
    "\n",
    "Elasticsearch is a text search and analytics engine, open-source, written in Java and built on top of [*Apache Lucene*](http://lucene.apache.org/core/), an information retrieval library. What is presented here is reworked from [the official docs](https://www.elastic.co). \n",
    "\n",
    "The components of Elasticsearch are components are\n",
    "\n",
    "* a *cluster*: the collection of *nodes* (single servers)\n",
    "* an *index*: the collection of *documents* (sort of a database)\n",
    "* a *type*: sort of tables\n",
    "\n",
    "Elasticsearch is meant to be used to query for documents matching a given custom query. At the core of its model it uses [TF-IDF features](../../nlp/concepts/text-num-feats.ipynb#The-TF-IDF-framework) and a boolean model where retrieval is based on whether the document contains or not the search query. It employs a practical *scoring function* (from Lucene, the scores of each matching term are combined) to calculate relevance, so that, for query $q$ and document $d$ ($t$ is a term in the query),\n",
    "\n",
    "$$\n",
    "\\text{score}(q, d) = \\mathcal{N} c(q, d) \\sum_{t \\in q} [\\text{tf}(t, d) \\ \\text{idf}(t)^2 \\ b \\  n(t, d)] \\ ,\n",
    "$$\n",
    "\n",
    "where\n",
    "\n",
    "* $c(q, d)$ is used to reward documents that contain a higher percentage of the query terms, it multiplies the score with the number of matching terms, divided by the total number of terms in the query\n",
    "\n",
    "* $\\text{tf}$ and $\\text{idf}$ are the term-frequency and the inverse document frequency, respectively; $\\text{idf}$ is squared because it appears both in $q$ and in $d$ for term $t$\n",
    "\n",
    "* $b$ is a boost factor applied to the query\n",
    "\n",
    "* $n(t, d)$ is the field-length norm: the shorter the field in which the term appears, the higher the weight, so that it is based on the number of terms in the field:\n",
    "\n",
    "$$\n",
    "n(t, d) = \\frac{1}{\\sqrt{n_t}} \\ , \\ n_t \\ \\ \\text{being the number of terms}\n",
    "$$\n",
    "\n",
    "* $\\mathcal{N}$ is a normalisation factor:\n",
    "\n",
    "$$\n",
    "\\mathcal{N} = \\frac{1}{[\\sum_{t \\in q} [\\text{idf}(t)^2 b]]^2} \\ ,\n",
    "$$\n",
    "\n",
    "Elasticsearch implements the practical scoring function in a vector space model to compute similarities between the query and the documents, so to retrieve the most relevant ones."
   ]
  },
  {
   "cell_type": "markdown",
   "metadata": {},
   "source": [
    "## An example\n",
    "\n",
    "<img src=\"../../imgs/happyhyppo.jpg\" width=\"400\" align=\"left\" style=\"margin:0px 50px\"/>\n",
    "\n",
    "Suppose we have the query \"happy hyppopothamus\"  and a corpus of three documents which we want to score against the it to retrieve the best matching one. The query string has term weights (the TF-IDF features) [2,5] and the documents are\n",
    "\n",
    "1. I am happy in the summer, [2, 0]\n",
    "2. After summer I am a hyppopothamus, [0,5]\n",
    "3. The happy hyppopothamus laughs, [2, 5]\n",
    "\n",
    "The figure illustrates each document in the space of the two terms of query. Obviously, the document matching the query better is the third one, as it simply contains both terms.\n",
    "\n",
    "We've seen above how the mechanism of scoring works in theory. In practice, Lucene uses the conceptual scoring formula, which sort of embeds a cosine similarity to score the match between a query and a document:\n",
    "\n",
    "$$\n",
    "\\text{score}(q, d) = c(q, d) b_q(q) \\frac{\\bar v(q) \\bar v(d)}{|\\bar v(q)|} \\mathcal{N}_l(d) b_d(d) \\ ,\n",
    "$$\n",
    "\n",
    "where\n",
    "\n",
    "* $b_q$ is the boost for the query, set from the start\n",
    "* $\\mathcal{N}_l$ is the normalisation by the document length\n",
    "* $b_d$ is the boost for the document, known from the start\n",
    "* c(q, d) as described above\n",
    "\n",
    "In the vector space model, the cosine similarity between the query and the document would be\n",
    "\n",
    "$$\n",
    "\\frac{\\bar v(q) \\bar v(d)}{|\\bar v(q)| |\\bar v(d)|} \\ ,\n",
    "$$\n",
    "\n",
    "but instead of $|\\bar v(q)| $, the normalisation factor is used, which normalises the document by its length. This is because otherwise you would lose information on the length of the document and this would be a problem for those documents containing no duplicated paragraphs. \n",
    "\n",
    "The vectors $\\bar v$ are built from the weights, which are the TF-IDF values (see figure). The conceptual scoring function from above is efficiently implemented through the practical scoring function."
   ]
  },
  {
   "cell_type": "code",
   "execution_count": null,
   "metadata": {
    "collapsed": true,
    "jupyter": {
     "outputs_hidden": true
    }
   },
   "outputs": [],
   "source": []
  }
 ],
 "metadata": {
  "kernelspec": {
   "display_name": "Python 3",
   "language": "python",
   "name": "python3"
  },
  "language_info": {
   "codemirror_mode": {
    "name": "ipython",
    "version": 3
   },
   "file_extension": ".py",
   "mimetype": "text/x-python",
   "name": "python",
   "nbconvert_exporter": "python",
   "pygments_lexer": "ipython3",
   "version": "3.7.6"
  }
 },
 "nbformat": 4,
 "nbformat_minor": 4
}
